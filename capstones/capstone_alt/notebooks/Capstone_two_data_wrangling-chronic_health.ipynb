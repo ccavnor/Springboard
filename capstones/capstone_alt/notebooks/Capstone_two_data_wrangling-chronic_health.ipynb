{
 "cells": [
  {
   "cell_type": "code",
   "execution_count": 127,
   "id": "3b625f0d",
   "metadata": {},
   "outputs": [],
   "source": [
    "import pandas as pd\n",
    "import numpy as np\n",
    "import matplotlib.pyplot as plt\n",
    "import seaborn as sns\n",
    "import os, sys\n",
    "import sys\n",
    "\n",
    "sys.path.append(os.path.realpath('../src/data/'))\n",
    "from sb_utils import save_file\n",
    "\n",
    "from pandas_profiling import ProfileReport"
   ]
  },
  {
   "cell_type": "markdown",
   "id": "e066c72e",
   "metadata": {},
   "source": [
    "Data for this notebook is sourced from https://healthdata.gov/dataset/U-S-Chronic-Disease-Indicators-CDI-/67sp-6x8j.\n",
    "\n",
    "A helpful UI that contains definitions for the data (as well as a graphical drill down display) is [here](https://nccd.cdc.gov/cdi/rdPage.aspx?rdReport=DPH_CDI.ExploreByTopic&islTopic=AST&islYear=9999&go=GO)\n",
    "\n",
    "The data dictionary is available [here](https://www.cdc.gov/cdi/definitions/index.html)"
   ]
  },
  {
   "cell_type": "markdown",
   "id": "9795bc17",
   "metadata": {},
   "source": [
    "### Import Data\n",
    "Import the raw data from `data > raw` and write it out to the `data > interim directory`. We'll work from the interim folder."
   ]
  },
  {
   "cell_type": "code",
   "execution_count": 2,
   "id": "9368223b",
   "metadata": {},
   "outputs": [
    {
     "name": "stderr",
     "output_type": "stream",
     "text": [
      "/var/folders/cb/c8ztm6y15njfh93260_j14j80000gn/T/ipykernel_60679/3307417281.py:2: DtypeWarning: Columns (10) have mixed types. Specify dtype option on import or set low_memory=False.\n",
      "  cdi_df = pd.read_csv('../data/raw/U.S._Chronic_Disease_Indicators__CDI_.csv')\n"
     ]
    },
    {
     "data": {
      "text/plain": [
       "(1082328, 34)"
      ]
     },
     "execution_count": 2,
     "metadata": {},
     "output_type": "execute_result"
    }
   ],
   "source": [
    "# the supplied CSV data file is the raw_data directory\n",
    "cdi_df = pd.read_csv('../data/raw/U.S._Chronic_Disease_Indicators__CDI_.csv')\n",
    "cdi_df.shape"
   ]
  },
  {
   "cell_type": "markdown",
   "id": "990256ae",
   "metadata": {},
   "source": [
    "### Audit Data"
   ]
  },
  {
   "cell_type": "markdown",
   "id": "80041196",
   "metadata": {},
   "source": [
    "As a first step, lets look at a sample of data"
   ]
  },
  {
   "cell_type": "code",
   "execution_count": 4,
   "id": "8769d416",
   "metadata": {
    "scrolled": false
   },
   "outputs": [
    {
     "data": {
      "text/html": [
       "<div>\n",
       "<style scoped>\n",
       "    .dataframe tbody tr th:only-of-type {\n",
       "        vertical-align: middle;\n",
       "    }\n",
       "\n",
       "    .dataframe tbody tr th {\n",
       "        vertical-align: top;\n",
       "    }\n",
       "\n",
       "    .dataframe thead th {\n",
       "        text-align: right;\n",
       "    }\n",
       "</style>\n",
       "<table border=\"1\" class=\"dataframe\">\n",
       "  <thead>\n",
       "    <tr style=\"text-align: right;\">\n",
       "      <th></th>\n",
       "      <th>YearStart</th>\n",
       "      <th>YearEnd</th>\n",
       "      <th>LocationAbbr</th>\n",
       "      <th>LocationDesc</th>\n",
       "      <th>DataSource</th>\n",
       "      <th>Topic</th>\n",
       "      <th>Question</th>\n",
       "      <th>Response</th>\n",
       "      <th>DataValueUnit</th>\n",
       "      <th>DataValueType</th>\n",
       "      <th>...</th>\n",
       "      <th>LocationID</th>\n",
       "      <th>TopicID</th>\n",
       "      <th>QuestionID</th>\n",
       "      <th>DataValueTypeID</th>\n",
       "      <th>StratificationCategoryID1</th>\n",
       "      <th>StratificationID1</th>\n",
       "      <th>StratificationCategoryID2</th>\n",
       "      <th>StratificationID2</th>\n",
       "      <th>StratificationCategoryID3</th>\n",
       "      <th>StratificationID3</th>\n",
       "    </tr>\n",
       "  </thead>\n",
       "  <tbody>\n",
       "    <tr>\n",
       "      <th>604008</th>\n",
       "      <td>2011</td>\n",
       "      <td>2011</td>\n",
       "      <td>GU</td>\n",
       "      <td>Guam</td>\n",
       "      <td>BRFSS</td>\n",
       "      <td>Cardiovascular Disease</td>\n",
       "      <td>Pneumococcal vaccination among noninstitutiona...</td>\n",
       "      <td>NaN</td>\n",
       "      <td>%</td>\n",
       "      <td>Crude Prevalence</td>\n",
       "      <td>...</td>\n",
       "      <td>66</td>\n",
       "      <td>CVD</td>\n",
       "      <td>CVD10_1</td>\n",
       "      <td>CRDPREV</td>\n",
       "      <td>GENDER</td>\n",
       "      <td>GENM</td>\n",
       "      <td>NaN</td>\n",
       "      <td>NaN</td>\n",
       "      <td>NaN</td>\n",
       "      <td>NaN</td>\n",
       "    </tr>\n",
       "    <tr>\n",
       "      <th>71887</th>\n",
       "      <td>2010</td>\n",
       "      <td>2010</td>\n",
       "      <td>ID</td>\n",
       "      <td>Idaho</td>\n",
       "      <td>NVSS</td>\n",
       "      <td>Cardiovascular Disease</td>\n",
       "      <td>Mortality from total cardiovascular diseases</td>\n",
       "      <td>NaN</td>\n",
       "      <td>NaN</td>\n",
       "      <td>Number</td>\n",
       "      <td>...</td>\n",
       "      <td>16</td>\n",
       "      <td>CVD</td>\n",
       "      <td>CVD1_1</td>\n",
       "      <td>NMBR</td>\n",
       "      <td>RACE</td>\n",
       "      <td>HIS</td>\n",
       "      <td>NaN</td>\n",
       "      <td>NaN</td>\n",
       "      <td>NaN</td>\n",
       "      <td>NaN</td>\n",
       "    </tr>\n",
       "    <tr>\n",
       "      <th>503798</th>\n",
       "      <td>2015</td>\n",
       "      <td>2015</td>\n",
       "      <td>AR</td>\n",
       "      <td>Arkansas</td>\n",
       "      <td>BRFSS</td>\n",
       "      <td>Nutrition, Physical Activity, and Weight Status</td>\n",
       "      <td>Overweight or obesity among adults aged &gt;= 18 ...</td>\n",
       "      <td>NaN</td>\n",
       "      <td>%</td>\n",
       "      <td>Age-adjusted Prevalence</td>\n",
       "      <td>...</td>\n",
       "      <td>5</td>\n",
       "      <td>NPAW</td>\n",
       "      <td>NPAW2_1</td>\n",
       "      <td>AGEADJPREV</td>\n",
       "      <td>RACE</td>\n",
       "      <td>BLK</td>\n",
       "      <td>NaN</td>\n",
       "      <td>NaN</td>\n",
       "      <td>NaN</td>\n",
       "      <td>NaN</td>\n",
       "    </tr>\n",
       "    <tr>\n",
       "      <th>152756</th>\n",
       "      <td>2014</td>\n",
       "      <td>2014</td>\n",
       "      <td>MT</td>\n",
       "      <td>Montana</td>\n",
       "      <td>NVSS</td>\n",
       "      <td>Chronic Obstructive Pulmonary Disease</td>\n",
       "      <td>Mortality with chronic obstructive pulmonary d...</td>\n",
       "      <td>NaN</td>\n",
       "      <td>cases per 100,000</td>\n",
       "      <td>Age-adjusted Rate</td>\n",
       "      <td>...</td>\n",
       "      <td>30</td>\n",
       "      <td>COPD</td>\n",
       "      <td>COPD1_2</td>\n",
       "      <td>AGEADJRATE</td>\n",
       "      <td>RACE</td>\n",
       "      <td>AIAN</td>\n",
       "      <td>NaN</td>\n",
       "      <td>NaN</td>\n",
       "      <td>NaN</td>\n",
       "      <td>NaN</td>\n",
       "    </tr>\n",
       "    <tr>\n",
       "      <th>315722</th>\n",
       "      <td>2009</td>\n",
       "      <td>2013</td>\n",
       "      <td>CO</td>\n",
       "      <td>Colorado</td>\n",
       "      <td>Statewide central cancer registries</td>\n",
       "      <td>Cancer</td>\n",
       "      <td>Cancer of the colon and rectum (colorectal), i...</td>\n",
       "      <td>NaN</td>\n",
       "      <td>per 100,000</td>\n",
       "      <td>Average Annual Age-adjusted Rate</td>\n",
       "      <td>...</td>\n",
       "      <td>8</td>\n",
       "      <td>CAN</td>\n",
       "      <td>CAN7_1</td>\n",
       "      <td>AVGANNAGEADJRATE</td>\n",
       "      <td>GENDER</td>\n",
       "      <td>GENF</td>\n",
       "      <td>NaN</td>\n",
       "      <td>NaN</td>\n",
       "      <td>NaN</td>\n",
       "      <td>NaN</td>\n",
       "    </tr>\n",
       "    <tr>\n",
       "      <th>748814</th>\n",
       "      <td>2016</td>\n",
       "      <td>2016</td>\n",
       "      <td>MS</td>\n",
       "      <td>Mississippi</td>\n",
       "      <td>BRFSS</td>\n",
       "      <td>Diabetes</td>\n",
       "      <td>Glycosylated hemoglobin measurement among adul...</td>\n",
       "      <td>NaN</td>\n",
       "      <td>%</td>\n",
       "      <td>Age-adjusted Prevalence</td>\n",
       "      <td>...</td>\n",
       "      <td>28</td>\n",
       "      <td>DIA</td>\n",
       "      <td>DIA6_0</td>\n",
       "      <td>AGEADJPREV</td>\n",
       "      <td>RACE</td>\n",
       "      <td>OTH</td>\n",
       "      <td>NaN</td>\n",
       "      <td>NaN</td>\n",
       "      <td>NaN</td>\n",
       "      <td>NaN</td>\n",
       "    </tr>\n",
       "    <tr>\n",
       "      <th>312590</th>\n",
       "      <td>2011</td>\n",
       "      <td>2015</td>\n",
       "      <td>CA</td>\n",
       "      <td>California</td>\n",
       "      <td>Death Certificate</td>\n",
       "      <td>Cancer</td>\n",
       "      <td>Cancer of the female cervix, mortality</td>\n",
       "      <td>NaN</td>\n",
       "      <td>NaN</td>\n",
       "      <td>Average Annual Number</td>\n",
       "      <td>...</td>\n",
       "      <td>6</td>\n",
       "      <td>CAN</td>\n",
       "      <td>CAN6_2</td>\n",
       "      <td>AVGANNNMBR</td>\n",
       "      <td>GENDER</td>\n",
       "      <td>GENF</td>\n",
       "      <td>NaN</td>\n",
       "      <td>NaN</td>\n",
       "      <td>NaN</td>\n",
       "      <td>NaN</td>\n",
       "    </tr>\n",
       "    <tr>\n",
       "      <th>821976</th>\n",
       "      <td>2016</td>\n",
       "      <td>2016</td>\n",
       "      <td>NJ</td>\n",
       "      <td>New Jersey</td>\n",
       "      <td>BRFSS</td>\n",
       "      <td>Tobacco</td>\n",
       "      <td>Current smoking among adults aged &gt;= 18 years</td>\n",
       "      <td>NaN</td>\n",
       "      <td>%</td>\n",
       "      <td>Age-adjusted Prevalence</td>\n",
       "      <td>...</td>\n",
       "      <td>34</td>\n",
       "      <td>TOB</td>\n",
       "      <td>TOB1_2</td>\n",
       "      <td>AGEADJPREV</td>\n",
       "      <td>RACE</td>\n",
       "      <td>WHT</td>\n",
       "      <td>NaN</td>\n",
       "      <td>NaN</td>\n",
       "      <td>NaN</td>\n",
       "      <td>NaN</td>\n",
       "    </tr>\n",
       "    <tr>\n",
       "      <th>996322</th>\n",
       "      <td>2011</td>\n",
       "      <td>2011</td>\n",
       "      <td>WA</td>\n",
       "      <td>Washington</td>\n",
       "      <td>BRFSS</td>\n",
       "      <td>Arthritis</td>\n",
       "      <td>Severe joint pain due to arthritis among adult...</td>\n",
       "      <td>NaN</td>\n",
       "      <td>%</td>\n",
       "      <td>Age-adjusted Prevalence</td>\n",
       "      <td>...</td>\n",
       "      <td>53</td>\n",
       "      <td>ART</td>\n",
       "      <td>ART2_2</td>\n",
       "      <td>AGEADJPREV</td>\n",
       "      <td>GENDER</td>\n",
       "      <td>GENF</td>\n",
       "      <td>NaN</td>\n",
       "      <td>NaN</td>\n",
       "      <td>NaN</td>\n",
       "      <td>NaN</td>\n",
       "    </tr>\n",
       "    <tr>\n",
       "      <th>889659</th>\n",
       "      <td>2018</td>\n",
       "      <td>2018</td>\n",
       "      <td>PR</td>\n",
       "      <td>Puerto Rico</td>\n",
       "      <td>BRFSS</td>\n",
       "      <td>Alcohol</td>\n",
       "      <td>Heavy drinking among adults aged &gt;= 18 years</td>\n",
       "      <td>NaN</td>\n",
       "      <td>%</td>\n",
       "      <td>Age-adjusted Prevalence</td>\n",
       "      <td>...</td>\n",
       "      <td>72</td>\n",
       "      <td>ALC</td>\n",
       "      <td>ALC5_1</td>\n",
       "      <td>AGEADJPREV</td>\n",
       "      <td>RACE</td>\n",
       "      <td>HIS</td>\n",
       "      <td>NaN</td>\n",
       "      <td>NaN</td>\n",
       "      <td>NaN</td>\n",
       "      <td>NaN</td>\n",
       "    </tr>\n",
       "  </tbody>\n",
       "</table>\n",
       "<p>10 rows × 34 columns</p>\n",
       "</div>"
      ],
      "text/plain": [
       "        YearStart  YearEnd LocationAbbr LocationDesc  \\\n",
       "604008       2011     2011           GU         Guam   \n",
       "71887        2010     2010           ID        Idaho   \n",
       "503798       2015     2015           AR     Arkansas   \n",
       "152756       2014     2014           MT      Montana   \n",
       "315722       2009     2013           CO     Colorado   \n",
       "748814       2016     2016           MS  Mississippi   \n",
       "312590       2011     2015           CA   California   \n",
       "821976       2016     2016           NJ   New Jersey   \n",
       "996322       2011     2011           WA   Washington   \n",
       "889659       2018     2018           PR  Puerto Rico   \n",
       "\n",
       "                                 DataSource  \\\n",
       "604008                                BRFSS   \n",
       "71887                                  NVSS   \n",
       "503798                                BRFSS   \n",
       "152756                                 NVSS   \n",
       "315722  Statewide central cancer registries   \n",
       "748814                                BRFSS   \n",
       "312590                    Death Certificate   \n",
       "821976                                BRFSS   \n",
       "996322                                BRFSS   \n",
       "889659                                BRFSS   \n",
       "\n",
       "                                                  Topic  \\\n",
       "604008                           Cardiovascular Disease   \n",
       "71887                            Cardiovascular Disease   \n",
       "503798  Nutrition, Physical Activity, and Weight Status   \n",
       "152756            Chronic Obstructive Pulmonary Disease   \n",
       "315722                                           Cancer   \n",
       "748814                                         Diabetes   \n",
       "312590                                           Cancer   \n",
       "821976                                          Tobacco   \n",
       "996322                                        Arthritis   \n",
       "889659                                          Alcohol   \n",
       "\n",
       "                                                 Question  Response  \\\n",
       "604008  Pneumococcal vaccination among noninstitutiona...       NaN   \n",
       "71887        Mortality from total cardiovascular diseases       NaN   \n",
       "503798  Overweight or obesity among adults aged >= 18 ...       NaN   \n",
       "152756  Mortality with chronic obstructive pulmonary d...       NaN   \n",
       "315722  Cancer of the colon and rectum (colorectal), i...       NaN   \n",
       "748814  Glycosylated hemoglobin measurement among adul...       NaN   \n",
       "312590             Cancer of the female cervix, mortality       NaN   \n",
       "821976      Current smoking among adults aged >= 18 years       NaN   \n",
       "996322  Severe joint pain due to arthritis among adult...       NaN   \n",
       "889659       Heavy drinking among adults aged >= 18 years       NaN   \n",
       "\n",
       "            DataValueUnit                     DataValueType  ... LocationID  \\\n",
       "604008                  %                  Crude Prevalence  ...         66   \n",
       "71887                 NaN                            Number  ...         16   \n",
       "503798                  %           Age-adjusted Prevalence  ...          5   \n",
       "152756  cases per 100,000                 Age-adjusted Rate  ...         30   \n",
       "315722        per 100,000  Average Annual Age-adjusted Rate  ...          8   \n",
       "748814                  %           Age-adjusted Prevalence  ...         28   \n",
       "312590                NaN             Average Annual Number  ...          6   \n",
       "821976                  %           Age-adjusted Prevalence  ...         34   \n",
       "996322                  %           Age-adjusted Prevalence  ...         53   \n",
       "889659                  %           Age-adjusted Prevalence  ...         72   \n",
       "\n",
       "        TopicID QuestionID   DataValueTypeID  StratificationCategoryID1  \\\n",
       "604008      CVD    CVD10_1           CRDPREV                     GENDER   \n",
       "71887       CVD     CVD1_1              NMBR                       RACE   \n",
       "503798     NPAW    NPAW2_1        AGEADJPREV                       RACE   \n",
       "152756     COPD    COPD1_2        AGEADJRATE                       RACE   \n",
       "315722      CAN     CAN7_1  AVGANNAGEADJRATE                     GENDER   \n",
       "748814      DIA     DIA6_0        AGEADJPREV                       RACE   \n",
       "312590      CAN     CAN6_2        AVGANNNMBR                     GENDER   \n",
       "821976      TOB     TOB1_2        AGEADJPREV                       RACE   \n",
       "996322      ART     ART2_2        AGEADJPREV                     GENDER   \n",
       "889659      ALC     ALC5_1        AGEADJPREV                       RACE   \n",
       "\n",
       "        StratificationID1 StratificationCategoryID2 StratificationID2  \\\n",
       "604008               GENM                       NaN               NaN   \n",
       "71887                 HIS                       NaN               NaN   \n",
       "503798                BLK                       NaN               NaN   \n",
       "152756               AIAN                       NaN               NaN   \n",
       "315722               GENF                       NaN               NaN   \n",
       "748814                OTH                       NaN               NaN   \n",
       "312590               GENF                       NaN               NaN   \n",
       "821976                WHT                       NaN               NaN   \n",
       "996322               GENF                       NaN               NaN   \n",
       "889659                HIS                       NaN               NaN   \n",
       "\n",
       "        StratificationCategoryID3  StratificationID3  \n",
       "604008                        NaN                NaN  \n",
       "71887                         NaN                NaN  \n",
       "503798                        NaN                NaN  \n",
       "152756                        NaN                NaN  \n",
       "315722                        NaN                NaN  \n",
       "748814                        NaN                NaN  \n",
       "312590                        NaN                NaN  \n",
       "821976                        NaN                NaN  \n",
       "996322                        NaN                NaN  \n",
       "889659                        NaN                NaN  \n",
       "\n",
       "[10 rows x 34 columns]"
      ]
     },
     "execution_count": 4,
     "metadata": {},
     "output_type": "execute_result"
    }
   ],
   "source": [
    "cdi_df.sample(10)"
   ]
  },
  {
   "cell_type": "code",
   "execution_count": 5,
   "id": "58759f3c",
   "metadata": {
    "scrolled": false
   },
   "outputs": [
    {
     "name": "stdout",
     "output_type": "stream",
     "text": [
      "<class 'pandas.core.frame.DataFrame'>\n",
      "RangeIndex: 1082328 entries, 0 to 1082327\n",
      "Data columns (total 34 columns):\n",
      " #   Column                     Non-Null Count    Dtype  \n",
      "---  ------                     --------------    -----  \n",
      " 0   YearStart                  1082328 non-null  int64  \n",
      " 1   YearEnd                    1082328 non-null  int64  \n",
      " 2   LocationAbbr               1082328 non-null  object \n",
      " 3   LocationDesc               1082328 non-null  object \n",
      " 4   DataSource                 1082328 non-null  object \n",
      " 5   Topic                      1082328 non-null  object \n",
      " 6   Question                   1082328 non-null  object \n",
      " 7   Response                   0 non-null        float64\n",
      " 8   DataValueUnit              942938 non-null   object \n",
      " 9   DataValueType              1082328 non-null  object \n",
      " 10  DataValue                  729235 non-null   object \n",
      " 11  DataValueAlt               727192 non-null   float64\n",
      " 12  DataValueFootnoteSymbol    366753 non-null   object \n",
      " 13  DatavalueFootnote          366753 non-null   object \n",
      " 14  LowConfidenceLimit         617251 non-null   float64\n",
      " 15  HighConfidenceLimit        617251 non-null   float64\n",
      " 16  StratificationCategory1    1082328 non-null  object \n",
      " 17  Stratification1            1082328 non-null  object \n",
      " 18  StratificationCategory2    0 non-null        float64\n",
      " 19  Stratification2            0 non-null        float64\n",
      " 20  StratificationCategory3    0 non-null        float64\n",
      " 21  Stratification3            0 non-null        float64\n",
      " 22  GeoLocation                1073132 non-null  object \n",
      " 23  ResponseID                 0 non-null        float64\n",
      " 24  LocationID                 1082328 non-null  int64  \n",
      " 25  TopicID                    1082328 non-null  object \n",
      " 26  QuestionID                 1082328 non-null  object \n",
      " 27  DataValueTypeID            1082328 non-null  object \n",
      " 28  StratificationCategoryID1  1082328 non-null  object \n",
      " 29  StratificationID1          1082328 non-null  object \n",
      " 30  StratificationCategoryID2  0 non-null        float64\n",
      " 31  StratificationID2          0 non-null        float64\n",
      " 32  StratificationCategoryID3  0 non-null        float64\n",
      " 33  StratificationID3          0 non-null        float64\n",
      "dtypes: float64(13), int64(3), object(18)\n",
      "memory usage: 280.8+ MB\n"
     ]
    }
   ],
   "source": [
    "cdi_df.info()"
   ]
  },
  {
   "cell_type": "markdown",
   "id": "1e8c52ef",
   "metadata": {},
   "source": [
    "Get rid of columns that have no data (Nan)"
   ]
  },
  {
   "cell_type": "code",
   "execution_count": 7,
   "id": "acaf3e34",
   "metadata": {
    "scrolled": true
   },
   "outputs": [],
   "source": [
    "# 34 columns to start, removing 10\n",
    "cdi_df.drop(inplace=True, columns=['Response', 'StratificationCategory2', 'Stratification2', 'StratificationCategory3', 'Stratification3', 'ResponseID', 'StratificationCategoryID2', 'StratificationID2', 'StratificationCategoryID3', 'StratificationID3'])\n",
    "assert cdi_df.shape[1] == 24\n",
    "\n",
    "# Also drop the following columns: 'DataValueFootnoteSymbol','DatavalueFootnote','LowConfidenceLimit','HighConfidenceLimit'.\n",
    "# We don't need references for this analysis, and CDC documentation says that all data are \n",
    "# within the 95% confidence interval\n",
    "cdi_df.drop(inplace=True, columns=['DataValueFootnoteSymbol','DatavalueFootnote','LowConfidenceLimit','HighConfidenceLimit'])\n",
    "assert cdi_df.shape[1] == 20"
   ]
  },
  {
   "cell_type": "markdown",
   "id": "f22f9b23",
   "metadata": {},
   "source": [
    "This dataset is being considered for prediction in conjunction with a Kaggle derived dataset from the EPA on air pollution measures. Therefore, we are only really concerned about outcomes that might be associated with pollution. The topics covered in this dataset are:"
   ]
  },
  {
   "cell_type": "markdown",
   "id": "177b8ef0",
   "metadata": {},
   "source": [
    "We are only concerned with US states, excluding commonwealths and such. Lets see what we have:"
   ]
  },
  {
   "cell_type": "code",
   "execution_count": 8,
   "id": "90600667",
   "metadata": {},
   "outputs": [
    {
     "data": {
      "text/plain": [
       "LocationAbbr  LocationDesc        \n",
       "WI            Wisconsin               20608\n",
       "NY            New York                20608\n",
       "NJ            New Jersey              20602\n",
       "NE            Nebraska                20570\n",
       "IA            Iowa                    20562\n",
       "VT            Vermont                 20542\n",
       "WA            Washington              20509\n",
       "NM            New Mexico              20509\n",
       "MI            Michigan                20474\n",
       "HI            Hawaii                  20472\n",
       "CO            Colorado                20469\n",
       "WV            West Virginia           20459\n",
       "AR            Arkansas                20436\n",
       "NC            North Carolina          20433\n",
       "KY            Kentucky                20427\n",
       "UT            Utah                    20404\n",
       "OR            Oregon                  20404\n",
       "MA            Massachusetts           20401\n",
       "MD            Maryland                20398\n",
       "FL            Florida                 20363\n",
       "RI            Rhode Island            20360\n",
       "NV            Nevada                  20328\n",
       "AZ            Arizona                 20323\n",
       "SC            South Carolina          20322\n",
       "SD            South Dakota            20316\n",
       "MO            Missouri                20215\n",
       "AK            Alaska                  20209\n",
       "PA            Pennsylvania            20209\n",
       "IL            Illinois                20209\n",
       "DE            Delaware                20203\n",
       "ME            Maine                   20194\n",
       "WY            Wyoming                 20192\n",
       "OK            Oklahoma                20180\n",
       "NH            New Hampshire           20156\n",
       "MS            Mississippi             20152\n",
       "CT            Connecticut             20134\n",
       "CA            California              20124\n",
       "VA            Virginia                20110\n",
       "AL            Alabama                 20110\n",
       "LA            Louisiana               20105\n",
       "TN            Tennessee               20104\n",
       "MN            Minnesota               20075\n",
       "OH            Ohio                    20040\n",
       "KS            Kansas                  20040\n",
       "GA            Georgia                 20032\n",
       "MT            Montana                 20025\n",
       "ND            North Dakota            20022\n",
       "TX            Texas                   20005\n",
       "DC            District of Columbia    19988\n",
       "IN            Indiana                 19959\n",
       "ID            Idaho                   19929\n",
       "PR            Puerto Rico             13256\n",
       "VI            Virgin Islands          12962\n",
       "GU            Guam                    12894\n",
       "US            United States            9196\n",
       "dtype: int64"
      ]
     },
     "execution_count": 8,
     "metadata": {},
     "output_type": "execute_result"
    }
   ],
   "source": [
    "cdi_df.loc[:,('LocationAbbr','LocationDesc')].value_counts()"
   ]
  },
  {
   "cell_type": "markdown",
   "id": "b5da0af2",
   "metadata": {},
   "source": [
    "Lets remove the following locations from the dataframe:\n",
    "PR (Puerto Rico), VI (Virgin Islands), GU (Guam)\n",
    "Lets also remove the 'United States' (US) data - its a compilation of all the individual locations. But since we are throwing out non-states, this data is meaningless."
   ]
  },
  {
   "cell_type": "code",
   "execution_count": 9,
   "id": "5770b70a",
   "metadata": {},
   "outputs": [
    {
     "data": {
      "text/plain": [
       "LocationAbbr  LocationDesc        \n",
       "NY            New York                20608\n",
       "WI            Wisconsin               20608\n",
       "NJ            New Jersey              20602\n",
       "NE            Nebraska                20570\n",
       "IA            Iowa                    20562\n",
       "VT            Vermont                 20542\n",
       "NM            New Mexico              20509\n",
       "WA            Washington              20509\n",
       "MI            Michigan                20474\n",
       "HI            Hawaii                  20472\n",
       "CO            Colorado                20469\n",
       "WV            West Virginia           20459\n",
       "AR            Arkansas                20436\n",
       "NC            North Carolina          20433\n",
       "KY            Kentucky                20427\n",
       "OR            Oregon                  20404\n",
       "UT            Utah                    20404\n",
       "MA            Massachusetts           20401\n",
       "MD            Maryland                20398\n",
       "FL            Florida                 20363\n",
       "RI            Rhode Island            20360\n",
       "NV            Nevada                  20328\n",
       "AZ            Arizona                 20323\n",
       "SC            South Carolina          20322\n",
       "SD            South Dakota            20316\n",
       "MO            Missouri                20215\n",
       "PA            Pennsylvania            20209\n",
       "IL            Illinois                20209\n",
       "AK            Alaska                  20209\n",
       "DE            Delaware                20203\n",
       "ME            Maine                   20194\n",
       "WY            Wyoming                 20192\n",
       "OK            Oklahoma                20180\n",
       "NH            New Hampshire           20156\n",
       "MS            Mississippi             20152\n",
       "CT            Connecticut             20134\n",
       "CA            California              20124\n",
       "AL            Alabama                 20110\n",
       "VA            Virginia                20110\n",
       "LA            Louisiana               20105\n",
       "TN            Tennessee               20104\n",
       "MN            Minnesota               20075\n",
       "OH            Ohio                    20040\n",
       "KS            Kansas                  20040\n",
       "GA            Georgia                 20032\n",
       "MT            Montana                 20025\n",
       "ND            North Dakota            20022\n",
       "TX            Texas                   20005\n",
       "DC            District of Columbia    19988\n",
       "IN            Indiana                 19959\n",
       "ID            Idaho                   19929\n",
       "dtype: int64"
      ]
     },
     "execution_count": 9,
     "metadata": {},
     "output_type": "execute_result"
    }
   ],
   "source": [
    "remove_rows = ['PR','VI','GU','US']\n",
    "cdi_df = cdi_df.loc[~cdi_df['LocationAbbr'].isin(remove_rows), :]\n",
    "cdi_df.loc[:,('LocationAbbr','LocationDesc')].value_counts()"
   ]
  },
  {
   "cell_type": "code",
   "execution_count": 10,
   "id": "6e5eff29",
   "metadata": {},
   "outputs": [
    {
     "data": {
      "text/plain": [
       "array(['Cardiovascular Disease', 'Asthma', 'Alcohol', 'Tobacco',\n",
       "       'Overarching Conditions', 'Chronic Kidney Disease', 'Diabetes',\n",
       "       'Reproductive Health', 'Cancer', 'Arthritis', 'Oral Health',\n",
       "       'Chronic Obstructive Pulmonary Disease',\n",
       "       'Nutrition, Physical Activity, and Weight Status', 'Older Adults',\n",
       "       'Disability', 'Mental Health', 'Immunization'], dtype=object)"
      ]
     },
     "execution_count": 10,
     "metadata": {},
     "output_type": "execute_result"
    }
   ],
   "source": [
    "cdi_df.Topic.unique()"
   ]
  },
  {
   "cell_type": "markdown",
   "id": "2ceed35e",
   "metadata": {},
   "source": [
    "Of these, we are definitely interested in 'Asthma' and 'Chronic Obstructive Pulmonary Disease' (aka COPD) topics. Other interesting columns might be 'Cardiovascular Disease', 'Overarching Conditions', 'Cancer', 'Tobacco' (which must be examined for correlation to cardiopulmonary disease). 'Older Adults' might be interesting too. But lets remove rows associated with the other topics before we explore these."
   ]
  },
  {
   "cell_type": "markdown",
   "id": "2c4319bd",
   "metadata": {},
   "source": [
    "First though, define a function for pruning rows from the dataframe. It looks as if we will be doing a bunch of that:"
   ]
  },
  {
   "cell_type": "code",
   "execution_count": 11,
   "id": "bcc862b8",
   "metadata": {},
   "outputs": [],
   "source": [
    "# pass in dataframe, the column to target, and the rows to keep.\n",
    "# returns the pruned dataframe\n",
    "def prune_rows(df=None, col=None, keep_rows=[]):\n",
    "    '''Remove all except keep_rows from column col'''\n",
    "    assert df.shape[0] > 0\n",
    "    assert col != None\n",
    "    assert len(keep_rows) > 0\n",
    "    return df.loc[df[col].isin(keep_rows), :]"
   ]
  },
  {
   "cell_type": "code",
   "execution_count": 12,
   "id": "32d0cbfd",
   "metadata": {},
   "outputs": [],
   "source": [
    "nrows = cdi_df.shape[0]\n",
    "keep_topics = ['Asthma','Chronic Obstructive Pulmonary Disease','Cardiovascular Disease','Overarching Conditions','Cancer','Tobacco','Older Adults']\n",
    "cdi_df = prune_rows(cdi_df, 'Topic', keep_topics)\n",
    "assert cdi_df.shape[0] < nrows"
   ]
  },
  {
   "cell_type": "markdown",
   "id": "089e65d8",
   "metadata": {},
   "source": [
    "There are also YearStart and YearEnd columns. They could be collapsed if the start year is always equal to the end year. Let's define some functions to check this."
   ]
  },
  {
   "cell_type": "code",
   "execution_count": 20,
   "id": "40fe174d",
   "metadata": {},
   "outputs": [],
   "source": [
    "def is_year(start_date: int, end_date: int) -> bool:\n",
    "    '''Returns true when start and end dates are the same. False otherwise.'''\n",
    "    return True if (start_date == end_date) else False"
   ]
  },
  {
   "cell_type": "code",
   "execution_count": 21,
   "id": "e3fd6277",
   "metadata": {},
   "outputs": [],
   "source": [
    "# vector implementation of function for speed (see https://towardsdatascience.com/apply-function-to-pandas-dataframe-rows-76df74165ee4)\n",
    "def check_year(df):\n",
    "    return np.vectorize(is_year)(\n",
    "        df['YearStart'],\n",
    "        df['YearEnd']\n",
    "      )"
   ]
  },
  {
   "cell_type": "code",
   "execution_count": 73,
   "id": "74a9a6e0",
   "metadata": {},
   "outputs": [
    {
     "data": {
      "text/plain": [
       "False"
      ]
     },
     "execution_count": 73,
     "metadata": {},
     "output_type": "execute_result"
    }
   ],
   "source": [
    "check_year(cdi_df).all()"
   ]
  },
  {
   "cell_type": "markdown",
   "id": "d4b967ff",
   "metadata": {},
   "source": [
    "So at least some topics have multi-year ranges. Lets find out which ones:"
   ]
  },
  {
   "cell_type": "code",
   "execution_count": 23,
   "id": "6ed17ded",
   "metadata": {},
   "outputs": [],
   "source": [
    "def multi_year_topics(df=None, col='Topic'):\n",
    "    '''Returns a set of topics (or specified column) for the given dataframe that have multi-year ranges'''\n",
    "    assert df.shape[0] > 0 \n",
    "    topics = set()\n",
    "    check = check_year(df)\n",
    "    for i in range(len(check)):\n",
    "        if check[i] == False:\n",
    "            topics.add(df.iloc[i,:][col])\n",
    "    return topics"
   ]
  },
  {
   "cell_type": "code",
   "execution_count": 74,
   "id": "6fdbd93b",
   "metadata": {},
   "outputs": [
    {
     "data": {
      "text/plain": [
       "{'Cancer', 'Overarching Conditions'}"
      ]
     },
     "execution_count": 74,
     "metadata": {},
     "output_type": "execute_result"
    }
   ],
   "source": [
    "multi_year_topics(cdi_df)"
   ]
  },
  {
   "cell_type": "markdown",
   "id": "05042e89",
   "metadata": {},
   "source": [
    "We'll explore these as we partition the dataset below."
   ]
  },
  {
   "cell_type": "markdown",
   "id": "b3f1ecd7",
   "metadata": {},
   "source": [
    "## Summary"
   ]
  },
  {
   "cell_type": "markdown",
   "id": "94ab88e0",
   "metadata": {},
   "source": [
    "## Dataset partitioning\n",
    "We are going to break our dataset into seperate datasets based on topics that we want to explore. This allows us to confine our wrangling efforts to the topic at hand. At the end, we may decide to throw out some topics."
   ]
  },
  {
   "cell_type": "markdown",
   "id": "506bad80",
   "metadata": {},
   "source": [
    "### Asthma"
   ]
  },
  {
   "cell_type": "markdown",
   "id": "e632a2ce",
   "metadata": {},
   "source": [
    "#### Question"
   ]
  },
  {
   "cell_type": "markdown",
   "id": "33f670b6",
   "metadata": {},
   "source": [
    "Lets look into the Questions for the asthma topic to prune rows where the question is not pertainant"
   ]
  },
  {
   "cell_type": "code",
   "execution_count": 13,
   "id": "d4f91c62",
   "metadata": {},
   "outputs": [
    {
     "data": {
      "text/plain": [
       "array(['Asthma mortality rate', 'Hospitalizations for asthma',\n",
       "       'Emergency department visit rate for asthma',\n",
       "       'Asthma prevalence among women aged 18-44 years',\n",
       "       'Influenza vaccination among noninstitutionalized adults aged 18-64 years with asthma',\n",
       "       'Influenza vaccination among noninstitutionalized adults aged >= 65 years with asthma',\n",
       "       'Pneumococcal vaccination among noninstitutionalized adults aged >= 65 years with asthma',\n",
       "       'Pneumococcal vaccination among noninstitutionalized adults aged 18-64 years with asthma',\n",
       "       'Current asthma prevalence among adults aged >= 18 years'],\n",
       "      dtype=object)"
      ]
     },
     "execution_count": 13,
     "metadata": {},
     "output_type": "execute_result"
    }
   ],
   "source": [
    "cdi_df[cdi_df['Topic'] == 'Asthma']['Question'].unique()"
   ]
  },
  {
   "cell_type": "markdown",
   "id": "1dde4e36",
   "metadata": {},
   "source": [
    "It looks like only 'Asthma mortality rate', 'Hospitalizations for asthma', 'Emergency department visit rate for asthma' and 'Current asthma prevalence among adults aged >= 18 years' rows are general to keep as indicators for Asthma. We'll prune the others."
   ]
  },
  {
   "cell_type": "code",
   "execution_count": 14,
   "id": "58ac6d64",
   "metadata": {
    "scrolled": false
   },
   "outputs": [
    {
     "data": {
      "text/html": [
       "<div>\n",
       "<style scoped>\n",
       "    .dataframe tbody tr th:only-of-type {\n",
       "        vertical-align: middle;\n",
       "    }\n",
       "\n",
       "    .dataframe tbody tr th {\n",
       "        vertical-align: top;\n",
       "    }\n",
       "\n",
       "    .dataframe thead th {\n",
       "        text-align: right;\n",
       "    }\n",
       "</style>\n",
       "<table border=\"1\" class=\"dataframe\">\n",
       "  <thead>\n",
       "    <tr style=\"text-align: right;\">\n",
       "      <th></th>\n",
       "      <th>YearStart</th>\n",
       "      <th>YearEnd</th>\n",
       "      <th>LocationAbbr</th>\n",
       "      <th>LocationDesc</th>\n",
       "      <th>DataSource</th>\n",
       "      <th>Topic</th>\n",
       "      <th>Question</th>\n",
       "      <th>DataValueUnit</th>\n",
       "      <th>DataValueType</th>\n",
       "      <th>DataValue</th>\n",
       "      <th>DataValueAlt</th>\n",
       "      <th>StratificationCategory1</th>\n",
       "      <th>Stratification1</th>\n",
       "      <th>GeoLocation</th>\n",
       "      <th>LocationID</th>\n",
       "      <th>TopicID</th>\n",
       "      <th>QuestionID</th>\n",
       "      <th>DataValueTypeID</th>\n",
       "      <th>StratificationCategoryID1</th>\n",
       "      <th>StratificationID1</th>\n",
       "    </tr>\n",
       "  </thead>\n",
       "  <tbody>\n",
       "    <tr>\n",
       "      <th>175328</th>\n",
       "      <td>2016</td>\n",
       "      <td>2016</td>\n",
       "      <td>NH</td>\n",
       "      <td>New Hampshire</td>\n",
       "      <td>NVSS</td>\n",
       "      <td>Asthma</td>\n",
       "      <td>Asthma mortality rate</td>\n",
       "      <td>NaN</td>\n",
       "      <td>Number</td>\n",
       "      <td>NaN</td>\n",
       "      <td>NaN</td>\n",
       "      <td>Gender</td>\n",
       "      <td>Male</td>\n",
       "      <td>POINT (-71.50036091999965 43.65595011300047)</td>\n",
       "      <td>33</td>\n",
       "      <td>AST</td>\n",
       "      <td>AST4_1</td>\n",
       "      <td>NMBR</td>\n",
       "      <td>GENDER</td>\n",
       "      <td>GENM</td>\n",
       "    </tr>\n",
       "    <tr>\n",
       "      <th>953768</th>\n",
       "      <td>2013</td>\n",
       "      <td>2013</td>\n",
       "      <td>UT</td>\n",
       "      <td>Utah</td>\n",
       "      <td>BRFSS</td>\n",
       "      <td>Asthma</td>\n",
       "      <td>Current asthma prevalence among adults aged &gt;=...</td>\n",
       "      <td>%</td>\n",
       "      <td>Age-adjusted Prevalence</td>\n",
       "      <td>NaN</td>\n",
       "      <td>NaN</td>\n",
       "      <td>Race/Ethnicity</td>\n",
       "      <td>Multiracial, non-Hispanic</td>\n",
       "      <td>POINT (-111.58713063499971 39.360700171000474)</td>\n",
       "      <td>49</td>\n",
       "      <td>AST</td>\n",
       "      <td>AST1_1</td>\n",
       "      <td>AGEADJPREV</td>\n",
       "      <td>RACE</td>\n",
       "      <td>MRC</td>\n",
       "    </tr>\n",
       "    <tr>\n",
       "      <th>122202</th>\n",
       "      <td>2016</td>\n",
       "      <td>2016</td>\n",
       "      <td>MI</td>\n",
       "      <td>Michigan</td>\n",
       "      <td>NVSS</td>\n",
       "      <td>Asthma</td>\n",
       "      <td>Asthma mortality rate</td>\n",
       "      <td>NaN</td>\n",
       "      <td>Number</td>\n",
       "      <td>NaN</td>\n",
       "      <td>NaN</td>\n",
       "      <td>Race/Ethnicity</td>\n",
       "      <td>Hispanic</td>\n",
       "      <td>POINT (-84.71439026999968 44.6613195430005)</td>\n",
       "      <td>26</td>\n",
       "      <td>AST</td>\n",
       "      <td>AST4_1</td>\n",
       "      <td>NMBR</td>\n",
       "      <td>RACE</td>\n",
       "      <td>HIS</td>\n",
       "    </tr>\n",
       "    <tr>\n",
       "      <th>111725</th>\n",
       "      <td>2014</td>\n",
       "      <td>2014</td>\n",
       "      <td>MA</td>\n",
       "      <td>Massachusetts</td>\n",
       "      <td>SEDD; SID</td>\n",
       "      <td>Asthma</td>\n",
       "      <td>Hospitalizations for asthma</td>\n",
       "      <td>cases per 10,000</td>\n",
       "      <td>Age-adjusted Rate</td>\n",
       "      <td>NaN</td>\n",
       "      <td>NaN</td>\n",
       "      <td>Race/Ethnicity</td>\n",
       "      <td>White, non-Hispanic</td>\n",
       "      <td>POINT (-72.08269067499964 42.27687047000046)</td>\n",
       "      <td>25</td>\n",
       "      <td>AST</td>\n",
       "      <td>AST3_1</td>\n",
       "      <td>AGEADJRATE</td>\n",
       "      <td>RACE</td>\n",
       "      <td>WHT</td>\n",
       "    </tr>\n",
       "    <tr>\n",
       "      <th>119471</th>\n",
       "      <td>2011</td>\n",
       "      <td>2011</td>\n",
       "      <td>ME</td>\n",
       "      <td>Maine</td>\n",
       "      <td>NVSS</td>\n",
       "      <td>Asthma</td>\n",
       "      <td>Asthma mortality rate</td>\n",
       "      <td>NaN</td>\n",
       "      <td>Number</td>\n",
       "      <td>NaN</td>\n",
       "      <td>NaN</td>\n",
       "      <td>Overall</td>\n",
       "      <td>Overall</td>\n",
       "      <td>POINT (-68.98503133599962 45.254228894000505)</td>\n",
       "      <td>23</td>\n",
       "      <td>AST</td>\n",
       "      <td>AST4_1</td>\n",
       "      <td>NMBR</td>\n",
       "      <td>OVERALL</td>\n",
       "      <td>OVR</td>\n",
       "    </tr>\n",
       "  </tbody>\n",
       "</table>\n",
       "</div>"
      ],
      "text/plain": [
       "        YearStart  YearEnd LocationAbbr   LocationDesc DataSource   Topic  \\\n",
       "175328       2016     2016           NH  New Hampshire       NVSS  Asthma   \n",
       "953768       2013     2013           UT           Utah      BRFSS  Asthma   \n",
       "122202       2016     2016           MI       Michigan       NVSS  Asthma   \n",
       "111725       2014     2014           MA  Massachusetts  SEDD; SID  Asthma   \n",
       "119471       2011     2011           ME          Maine       NVSS  Asthma   \n",
       "\n",
       "                                                 Question     DataValueUnit  \\\n",
       "175328                              Asthma mortality rate               NaN   \n",
       "953768  Current asthma prevalence among adults aged >=...                 %   \n",
       "122202                              Asthma mortality rate               NaN   \n",
       "111725                        Hospitalizations for asthma  cases per 10,000   \n",
       "119471                              Asthma mortality rate               NaN   \n",
       "\n",
       "                  DataValueType DataValue  DataValueAlt  \\\n",
       "175328                   Number       NaN           NaN   \n",
       "953768  Age-adjusted Prevalence       NaN           NaN   \n",
       "122202                   Number       NaN           NaN   \n",
       "111725        Age-adjusted Rate       NaN           NaN   \n",
       "119471                   Number       NaN           NaN   \n",
       "\n",
       "       StratificationCategory1            Stratification1  \\\n",
       "175328                  Gender                       Male   \n",
       "953768          Race/Ethnicity  Multiracial, non-Hispanic   \n",
       "122202          Race/Ethnicity                   Hispanic   \n",
       "111725          Race/Ethnicity        White, non-Hispanic   \n",
       "119471                 Overall                    Overall   \n",
       "\n",
       "                                           GeoLocation  LocationID TopicID  \\\n",
       "175328    POINT (-71.50036091999965 43.65595011300047)          33     AST   \n",
       "953768  POINT (-111.58713063499971 39.360700171000474)          49     AST   \n",
       "122202     POINT (-84.71439026999968 44.6613195430005)          26     AST   \n",
       "111725    POINT (-72.08269067499964 42.27687047000046)          25     AST   \n",
       "119471   POINT (-68.98503133599962 45.254228894000505)          23     AST   \n",
       "\n",
       "       QuestionID DataValueTypeID StratificationCategoryID1 StratificationID1  \n",
       "175328     AST4_1            NMBR                    GENDER              GENM  \n",
       "953768     AST1_1      AGEADJPREV                      RACE               MRC  \n",
       "122202     AST4_1            NMBR                      RACE               HIS  \n",
       "111725     AST3_1      AGEADJRATE                      RACE               WHT  \n",
       "119471     AST4_1            NMBR                   OVERALL               OVR  "
      ]
     },
     "execution_count": 14,
     "metadata": {},
     "output_type": "execute_result"
    }
   ],
   "source": [
    "keep_questions = ['Asthma mortality rate', 'Hospitalizations for asthma', 'Emergency department visit rate for asthma', 'Current asthma prevalence among adults aged >= 18 years']\n",
    "# can't use prune_rows because of equivalency check\n",
    "asthma_df = cdi_df[cdi_df.Topic == 'Asthma'].loc[cdi_df.Question.isin(keep_questions), :]\n",
    "assert len(asthma_df['Question'].unique()) == 4\n",
    "asthma_df.sample(5)"
   ]
  },
  {
   "cell_type": "markdown",
   "id": "1b329986",
   "metadata": {},
   "source": [
    "#### StratificationCategory1"
   ]
  },
  {
   "cell_type": "markdown",
   "id": "9179f150",
   "metadata": {},
   "source": [
    "The stratification category (StratificationCategory1) column shows partitioning of the data by different factors:"
   ]
  },
  {
   "cell_type": "code",
   "execution_count": 15,
   "id": "9c478c98",
   "metadata": {},
   "outputs": [
    {
     "data": {
      "text/plain": [
       "array(['Race/Ethnicity', 'Overall', 'Gender'], dtype=object)"
      ]
     },
     "execution_count": 15,
     "metadata": {},
     "output_type": "execute_result"
    }
   ],
   "source": [
    "asthma_df['StratificationCategory1'].unique()"
   ]
  },
  {
   "cell_type": "markdown",
   "id": "e8652eb8",
   "metadata": {},
   "source": [
    "We are only interested in the 'Overall' category, so prune other rows."
   ]
  },
  {
   "cell_type": "code",
   "execution_count": 16,
   "id": "a83f8cfc",
   "metadata": {},
   "outputs": [
    {
     "data": {
      "text/html": [
       "<div>\n",
       "<style scoped>\n",
       "    .dataframe tbody tr th:only-of-type {\n",
       "        vertical-align: middle;\n",
       "    }\n",
       "\n",
       "    .dataframe tbody tr th {\n",
       "        vertical-align: top;\n",
       "    }\n",
       "\n",
       "    .dataframe thead th {\n",
       "        text-align: right;\n",
       "    }\n",
       "</style>\n",
       "<table border=\"1\" class=\"dataframe\">\n",
       "  <thead>\n",
       "    <tr style=\"text-align: right;\">\n",
       "      <th></th>\n",
       "      <th>YearStart</th>\n",
       "      <th>YearEnd</th>\n",
       "      <th>LocationAbbr</th>\n",
       "      <th>LocationDesc</th>\n",
       "      <th>DataSource</th>\n",
       "      <th>Topic</th>\n",
       "      <th>Question</th>\n",
       "      <th>DataValueUnit</th>\n",
       "      <th>DataValueType</th>\n",
       "      <th>DataValue</th>\n",
       "      <th>DataValueAlt</th>\n",
       "      <th>StratificationCategory1</th>\n",
       "      <th>Stratification1</th>\n",
       "      <th>GeoLocation</th>\n",
       "      <th>LocationID</th>\n",
       "      <th>TopicID</th>\n",
       "      <th>QuestionID</th>\n",
       "      <th>DataValueTypeID</th>\n",
       "      <th>StratificationCategoryID1</th>\n",
       "      <th>StratificationID1</th>\n",
       "    </tr>\n",
       "  </thead>\n",
       "  <tbody>\n",
       "    <tr>\n",
       "      <th>730466</th>\n",
       "      <td>2019</td>\n",
       "      <td>2019</td>\n",
       "      <td>MN</td>\n",
       "      <td>Minnesota</td>\n",
       "      <td>BRFSS</td>\n",
       "      <td>Asthma</td>\n",
       "      <td>Current asthma prevalence among adults aged &gt;=...</td>\n",
       "      <td>%</td>\n",
       "      <td>Crude Prevalence</td>\n",
       "      <td>8.3</td>\n",
       "      <td>8.3</td>\n",
       "      <td>Overall</td>\n",
       "      <td>Overall</td>\n",
       "      <td>POINT (-94.79420050299967 46.35564873600049)</td>\n",
       "      <td>27</td>\n",
       "      <td>AST</td>\n",
       "      <td>AST1_1</td>\n",
       "      <td>CRDPREV</td>\n",
       "      <td>OVERALL</td>\n",
       "      <td>OVR</td>\n",
       "    </tr>\n",
       "    <tr>\n",
       "      <th>286053</th>\n",
       "      <td>2015</td>\n",
       "      <td>2015</td>\n",
       "      <td>WV</td>\n",
       "      <td>West Virginia</td>\n",
       "      <td>SEDD; SID</td>\n",
       "      <td>Asthma</td>\n",
       "      <td>Hospitalizations for asthma</td>\n",
       "      <td>NaN</td>\n",
       "      <td>Number</td>\n",
       "      <td>1341</td>\n",
       "      <td>1341.0</td>\n",
       "      <td>Overall</td>\n",
       "      <td>Overall</td>\n",
       "      <td>POINT (-80.71264013499967 38.66551020200046)</td>\n",
       "      <td>54</td>\n",
       "      <td>AST</td>\n",
       "      <td>AST3_1</td>\n",
       "      <td>NMBR</td>\n",
       "      <td>OVERALL</td>\n",
       "      <td>OVR</td>\n",
       "    </tr>\n",
       "    <tr>\n",
       "      <th>904924</th>\n",
       "      <td>2012</td>\n",
       "      <td>2012</td>\n",
       "      <td>SD</td>\n",
       "      <td>South Dakota</td>\n",
       "      <td>BRFSS</td>\n",
       "      <td>Asthma</td>\n",
       "      <td>Current asthma prevalence among adults aged &gt;=...</td>\n",
       "      <td>%</td>\n",
       "      <td>Crude Prevalence</td>\n",
       "      <td>7.5</td>\n",
       "      <td>7.5</td>\n",
       "      <td>Overall</td>\n",
       "      <td>Overall</td>\n",
       "      <td>POINT (-100.3735306369997 44.353130053000484)</td>\n",
       "      <td>46</td>\n",
       "      <td>AST</td>\n",
       "      <td>AST1_1</td>\n",
       "      <td>CRDPREV</td>\n",
       "      <td>OVERALL</td>\n",
       "      <td>OVR</td>\n",
       "    </tr>\n",
       "    <tr>\n",
       "      <th>131274</th>\n",
       "      <td>2014</td>\n",
       "      <td>2014</td>\n",
       "      <td>MO</td>\n",
       "      <td>Missouri</td>\n",
       "      <td>NVSS</td>\n",
       "      <td>Asthma</td>\n",
       "      <td>Asthma mortality rate</td>\n",
       "      <td>cases per 1,000,000</td>\n",
       "      <td>Crude Rate</td>\n",
       "      <td>14.7</td>\n",
       "      <td>14.7</td>\n",
       "      <td>Overall</td>\n",
       "      <td>Overall</td>\n",
       "      <td>POINT (-92.56630005299968 38.635790776000476)</td>\n",
       "      <td>29</td>\n",
       "      <td>AST</td>\n",
       "      <td>AST4_1</td>\n",
       "      <td>CRDRATE</td>\n",
       "      <td>OVERALL</td>\n",
       "      <td>OVR</td>\n",
       "    </tr>\n",
       "    <tr>\n",
       "      <th>244646</th>\n",
       "      <td>2010</td>\n",
       "      <td>2010</td>\n",
       "      <td>TN</td>\n",
       "      <td>Tennessee</td>\n",
       "      <td>SEDD; SID</td>\n",
       "      <td>Asthma</td>\n",
       "      <td>Emergency department visit rate for asthma</td>\n",
       "      <td>cases per 10,000</td>\n",
       "      <td>Age-adjusted Rate</td>\n",
       "      <td>NaN</td>\n",
       "      <td>NaN</td>\n",
       "      <td>Overall</td>\n",
       "      <td>Overall</td>\n",
       "      <td>POINT (-85.77449091399967 35.68094058000048)</td>\n",
       "      <td>47</td>\n",
       "      <td>AST</td>\n",
       "      <td>AST2_1</td>\n",
       "      <td>AGEADJRATE</td>\n",
       "      <td>OVERALL</td>\n",
       "      <td>OVR</td>\n",
       "    </tr>\n",
       "  </tbody>\n",
       "</table>\n",
       "</div>"
      ],
      "text/plain": [
       "        YearStart  YearEnd LocationAbbr   LocationDesc DataSource   Topic  \\\n",
       "730466       2019     2019           MN      Minnesota      BRFSS  Asthma   \n",
       "286053       2015     2015           WV  West Virginia  SEDD; SID  Asthma   \n",
       "904924       2012     2012           SD   South Dakota      BRFSS  Asthma   \n",
       "131274       2014     2014           MO       Missouri       NVSS  Asthma   \n",
       "244646       2010     2010           TN      Tennessee  SEDD; SID  Asthma   \n",
       "\n",
       "                                                 Question  \\\n",
       "730466  Current asthma prevalence among adults aged >=...   \n",
       "286053                        Hospitalizations for asthma   \n",
       "904924  Current asthma prevalence among adults aged >=...   \n",
       "131274                              Asthma mortality rate   \n",
       "244646         Emergency department visit rate for asthma   \n",
       "\n",
       "              DataValueUnit      DataValueType DataValue  DataValueAlt  \\\n",
       "730466                    %   Crude Prevalence       8.3           8.3   \n",
       "286053                  NaN             Number      1341        1341.0   \n",
       "904924                    %   Crude Prevalence       7.5           7.5   \n",
       "131274  cases per 1,000,000         Crude Rate      14.7          14.7   \n",
       "244646     cases per 10,000  Age-adjusted Rate       NaN           NaN   \n",
       "\n",
       "       StratificationCategory1 Stratification1  \\\n",
       "730466                 Overall         Overall   \n",
       "286053                 Overall         Overall   \n",
       "904924                 Overall         Overall   \n",
       "131274                 Overall         Overall   \n",
       "244646                 Overall         Overall   \n",
       "\n",
       "                                          GeoLocation  LocationID TopicID  \\\n",
       "730466   POINT (-94.79420050299967 46.35564873600049)          27     AST   \n",
       "286053   POINT (-80.71264013499967 38.66551020200046)          54     AST   \n",
       "904924  POINT (-100.3735306369997 44.353130053000484)          46     AST   \n",
       "131274  POINT (-92.56630005299968 38.635790776000476)          29     AST   \n",
       "244646   POINT (-85.77449091399967 35.68094058000048)          47     AST   \n",
       "\n",
       "       QuestionID DataValueTypeID StratificationCategoryID1 StratificationID1  \n",
       "730466     AST1_1         CRDPREV                   OVERALL               OVR  \n",
       "286053     AST3_1            NMBR                   OVERALL               OVR  \n",
       "904924     AST1_1         CRDPREV                   OVERALL               OVR  \n",
       "131274     AST4_1         CRDRATE                   OVERALL               OVR  \n",
       "244646     AST2_1      AGEADJRATE                   OVERALL               OVR  "
      ]
     },
     "execution_count": 16,
     "metadata": {},
     "output_type": "execute_result"
    }
   ],
   "source": [
    "keep_categories = ['Overall']\n",
    "asthma_df = prune_rows(asthma_df, 'StratificationCategory1', keep_categories)\n",
    "assert len(asthma_df['StratificationCategory1'].unique()) == 1\n",
    "asthma_df.sample(5)"
   ]
  },
  {
   "cell_type": "markdown",
   "id": "c8cb496c",
   "metadata": {},
   "source": [
    "#### DataValueUnit"
   ]
  },
  {
   "cell_type": "markdown",
   "id": "7151bfaa",
   "metadata": {},
   "source": [
    "Lets also pare down the dataset to include only measures that are a percentage of per-capita residents of the state:"
   ]
  },
  {
   "cell_type": "code",
   "execution_count": 17,
   "id": "93383a78",
   "metadata": {},
   "outputs": [
    {
     "data": {
      "text/html": [
       "<div>\n",
       "<style scoped>\n",
       "    .dataframe tbody tr th:only-of-type {\n",
       "        vertical-align: middle;\n",
       "    }\n",
       "\n",
       "    .dataframe tbody tr th {\n",
       "        vertical-align: top;\n",
       "    }\n",
       "\n",
       "    .dataframe thead th {\n",
       "        text-align: right;\n",
       "    }\n",
       "</style>\n",
       "<table border=\"1\" class=\"dataframe\">\n",
       "  <thead>\n",
       "    <tr style=\"text-align: right;\">\n",
       "      <th></th>\n",
       "      <th>YearStart</th>\n",
       "      <th>YearEnd</th>\n",
       "      <th>LocationAbbr</th>\n",
       "      <th>LocationDesc</th>\n",
       "      <th>DataSource</th>\n",
       "      <th>Topic</th>\n",
       "      <th>Question</th>\n",
       "      <th>DataValueUnit</th>\n",
       "      <th>DataValueType</th>\n",
       "      <th>DataValue</th>\n",
       "      <th>DataValueAlt</th>\n",
       "      <th>StratificationCategory1</th>\n",
       "      <th>Stratification1</th>\n",
       "      <th>GeoLocation</th>\n",
       "      <th>LocationID</th>\n",
       "      <th>TopicID</th>\n",
       "      <th>QuestionID</th>\n",
       "      <th>DataValueTypeID</th>\n",
       "      <th>StratificationCategoryID1</th>\n",
       "      <th>StratificationID1</th>\n",
       "    </tr>\n",
       "  </thead>\n",
       "  <tbody>\n",
       "    <tr>\n",
       "      <th>640459</th>\n",
       "      <td>2018</td>\n",
       "      <td>2018</td>\n",
       "      <td>IN</td>\n",
       "      <td>Indiana</td>\n",
       "      <td>BRFSS</td>\n",
       "      <td>Asthma</td>\n",
       "      <td>Current asthma prevalence among adults aged &gt;=...</td>\n",
       "      <td>%</td>\n",
       "      <td>Age-adjusted Prevalence</td>\n",
       "      <td>9.9</td>\n",
       "      <td>9.9</td>\n",
       "      <td>Overall</td>\n",
       "      <td>Overall</td>\n",
       "      <td>POINT (-86.14996019399968 39.766910452000445)</td>\n",
       "      <td>18</td>\n",
       "      <td>AST</td>\n",
       "      <td>AST1_1</td>\n",
       "      <td>AGEADJPREV</td>\n",
       "      <td>OVERALL</td>\n",
       "      <td>OVR</td>\n",
       "    </tr>\n",
       "    <tr>\n",
       "      <th>583839</th>\n",
       "      <td>2017</td>\n",
       "      <td>2017</td>\n",
       "      <td>FL</td>\n",
       "      <td>Florida</td>\n",
       "      <td>BRFSS</td>\n",
       "      <td>Asthma</td>\n",
       "      <td>Current asthma prevalence among adults aged &gt;=...</td>\n",
       "      <td>%</td>\n",
       "      <td>Age-adjusted Prevalence</td>\n",
       "      <td>7.5</td>\n",
       "      <td>7.5</td>\n",
       "      <td>Overall</td>\n",
       "      <td>Overall</td>\n",
       "      <td>POINT (-81.92896053899966 28.932040377000476)</td>\n",
       "      <td>12</td>\n",
       "      <td>AST</td>\n",
       "      <td>AST1_1</td>\n",
       "      <td>AGEADJPREV</td>\n",
       "      <td>OVERALL</td>\n",
       "      <td>OVR</td>\n",
       "    </tr>\n",
       "    <tr>\n",
       "      <th>499510</th>\n",
       "      <td>2012</td>\n",
       "      <td>2012</td>\n",
       "      <td>AL</td>\n",
       "      <td>Alabama</td>\n",
       "      <td>BRFSS</td>\n",
       "      <td>Asthma</td>\n",
       "      <td>Current asthma prevalence among adults aged &gt;=...</td>\n",
       "      <td>%</td>\n",
       "      <td>Age-adjusted Prevalence</td>\n",
       "      <td>8.5</td>\n",
       "      <td>8.5</td>\n",
       "      <td>Overall</td>\n",
       "      <td>Overall</td>\n",
       "      <td>POINT (-86.63186076199969 32.84057112200048)</td>\n",
       "      <td>1</td>\n",
       "      <td>AST</td>\n",
       "      <td>AST1_1</td>\n",
       "      <td>AGEADJPREV</td>\n",
       "      <td>OVERALL</td>\n",
       "      <td>OVR</td>\n",
       "    </tr>\n",
       "    <tr>\n",
       "      <th>1020954</th>\n",
       "      <td>2011</td>\n",
       "      <td>2011</td>\n",
       "      <td>WY</td>\n",
       "      <td>Wyoming</td>\n",
       "      <td>BRFSS</td>\n",
       "      <td>Asthma</td>\n",
       "      <td>Current asthma prevalence among adults aged &gt;=...</td>\n",
       "      <td>%</td>\n",
       "      <td>Age-adjusted Prevalence</td>\n",
       "      <td>9.1</td>\n",
       "      <td>9.1</td>\n",
       "      <td>Overall</td>\n",
       "      <td>Overall</td>\n",
       "      <td>POINT (-108.10983035299967 43.23554134300048)</td>\n",
       "      <td>56</td>\n",
       "      <td>AST</td>\n",
       "      <td>AST1_1</td>\n",
       "      <td>AGEADJPREV</td>\n",
       "      <td>OVERALL</td>\n",
       "      <td>OVR</td>\n",
       "    </tr>\n",
       "    <tr>\n",
       "      <th>1061395</th>\n",
       "      <td>2020</td>\n",
       "      <td>2020</td>\n",
       "      <td>OH</td>\n",
       "      <td>Ohio</td>\n",
       "      <td>BRFSS</td>\n",
       "      <td>Asthma</td>\n",
       "      <td>Current asthma prevalence among adults aged &gt;=...</td>\n",
       "      <td>%</td>\n",
       "      <td>Age-adjusted Prevalence</td>\n",
       "      <td>10.0</td>\n",
       "      <td>10.0</td>\n",
       "      <td>Overall</td>\n",
       "      <td>Overall</td>\n",
       "      <td>POINT (-82.40426005599966 40.06021014100048)</td>\n",
       "      <td>39</td>\n",
       "      <td>AST</td>\n",
       "      <td>AST1_1</td>\n",
       "      <td>AGEADJPREV</td>\n",
       "      <td>OVERALL</td>\n",
       "      <td>OVR</td>\n",
       "    </tr>\n",
       "  </tbody>\n",
       "</table>\n",
       "</div>"
      ],
      "text/plain": [
       "         YearStart  YearEnd LocationAbbr LocationDesc DataSource   Topic  \\\n",
       "640459        2018     2018           IN      Indiana      BRFSS  Asthma   \n",
       "583839        2017     2017           FL      Florida      BRFSS  Asthma   \n",
       "499510        2012     2012           AL      Alabama      BRFSS  Asthma   \n",
       "1020954       2011     2011           WY      Wyoming      BRFSS  Asthma   \n",
       "1061395       2020     2020           OH         Ohio      BRFSS  Asthma   \n",
       "\n",
       "                                                  Question DataValueUnit  \\\n",
       "640459   Current asthma prevalence among adults aged >=...             %   \n",
       "583839   Current asthma prevalence among adults aged >=...             %   \n",
       "499510   Current asthma prevalence among adults aged >=...             %   \n",
       "1020954  Current asthma prevalence among adults aged >=...             %   \n",
       "1061395  Current asthma prevalence among adults aged >=...             %   \n",
       "\n",
       "                   DataValueType DataValue  DataValueAlt  \\\n",
       "640459   Age-adjusted Prevalence       9.9           9.9   \n",
       "583839   Age-adjusted Prevalence       7.5           7.5   \n",
       "499510   Age-adjusted Prevalence       8.5           8.5   \n",
       "1020954  Age-adjusted Prevalence       9.1           9.1   \n",
       "1061395  Age-adjusted Prevalence      10.0          10.0   \n",
       "\n",
       "        StratificationCategory1 Stratification1  \\\n",
       "640459                  Overall         Overall   \n",
       "583839                  Overall         Overall   \n",
       "499510                  Overall         Overall   \n",
       "1020954                 Overall         Overall   \n",
       "1061395                 Overall         Overall   \n",
       "\n",
       "                                           GeoLocation  LocationID TopicID  \\\n",
       "640459   POINT (-86.14996019399968 39.766910452000445)          18     AST   \n",
       "583839   POINT (-81.92896053899966 28.932040377000476)          12     AST   \n",
       "499510    POINT (-86.63186076199969 32.84057112200048)           1     AST   \n",
       "1020954  POINT (-108.10983035299967 43.23554134300048)          56     AST   \n",
       "1061395   POINT (-82.40426005599966 40.06021014100048)          39     AST   \n",
       "\n",
       "        QuestionID DataValueTypeID StratificationCategoryID1 StratificationID1  \n",
       "640459      AST1_1      AGEADJPREV                   OVERALL               OVR  \n",
       "583839      AST1_1      AGEADJPREV                   OVERALL               OVR  \n",
       "499510      AST1_1      AGEADJPREV                   OVERALL               OVR  \n",
       "1020954     AST1_1      AGEADJPREV                   OVERALL               OVR  \n",
       "1061395     AST1_1      AGEADJPREV                   OVERALL               OVR  "
      ]
     },
     "execution_count": 17,
     "metadata": {},
     "output_type": "execute_result"
    }
   ],
   "source": [
    "keep_categories = ['%']\n",
    "asthma_df = prune_rows(asthma_df, 'DataValueUnit', keep_categories)\n",
    "assert len(asthma_df['DataValueUnit'].unique()) == 1\n",
    "asthma_df.sample(5)"
   ]
  },
  {
   "cell_type": "markdown",
   "id": "4e12217e",
   "metadata": {},
   "source": [
    "#### DataValueType"
   ]
  },
  {
   "cell_type": "markdown",
   "id": "00ecc5d7",
   "metadata": {},
   "source": [
    "We also only need one overall measure type for the dataset. Currently we have these two:"
   ]
  },
  {
   "cell_type": "code",
   "execution_count": 18,
   "id": "7006e114",
   "metadata": {},
   "outputs": [
    {
     "data": {
      "text/plain": [
       "array(['Age-adjusted Prevalence', 'Crude Prevalence'], dtype=object)"
      ]
     },
     "execution_count": 18,
     "metadata": {},
     "output_type": "execute_result"
    }
   ],
   "source": [
    "asthma_df['DataValueType'].unique()"
   ]
  },
  {
   "cell_type": "markdown",
   "id": "4c8f1606",
   "metadata": {},
   "source": [
    "But lets only use 'Crude Prevalence', defined by the data dictionary as \"The measured number of deaths, cases of conditions, diseases or hospitalizations during a specific year – specified as rates per 1,000, per 10,000, per 100,000 or rates per 1,000,000 persons.\""
   ]
  },
  {
   "cell_type": "code",
   "execution_count": 19,
   "id": "bcc49169",
   "metadata": {
    "scrolled": false
   },
   "outputs": [
    {
     "data": {
      "text/html": [
       "<div>\n",
       "<style scoped>\n",
       "    .dataframe tbody tr th:only-of-type {\n",
       "        vertical-align: middle;\n",
       "    }\n",
       "\n",
       "    .dataframe tbody tr th {\n",
       "        vertical-align: top;\n",
       "    }\n",
       "\n",
       "    .dataframe thead th {\n",
       "        text-align: right;\n",
       "    }\n",
       "</style>\n",
       "<table border=\"1\" class=\"dataframe\">\n",
       "  <thead>\n",
       "    <tr style=\"text-align: right;\">\n",
       "      <th></th>\n",
       "      <th>YearStart</th>\n",
       "      <th>YearEnd</th>\n",
       "      <th>LocationAbbr</th>\n",
       "      <th>LocationDesc</th>\n",
       "      <th>DataSource</th>\n",
       "      <th>Topic</th>\n",
       "      <th>Question</th>\n",
       "      <th>DataValueUnit</th>\n",
       "      <th>DataValueType</th>\n",
       "      <th>DataValue</th>\n",
       "      <th>DataValueAlt</th>\n",
       "      <th>StratificationCategory1</th>\n",
       "      <th>Stratification1</th>\n",
       "      <th>GeoLocation</th>\n",
       "      <th>LocationID</th>\n",
       "      <th>TopicID</th>\n",
       "      <th>QuestionID</th>\n",
       "      <th>DataValueTypeID</th>\n",
       "      <th>StratificationCategoryID1</th>\n",
       "      <th>StratificationID1</th>\n",
       "    </tr>\n",
       "  </thead>\n",
       "  <tbody>\n",
       "    <tr>\n",
       "      <th>720314</th>\n",
       "      <td>2014</td>\n",
       "      <td>2014</td>\n",
       "      <td>MN</td>\n",
       "      <td>Minnesota</td>\n",
       "      <td>BRFSS</td>\n",
       "      <td>Asthma</td>\n",
       "      <td>Current asthma prevalence among adults aged &gt;=...</td>\n",
       "      <td>%</td>\n",
       "      <td>Crude Prevalence</td>\n",
       "      <td>8.4</td>\n",
       "      <td>8.4</td>\n",
       "      <td>Overall</td>\n",
       "      <td>Overall</td>\n",
       "      <td>POINT (-94.79420050299967 46.35564873600049)</td>\n",
       "      <td>27</td>\n",
       "      <td>AST</td>\n",
       "      <td>AST1_1</td>\n",
       "      <td>CRDPREV</td>\n",
       "      <td>OVERALL</td>\n",
       "      <td>OVR</td>\n",
       "    </tr>\n",
       "    <tr>\n",
       "      <th>913279</th>\n",
       "      <td>2018</td>\n",
       "      <td>2018</td>\n",
       "      <td>SC</td>\n",
       "      <td>South Carolina</td>\n",
       "      <td>BRFSS</td>\n",
       "      <td>Asthma</td>\n",
       "      <td>Current asthma prevalence among adults aged &gt;=...</td>\n",
       "      <td>%</td>\n",
       "      <td>Crude Prevalence</td>\n",
       "      <td>9.1</td>\n",
       "      <td>9.1</td>\n",
       "      <td>Overall</td>\n",
       "      <td>Overall</td>\n",
       "      <td>POINT (-81.04537120699968 33.998821303000454)</td>\n",
       "      <td>45</td>\n",
       "      <td>AST</td>\n",
       "      <td>AST1_1</td>\n",
       "      <td>CRDPREV</td>\n",
       "      <td>OVERALL</td>\n",
       "      <td>OVR</td>\n",
       "    </tr>\n",
       "    <tr>\n",
       "      <th>753197</th>\n",
       "      <td>2013</td>\n",
       "      <td>2013</td>\n",
       "      <td>MT</td>\n",
       "      <td>Montana</td>\n",
       "      <td>BRFSS</td>\n",
       "      <td>Asthma</td>\n",
       "      <td>Current asthma prevalence among adults aged &gt;=...</td>\n",
       "      <td>%</td>\n",
       "      <td>Crude Prevalence</td>\n",
       "      <td>8.6</td>\n",
       "      <td>8.6</td>\n",
       "      <td>Overall</td>\n",
       "      <td>Overall</td>\n",
       "      <td>POINT (-109.42442064499971 47.06652897200047)</td>\n",
       "      <td>30</td>\n",
       "      <td>AST</td>\n",
       "      <td>AST1_1</td>\n",
       "      <td>CRDPREV</td>\n",
       "      <td>OVERALL</td>\n",
       "      <td>OVR</td>\n",
       "    </tr>\n",
       "    <tr>\n",
       "      <th>730466</th>\n",
       "      <td>2019</td>\n",
       "      <td>2019</td>\n",
       "      <td>MN</td>\n",
       "      <td>Minnesota</td>\n",
       "      <td>BRFSS</td>\n",
       "      <td>Asthma</td>\n",
       "      <td>Current asthma prevalence among adults aged &gt;=...</td>\n",
       "      <td>%</td>\n",
       "      <td>Crude Prevalence</td>\n",
       "      <td>8.3</td>\n",
       "      <td>8.3</td>\n",
       "      <td>Overall</td>\n",
       "      <td>Overall</td>\n",
       "      <td>POINT (-94.79420050299967 46.35564873600049)</td>\n",
       "      <td>27</td>\n",
       "      <td>AST</td>\n",
       "      <td>AST1_1</td>\n",
       "      <td>CRDPREV</td>\n",
       "      <td>OVERALL</td>\n",
       "      <td>OVR</td>\n",
       "    </tr>\n",
       "    <tr>\n",
       "      <th>824112</th>\n",
       "      <td>2016</td>\n",
       "      <td>2016</td>\n",
       "      <td>NY</td>\n",
       "      <td>New York</td>\n",
       "      <td>BRFSS</td>\n",
       "      <td>Asthma</td>\n",
       "      <td>Current asthma prevalence among adults aged &gt;=...</td>\n",
       "      <td>%</td>\n",
       "      <td>Crude Prevalence</td>\n",
       "      <td>9.5</td>\n",
       "      <td>9.5</td>\n",
       "      <td>Overall</td>\n",
       "      <td>Overall</td>\n",
       "      <td>POINT (-75.54397042699964 42.82700103200045)</td>\n",
       "      <td>36</td>\n",
       "      <td>AST</td>\n",
       "      <td>AST1_1</td>\n",
       "      <td>CRDPREV</td>\n",
       "      <td>OVERALL</td>\n",
       "      <td>OVR</td>\n",
       "    </tr>\n",
       "  </tbody>\n",
       "</table>\n",
       "</div>"
      ],
      "text/plain": [
       "        YearStart  YearEnd LocationAbbr    LocationDesc DataSource   Topic  \\\n",
       "720314       2014     2014           MN       Minnesota      BRFSS  Asthma   \n",
       "913279       2018     2018           SC  South Carolina      BRFSS  Asthma   \n",
       "753197       2013     2013           MT         Montana      BRFSS  Asthma   \n",
       "730466       2019     2019           MN       Minnesota      BRFSS  Asthma   \n",
       "824112       2016     2016           NY        New York      BRFSS  Asthma   \n",
       "\n",
       "                                                 Question DataValueUnit  \\\n",
       "720314  Current asthma prevalence among adults aged >=...             %   \n",
       "913279  Current asthma prevalence among adults aged >=...             %   \n",
       "753197  Current asthma prevalence among adults aged >=...             %   \n",
       "730466  Current asthma prevalence among adults aged >=...             %   \n",
       "824112  Current asthma prevalence among adults aged >=...             %   \n",
       "\n",
       "           DataValueType DataValue  DataValueAlt StratificationCategory1  \\\n",
       "720314  Crude Prevalence       8.4           8.4                 Overall   \n",
       "913279  Crude Prevalence       9.1           9.1                 Overall   \n",
       "753197  Crude Prevalence       8.6           8.6                 Overall   \n",
       "730466  Crude Prevalence       8.3           8.3                 Overall   \n",
       "824112  Crude Prevalence       9.5           9.5                 Overall   \n",
       "\n",
       "       Stratification1                                    GeoLocation  \\\n",
       "720314         Overall   POINT (-94.79420050299967 46.35564873600049)   \n",
       "913279         Overall  POINT (-81.04537120699968 33.998821303000454)   \n",
       "753197         Overall  POINT (-109.42442064499971 47.06652897200047)   \n",
       "730466         Overall   POINT (-94.79420050299967 46.35564873600049)   \n",
       "824112         Overall   POINT (-75.54397042699964 42.82700103200045)   \n",
       "\n",
       "        LocationID TopicID QuestionID DataValueTypeID  \\\n",
       "720314          27     AST     AST1_1         CRDPREV   \n",
       "913279          45     AST     AST1_1         CRDPREV   \n",
       "753197          30     AST     AST1_1         CRDPREV   \n",
       "730466          27     AST     AST1_1         CRDPREV   \n",
       "824112          36     AST     AST1_1         CRDPREV   \n",
       "\n",
       "       StratificationCategoryID1 StratificationID1  \n",
       "720314                   OVERALL               OVR  \n",
       "913279                   OVERALL               OVR  \n",
       "753197                   OVERALL               OVR  \n",
       "730466                   OVERALL               OVR  \n",
       "824112                   OVERALL               OVR  "
      ]
     },
     "execution_count": 19,
     "metadata": {},
     "output_type": "execute_result"
    }
   ],
   "source": [
    "keep_categories = ['Crude Prevalence']\n",
    "asthma_df = prune_rows(asthma_df, 'DataValueType', keep_categories)\n",
    "assert len(asthma_df['DataValueType'].unique()) == 1\n",
    "asthma_df.sample(5)"
   ]
  },
  {
   "cell_type": "markdown",
   "id": "80b123a5",
   "metadata": {},
   "source": [
    "#### Year"
   ]
  },
  {
   "cell_type": "markdown",
   "id": "244b7a08",
   "metadata": {},
   "source": [
    "The 'YearStart' and 'YearEnd' columns look to all span one year, in which case we can drop those and replace with a single 'Year' column. Lets check this:"
   ]
  },
  {
   "cell_type": "code",
   "execution_count": 70,
   "id": "1c3920dd",
   "metadata": {},
   "outputs": [
    {
     "data": {
      "text/plain": [
       "True"
      ]
     },
     "execution_count": 70,
     "metadata": {},
     "output_type": "execute_result"
    }
   ],
   "source": [
    "check = check_year(asthma_df)\n",
    "check.all()"
   ]
  },
  {
   "cell_type": "markdown",
   "id": "7168b4d6",
   "metadata": {},
   "source": [
    "No multi-year rows are in this dataframe."
   ]
  },
  {
   "cell_type": "markdown",
   "id": "64bd8d39",
   "metadata": {},
   "source": [
    "As a final check, lets see the overview of our dataset:"
   ]
  },
  {
   "cell_type": "code",
   "execution_count": 75,
   "id": "e498021e",
   "metadata": {},
   "outputs": [
    {
     "name": "stdout",
     "output_type": "stream",
     "text": [
      "<class 'pandas.core.frame.DataFrame'>\n",
      "Int64Index: 510 entries, 478485 to 1081867\n",
      "Data columns (total 20 columns):\n",
      " #   Column                     Non-Null Count  Dtype  \n",
      "---  ------                     --------------  -----  \n",
      " 0   YearStart                  510 non-null    int64  \n",
      " 1   YearEnd                    510 non-null    int64  \n",
      " 2   LocationAbbr               510 non-null    object \n",
      " 3   LocationDesc               510 non-null    object \n",
      " 4   DataSource                 510 non-null    object \n",
      " 5   Topic                      510 non-null    object \n",
      " 6   Question                   510 non-null    object \n",
      " 7   DataValueUnit              510 non-null    object \n",
      " 8   DataValueType              510 non-null    object \n",
      " 9   DataValue                  509 non-null    object \n",
      " 10  DataValueAlt               509 non-null    float64\n",
      " 11  StratificationCategory1    510 non-null    object \n",
      " 12  Stratification1            510 non-null    object \n",
      " 13  GeoLocation                510 non-null    object \n",
      " 14  LocationID                 510 non-null    int64  \n",
      " 15  TopicID                    510 non-null    object \n",
      " 16  QuestionID                 510 non-null    object \n",
      " 17  DataValueTypeID            510 non-null    object \n",
      " 18  StratificationCategoryID1  510 non-null    object \n",
      " 19  StratificationID1          510 non-null    object \n",
      "dtypes: float64(1), int64(3), object(16)\n",
      "memory usage: 83.7+ KB\n"
     ]
    }
   ],
   "source": [
    "asthma_df.info()"
   ]
  },
  {
   "cell_type": "markdown",
   "id": "987a6424",
   "metadata": {},
   "source": [
    "It looks like we are missing one DataValue. Lets see which one:"
   ]
  },
  {
   "cell_type": "code",
   "execution_count": 77,
   "id": "a27d652a",
   "metadata": {
    "scrolled": true
   },
   "outputs": [
    {
     "data": {
      "text/html": [
       "<div>\n",
       "<style scoped>\n",
       "    .dataframe tbody tr th:only-of-type {\n",
       "        vertical-align: middle;\n",
       "    }\n",
       "\n",
       "    .dataframe tbody tr th {\n",
       "        vertical-align: top;\n",
       "    }\n",
       "\n",
       "    .dataframe thead th {\n",
       "        text-align: right;\n",
       "    }\n",
       "</style>\n",
       "<table border=\"1\" class=\"dataframe\">\n",
       "  <thead>\n",
       "    <tr style=\"text-align: right;\">\n",
       "      <th></th>\n",
       "      <th>YearStart</th>\n",
       "      <th>YearEnd</th>\n",
       "      <th>LocationAbbr</th>\n",
       "      <th>LocationDesc</th>\n",
       "      <th>DataSource</th>\n",
       "      <th>Topic</th>\n",
       "      <th>Question</th>\n",
       "      <th>DataValueUnit</th>\n",
       "      <th>DataValueType</th>\n",
       "      <th>DataValue</th>\n",
       "      <th>DataValueAlt</th>\n",
       "      <th>StratificationCategory1</th>\n",
       "      <th>Stratification1</th>\n",
       "      <th>GeoLocation</th>\n",
       "      <th>LocationID</th>\n",
       "      <th>TopicID</th>\n",
       "      <th>QuestionID</th>\n",
       "      <th>DataValueTypeID</th>\n",
       "      <th>StratificationCategoryID1</th>\n",
       "      <th>StratificationID1</th>\n",
       "    </tr>\n",
       "  </thead>\n",
       "  <tbody>\n",
       "    <tr>\n",
       "      <th>800207</th>\n",
       "      <td>2019</td>\n",
       "      <td>2019</td>\n",
       "      <td>NJ</td>\n",
       "      <td>New Jersey</td>\n",
       "      <td>BRFSS</td>\n",
       "      <td>Asthma</td>\n",
       "      <td>Current asthma prevalence among adults aged &gt;=...</td>\n",
       "      <td>%</td>\n",
       "      <td>Crude Prevalence</td>\n",
       "      <td>NaN</td>\n",
       "      <td>NaN</td>\n",
       "      <td>Overall</td>\n",
       "      <td>Overall</td>\n",
       "      <td>POINT (-74.27369128799967 40.13057004800049)</td>\n",
       "      <td>34</td>\n",
       "      <td>AST</td>\n",
       "      <td>AST1_1</td>\n",
       "      <td>CRDPREV</td>\n",
       "      <td>OVERALL</td>\n",
       "      <td>OVR</td>\n",
       "    </tr>\n",
       "  </tbody>\n",
       "</table>\n",
       "</div>"
      ],
      "text/plain": [
       "        YearStart  YearEnd LocationAbbr LocationDesc DataSource   Topic  \\\n",
       "800207       2019     2019           NJ   New Jersey      BRFSS  Asthma   \n",
       "\n",
       "                                                 Question DataValueUnit  \\\n",
       "800207  Current asthma prevalence among adults aged >=...             %   \n",
       "\n",
       "           DataValueType DataValue  DataValueAlt StratificationCategory1  \\\n",
       "800207  Crude Prevalence       NaN           NaN                 Overall   \n",
       "\n",
       "       Stratification1                                   GeoLocation  \\\n",
       "800207         Overall  POINT (-74.27369128799967 40.13057004800049)   \n",
       "\n",
       "        LocationID TopicID QuestionID DataValueTypeID  \\\n",
       "800207          34     AST     AST1_1         CRDPREV   \n",
       "\n",
       "       StratificationCategoryID1 StratificationID1  \n",
       "800207                   OVERALL               OVR  "
      ]
     },
     "execution_count": 77,
     "metadata": {},
     "output_type": "execute_result"
    }
   ],
   "source": [
    "asthma_df[asthma_df['DataValue'].isnull()]"
   ]
  },
  {
   "cell_type": "markdown",
   "id": "324d88e9",
   "metadata": {},
   "source": [
    "The 2019 prevalence data is missing for NJ. We'll leave it as Nan because it would be misleading to impute any other data, and because it still acts as a marker for missed data collection, so I don't want to drop it."
   ]
  },
  {
   "cell_type": "markdown",
   "id": "8ae549eb",
   "metadata": {},
   "source": [
    "### Cancer"
   ]
  },
  {
   "cell_type": "markdown",
   "id": "f9094c20",
   "metadata": {},
   "source": [
    "Lets create the cancer topic dataset and take a look at the set of questions in it."
   ]
  },
  {
   "cell_type": "code",
   "execution_count": 25,
   "id": "eb170039",
   "metadata": {
    "scrolled": false
   },
   "outputs": [
    {
     "data": {
      "text/html": [
       "<div>\n",
       "<style scoped>\n",
       "    .dataframe tbody tr th:only-of-type {\n",
       "        vertical-align: middle;\n",
       "    }\n",
       "\n",
       "    .dataframe tbody tr th {\n",
       "        vertical-align: top;\n",
       "    }\n",
       "\n",
       "    .dataframe thead th {\n",
       "        text-align: right;\n",
       "    }\n",
       "</style>\n",
       "<table border=\"1\" class=\"dataframe\">\n",
       "  <thead>\n",
       "    <tr style=\"text-align: right;\">\n",
       "      <th></th>\n",
       "      <th>YearStart</th>\n",
       "      <th>YearEnd</th>\n",
       "      <th>LocationAbbr</th>\n",
       "      <th>LocationDesc</th>\n",
       "      <th>DataSource</th>\n",
       "      <th>Topic</th>\n",
       "      <th>Question</th>\n",
       "      <th>DataValueUnit</th>\n",
       "      <th>DataValueType</th>\n",
       "      <th>DataValue</th>\n",
       "      <th>DataValueAlt</th>\n",
       "      <th>StratificationCategory1</th>\n",
       "      <th>Stratification1</th>\n",
       "      <th>GeoLocation</th>\n",
       "      <th>LocationID</th>\n",
       "      <th>TopicID</th>\n",
       "      <th>QuestionID</th>\n",
       "      <th>DataValueTypeID</th>\n",
       "      <th>StratificationCategoryID1</th>\n",
       "      <th>StratificationID1</th>\n",
       "    </tr>\n",
       "  </thead>\n",
       "  <tbody>\n",
       "    <tr>\n",
       "      <th>447987</th>\n",
       "      <td>2008</td>\n",
       "      <td>2012</td>\n",
       "      <td>SC</td>\n",
       "      <td>South Carolina</td>\n",
       "      <td>Statewide central cancer registries</td>\n",
       "      <td>Cancer</td>\n",
       "      <td>Cancer of the lung and bronchus, incidence</td>\n",
       "      <td>per 100,000</td>\n",
       "      <td>Average Annual Age-adjusted Rate</td>\n",
       "      <td>41.5</td>\n",
       "      <td>41.5</td>\n",
       "      <td>Race/Ethnicity</td>\n",
       "      <td>Hispanic</td>\n",
       "      <td>POINT (-81.04537120699968 33.998821303000454)</td>\n",
       "      <td>45</td>\n",
       "      <td>CAN</td>\n",
       "      <td>CAN8_1</td>\n",
       "      <td>AVGANNAGEADJRATE</td>\n",
       "      <td>RACE</td>\n",
       "      <td>HIS</td>\n",
       "    </tr>\n",
       "    <tr>\n",
       "      <th>710701</th>\n",
       "      <td>2013</td>\n",
       "      <td>2013</td>\n",
       "      <td>MI</td>\n",
       "      <td>Michigan</td>\n",
       "      <td>BRFSS</td>\n",
       "      <td>Cancer</td>\n",
       "      <td>Papanicolaou smear use among adult women aged ...</td>\n",
       "      <td>%</td>\n",
       "      <td>Age-adjusted Prevalence</td>\n",
       "      <td>NaN</td>\n",
       "      <td>NaN</td>\n",
       "      <td>Race/Ethnicity</td>\n",
       "      <td>Multiracial, non-Hispanic</td>\n",
       "      <td>POINT (-84.71439026999968 44.6613195430005)</td>\n",
       "      <td>26</td>\n",
       "      <td>CAN</td>\n",
       "      <td>CAN2_1</td>\n",
       "      <td>AGEADJPREV</td>\n",
       "      <td>RACE</td>\n",
       "      <td>MRC</td>\n",
       "    </tr>\n",
       "    <tr>\n",
       "      <th>433124</th>\n",
       "      <td>2008</td>\n",
       "      <td>2012</td>\n",
       "      <td>PA</td>\n",
       "      <td>Pennsylvania</td>\n",
       "      <td>Death Certificate</td>\n",
       "      <td>Cancer</td>\n",
       "      <td>Invasive cancer (all sites combined), mortality</td>\n",
       "      <td>NaN</td>\n",
       "      <td>Average Annual Number</td>\n",
       "      <td>NaN</td>\n",
       "      <td>NaN</td>\n",
       "      <td>Race/Ethnicity</td>\n",
       "      <td>White, non-Hispanic</td>\n",
       "      <td>POINT (-77.86070029399963 40.79373015200048)</td>\n",
       "      <td>42</td>\n",
       "      <td>CAN</td>\n",
       "      <td>CAN4_2</td>\n",
       "      <td>AVGANNNMBR</td>\n",
       "      <td>RACE</td>\n",
       "      <td>WHT</td>\n",
       "    </tr>\n",
       "    <tr>\n",
       "      <th>1029052</th>\n",
       "      <td>2020</td>\n",
       "      <td>2020</td>\n",
       "      <td>CT</td>\n",
       "      <td>Connecticut</td>\n",
       "      <td>BRFSS</td>\n",
       "      <td>Cancer</td>\n",
       "      <td>Papanicolaou smear use among adult women aged ...</td>\n",
       "      <td>%</td>\n",
       "      <td>Age-adjusted Prevalence</td>\n",
       "      <td>82.8</td>\n",
       "      <td>82.8</td>\n",
       "      <td>Race/Ethnicity</td>\n",
       "      <td>White, non-Hispanic</td>\n",
       "      <td>POINT (-72.64984095199964 41.56266102000046)</td>\n",
       "      <td>9</td>\n",
       "      <td>CAN</td>\n",
       "      <td>CAN2_1</td>\n",
       "      <td>AGEADJPREV</td>\n",
       "      <td>RACE</td>\n",
       "      <td>WHT</td>\n",
       "    </tr>\n",
       "    <tr>\n",
       "      <th>367771</th>\n",
       "      <td>2013</td>\n",
       "      <td>2017</td>\n",
       "      <td>MD</td>\n",
       "      <td>Maryland</td>\n",
       "      <td>Statewide central cancer registries</td>\n",
       "      <td>Cancer</td>\n",
       "      <td>Cancer of the colon and rectum (colorectal), i...</td>\n",
       "      <td>NaN</td>\n",
       "      <td>Average Annual Number</td>\n",
       "      <td>99</td>\n",
       "      <td>99.0</td>\n",
       "      <td>Race/Ethnicity</td>\n",
       "      <td>Asian or Pacific Islander</td>\n",
       "      <td>POINT (-76.60926011099963 39.29058096400047)</td>\n",
       "      <td>24</td>\n",
       "      <td>CAN</td>\n",
       "      <td>CAN7_1</td>\n",
       "      <td>AVGANNNMBR</td>\n",
       "      <td>RACE</td>\n",
       "      <td>APIO</td>\n",
       "    </tr>\n",
       "  </tbody>\n",
       "</table>\n",
       "</div>"
      ],
      "text/plain": [
       "         YearStart  YearEnd LocationAbbr    LocationDesc  \\\n",
       "447987        2008     2012           SC  South Carolina   \n",
       "710701        2013     2013           MI        Michigan   \n",
       "433124        2008     2012           PA    Pennsylvania   \n",
       "1029052       2020     2020           CT     Connecticut   \n",
       "367771        2013     2017           MD        Maryland   \n",
       "\n",
       "                                  DataSource   Topic  \\\n",
       "447987   Statewide central cancer registries  Cancer   \n",
       "710701                                 BRFSS  Cancer   \n",
       "433124                     Death Certificate  Cancer   \n",
       "1029052                                BRFSS  Cancer   \n",
       "367771   Statewide central cancer registries  Cancer   \n",
       "\n",
       "                                                  Question DataValueUnit  \\\n",
       "447987          Cancer of the lung and bronchus, incidence   per 100,000   \n",
       "710701   Papanicolaou smear use among adult women aged ...             %   \n",
       "433124     Invasive cancer (all sites combined), mortality           NaN   \n",
       "1029052  Papanicolaou smear use among adult women aged ...             %   \n",
       "367771   Cancer of the colon and rectum (colorectal), i...           NaN   \n",
       "\n",
       "                            DataValueType DataValue  DataValueAlt  \\\n",
       "447987   Average Annual Age-adjusted Rate      41.5          41.5   \n",
       "710701            Age-adjusted Prevalence       NaN           NaN   \n",
       "433124              Average Annual Number       NaN           NaN   \n",
       "1029052           Age-adjusted Prevalence      82.8          82.8   \n",
       "367771              Average Annual Number        99          99.0   \n",
       "\n",
       "        StratificationCategory1            Stratification1  \\\n",
       "447987           Race/Ethnicity                   Hispanic   \n",
       "710701           Race/Ethnicity  Multiracial, non-Hispanic   \n",
       "433124           Race/Ethnicity        White, non-Hispanic   \n",
       "1029052          Race/Ethnicity        White, non-Hispanic   \n",
       "367771           Race/Ethnicity  Asian or Pacific Islander   \n",
       "\n",
       "                                           GeoLocation  LocationID TopicID  \\\n",
       "447987   POINT (-81.04537120699968 33.998821303000454)          45     CAN   \n",
       "710701     POINT (-84.71439026999968 44.6613195430005)          26     CAN   \n",
       "433124    POINT (-77.86070029399963 40.79373015200048)          42     CAN   \n",
       "1029052   POINT (-72.64984095199964 41.56266102000046)           9     CAN   \n",
       "367771    POINT (-76.60926011099963 39.29058096400047)          24     CAN   \n",
       "\n",
       "        QuestionID   DataValueTypeID StratificationCategoryID1  \\\n",
       "447987      CAN8_1  AVGANNAGEADJRATE                      RACE   \n",
       "710701      CAN2_1        AGEADJPREV                      RACE   \n",
       "433124      CAN4_2        AVGANNNMBR                      RACE   \n",
       "1029052     CAN2_1        AGEADJPREV                      RACE   \n",
       "367771      CAN7_1        AVGANNNMBR                      RACE   \n",
       "\n",
       "        StratificationID1  \n",
       "447987                HIS  \n",
       "710701                MRC  \n",
       "433124                WHT  \n",
       "1029052               WHT  \n",
       "367771               APIO  "
      ]
     },
     "execution_count": 25,
     "metadata": {},
     "output_type": "execute_result"
    }
   ],
   "source": [
    "cancer_df = cdi_df[cdi_df.Topic == 'Cancer']\n",
    "cancer_df.sample(5)"
   ]
  },
  {
   "cell_type": "markdown",
   "id": "4319cb3e",
   "metadata": {},
   "source": [
    "In keeping with the dataframe cleanup process above, we'll take the following steps to prune data:\n",
    "1. Filter by relevant Question\n",
    "2. StratificationCategory1, keeping ['Overall']\n",
    "3. DataValueUnit, keeping ['%'] (or units that represent comparative measures)\n",
    "4. DataValueType, keeping ['Crude Prevalence'] (or types that represent comparative measures)\n",
    "5. Year: check if keeping multi-year data makes sense"
   ]
  },
  {
   "cell_type": "markdown",
   "id": "7b5b0376",
   "metadata": {},
   "source": [
    "#### Question"
   ]
  },
  {
   "cell_type": "code",
   "execution_count": 26,
   "id": "fa30f5e2",
   "metadata": {
    "scrolled": false
   },
   "outputs": [
    {
     "data": {
      "text/plain": [
       "array(['Cancer of the prostate, mortality',\n",
       "       'Mammography use among women aged 50-74 years',\n",
       "       'Invasive cancer (all sites combined), incidence',\n",
       "       'Invasive cancer of the cervix, incidence',\n",
       "       'Invasive cancer of the female breast, incidence',\n",
       "       'Invasive cancer (all sites combined), mortality',\n",
       "       'Invasive cancer of the prostate, incidence',\n",
       "       'Cancer of the oral cavity and pharynx, mortality',\n",
       "       'Cancer of the female cervix, mortality',\n",
       "       'Cancer of the female breast, mortality',\n",
       "       'Invasive cancer of the oral cavity or pharynx, incidence',\n",
       "       'Cancer of the lung and bronchus, mortality',\n",
       "       'Invasive melanoma, incidence', 'Melanoma, mortality',\n",
       "       'Cancer of the colon and rectum (colorectal), incidence',\n",
       "       'Cancer of the lung and bronchus, incidence',\n",
       "       'Cancer of the colon and rectum (colorectal), mortality',\n",
       "       'Fecal occult blood test, sigmoidoscopy, or colonoscopy among adults aged 50-75 years',\n",
       "       'Recent Papanicolaou smear use among women aged 21-44 years',\n",
       "       'Papanicolaou smear use among adult women aged 21-65 years'],\n",
       "      dtype=object)"
      ]
     },
     "execution_count": 26,
     "metadata": {},
     "output_type": "execute_result"
    }
   ],
   "source": [
    "cancer_df['Question'].unique()"
   ]
  },
  {
   "cell_type": "markdown",
   "id": "1981749a",
   "metadata": {},
   "source": [
    "Looks like we should keep 'Cancer of the lung and bronchus, incidence', 'Cancer of the lung and bronchus, mortality'"
   ]
  },
  {
   "cell_type": "code",
   "execution_count": 27,
   "id": "1cedb167",
   "metadata": {},
   "outputs": [],
   "source": [
    "nrows = cdi_df.shape[0]\n",
    "keep_questions = ['Cancer of the lung and bronchus, incidence', 'Cancer of the lung and bronchus, mortality']\n",
    "cancer_df = prune_rows(cancer_df, 'Question', keep_questions)\n",
    "assert cancer_df.shape[0] < nrows"
   ]
  },
  {
   "cell_type": "markdown",
   "id": "250e6b9b",
   "metadata": {},
   "source": [
    "#### StratificationCategory1"
   ]
  },
  {
   "cell_type": "code",
   "execution_count": 28,
   "id": "7a7e0453",
   "metadata": {},
   "outputs": [
    {
     "data": {
      "text/plain": [
       "array(['Race/Ethnicity', 'Gender', 'Overall'], dtype=object)"
      ]
     },
     "execution_count": 28,
     "metadata": {},
     "output_type": "execute_result"
    }
   ],
   "source": [
    "cancer_df['StratificationCategory1'].unique()"
   ]
  },
  {
   "cell_type": "markdown",
   "id": "509e38b2",
   "metadata": {},
   "source": [
    "We only want to keep the 'Overall' category"
   ]
  },
  {
   "cell_type": "code",
   "execution_count": 29,
   "id": "acd64ca6",
   "metadata": {},
   "outputs": [],
   "source": [
    "nrows = cancer_df.shape[0]\n",
    "keep_categories = ['Overall']\n",
    "cancer_df = prune_rows(cancer_df, 'StratificationCategory1', keep_categories)\n",
    "assert cancer_df.shape[0] < nrows"
   ]
  },
  {
   "cell_type": "markdown",
   "id": "d48c0304",
   "metadata": {},
   "source": [
    "#### DataValueUnit"
   ]
  },
  {
   "cell_type": "code",
   "execution_count": 30,
   "id": "cde66f3f",
   "metadata": {},
   "outputs": [
    {
     "data": {
      "text/plain": [
       "array(['per 100,000', nan], dtype=object)"
      ]
     },
     "execution_count": 30,
     "metadata": {},
     "output_type": "execute_result"
    }
   ],
   "source": [
    "cancer_df['DataValueUnit'].unique()"
   ]
  },
  {
   "cell_type": "markdown",
   "id": "8fe2e757",
   "metadata": {},
   "source": [
    "Lets look at the rows with nan"
   ]
  },
  {
   "cell_type": "code",
   "execution_count": 31,
   "id": "6873c228",
   "metadata": {},
   "outputs": [
    {
     "data": {
      "text/plain": [
       "array(['Average Annual Number'], dtype=object)"
      ]
     },
     "execution_count": 31,
     "metadata": {},
     "output_type": "execute_result"
    }
   ],
   "source": [
    "nan_DataValueType = cancer_df[cancer_df['DataValueUnit'].isnull()]['DataValueType'].unique()\n",
    "nan_DataValueType"
   ]
  },
  {
   "cell_type": "markdown",
   "id": "7c9a1e73",
   "metadata": {},
   "source": [
    "Well, these all belong to the 'Average Annual Number' type. The gamut of available DataValueUnit's in the entire dataset are:"
   ]
  },
  {
   "cell_type": "code",
   "execution_count": 32,
   "id": "c0da02ab",
   "metadata": {},
   "outputs": [
    {
     "data": {
      "text/plain": [
       "array([nan, 'cases per 1,000,000', 'Number', '%', 'pack sales per capita',\n",
       "       'cases per 100,000', 'cases per 1,000', 'cases per 10,000',\n",
       "       'Years', 'per 100,000'], dtype=object)"
      ]
     },
     "execution_count": 32,
     "metadata": {},
     "output_type": "execute_result"
    }
   ],
   "source": [
    "cdi_df['DataValueUnit'].unique()"
   ]
  },
  {
   "cell_type": "markdown",
   "id": "ff6f1930",
   "metadata": {},
   "source": [
    "It seems that the 'Number' unit is generic enough to impute here."
   ]
  },
  {
   "cell_type": "code",
   "execution_count": 33,
   "id": "ef8b3157",
   "metadata": {},
   "outputs": [
    {
     "data": {
      "text/html": [
       "<div>\n",
       "<style scoped>\n",
       "    .dataframe tbody tr th:only-of-type {\n",
       "        vertical-align: middle;\n",
       "    }\n",
       "\n",
       "    .dataframe tbody tr th {\n",
       "        vertical-align: top;\n",
       "    }\n",
       "\n",
       "    .dataframe thead th {\n",
       "        text-align: right;\n",
       "    }\n",
       "</style>\n",
       "<table border=\"1\" class=\"dataframe\">\n",
       "  <thead>\n",
       "    <tr style=\"text-align: right;\">\n",
       "      <th></th>\n",
       "      <th>YearStart</th>\n",
       "      <th>YearEnd</th>\n",
       "      <th>LocationAbbr</th>\n",
       "      <th>LocationDesc</th>\n",
       "      <th>DataSource</th>\n",
       "      <th>Topic</th>\n",
       "      <th>Question</th>\n",
       "      <th>DataValueUnit</th>\n",
       "      <th>DataValueType</th>\n",
       "      <th>DataValue</th>\n",
       "      <th>DataValueAlt</th>\n",
       "      <th>StratificationCategory1</th>\n",
       "      <th>Stratification1</th>\n",
       "      <th>GeoLocation</th>\n",
       "      <th>LocationID</th>\n",
       "      <th>TopicID</th>\n",
       "      <th>QuestionID</th>\n",
       "      <th>DataValueTypeID</th>\n",
       "      <th>StratificationCategoryID1</th>\n",
       "      <th>StratificationID1</th>\n",
       "    </tr>\n",
       "  </thead>\n",
       "  <tbody>\n",
       "    <tr>\n",
       "      <th>294354</th>\n",
       "      <td>2010</td>\n",
       "      <td>2014</td>\n",
       "      <td>AL</td>\n",
       "      <td>Alabama</td>\n",
       "      <td>Statewide central cancer registries</td>\n",
       "      <td>Cancer</td>\n",
       "      <td>Cancer of the lung and bronchus, incidence</td>\n",
       "      <td>per 100,000</td>\n",
       "      <td>Average Annual Age-adjusted Rate</td>\n",
       "      <td>69.8</td>\n",
       "      <td>69.8</td>\n",
       "      <td>Overall</td>\n",
       "      <td>Overall</td>\n",
       "      <td>POINT (-86.63186076199969 32.84057112200048)</td>\n",
       "      <td>1</td>\n",
       "      <td>CAN</td>\n",
       "      <td>CAN8_1</td>\n",
       "      <td>AVGANNAGEADJRATE</td>\n",
       "      <td>OVERALL</td>\n",
       "      <td>OVR</td>\n",
       "    </tr>\n",
       "    <tr>\n",
       "      <th>294417</th>\n",
       "      <td>2011</td>\n",
       "      <td>2015</td>\n",
       "      <td>AR</td>\n",
       "      <td>Arkansas</td>\n",
       "      <td>Statewide central cancer registries</td>\n",
       "      <td>Cancer</td>\n",
       "      <td>Cancer of the lung and bronchus, incidence</td>\n",
       "      <td>Number</td>\n",
       "      <td>Average Annual Number</td>\n",
       "      <td>2834</td>\n",
       "      <td>2834.0</td>\n",
       "      <td>Overall</td>\n",
       "      <td>Overall</td>\n",
       "      <td>POINT (-92.27449074299966 34.74865012400045)</td>\n",
       "      <td>5</td>\n",
       "      <td>CAN</td>\n",
       "      <td>CAN8_1</td>\n",
       "      <td>AVGANNNMBR</td>\n",
       "      <td>OVERALL</td>\n",
       "      <td>OVR</td>\n",
       "    </tr>\n",
       "    <tr>\n",
       "      <th>294440</th>\n",
       "      <td>2010</td>\n",
       "      <td>2014</td>\n",
       "      <td>AL</td>\n",
       "      <td>Alabama</td>\n",
       "      <td>Death Certificate</td>\n",
       "      <td>Cancer</td>\n",
       "      <td>Cancer of the lung and bronchus, mortality</td>\n",
       "      <td>per 100,000</td>\n",
       "      <td>Average Annual Age-adjusted Rate</td>\n",
       "      <td>55.6</td>\n",
       "      <td>55.6</td>\n",
       "      <td>Overall</td>\n",
       "      <td>Overall</td>\n",
       "      <td>POINT (-86.63186076199969 32.84057112200048)</td>\n",
       "      <td>1</td>\n",
       "      <td>CAN</td>\n",
       "      <td>CAN8_2</td>\n",
       "      <td>AVGANNAGEADJRATE</td>\n",
       "      <td>OVERALL</td>\n",
       "      <td>OVR</td>\n",
       "    </tr>\n",
       "    <tr>\n",
       "      <th>294441</th>\n",
       "      <td>2008</td>\n",
       "      <td>2012</td>\n",
       "      <td>AZ</td>\n",
       "      <td>Arizona</td>\n",
       "      <td>Statewide central cancer registries</td>\n",
       "      <td>Cancer</td>\n",
       "      <td>Cancer of the lung and bronchus, incidence</td>\n",
       "      <td>per 100,000</td>\n",
       "      <td>Average Annual Age-adjusted Rate</td>\n",
       "      <td>53.4</td>\n",
       "      <td>53.4</td>\n",
       "      <td>Overall</td>\n",
       "      <td>Overall</td>\n",
       "      <td>POINT (-111.76381127699972 34.865970280000454)</td>\n",
       "      <td>4</td>\n",
       "      <td>CAN</td>\n",
       "      <td>CAN8_1</td>\n",
       "      <td>AVGANNAGEADJRATE</td>\n",
       "      <td>OVERALL</td>\n",
       "      <td>OVR</td>\n",
       "    </tr>\n",
       "    <tr>\n",
       "      <th>294533</th>\n",
       "      <td>2011</td>\n",
       "      <td>2015</td>\n",
       "      <td>AR</td>\n",
       "      <td>Arkansas</td>\n",
       "      <td>Statewide central cancer registries</td>\n",
       "      <td>Cancer</td>\n",
       "      <td>Cancer of the lung and bronchus, incidence</td>\n",
       "      <td>per 100,000</td>\n",
       "      <td>Average Annual Crude Rate</td>\n",
       "      <td>95.8</td>\n",
       "      <td>95.8</td>\n",
       "      <td>Overall</td>\n",
       "      <td>Overall</td>\n",
       "      <td>POINT (-92.27449074299966 34.74865012400045)</td>\n",
       "      <td>5</td>\n",
       "      <td>CAN</td>\n",
       "      <td>CAN8_1</td>\n",
       "      <td>AVGANNCRDRATE</td>\n",
       "      <td>OVERALL</td>\n",
       "      <td>OVR</td>\n",
       "    </tr>\n",
       "  </tbody>\n",
       "</table>\n",
       "</div>"
      ],
      "text/plain": [
       "        YearStart  YearEnd LocationAbbr LocationDesc  \\\n",
       "294354       2010     2014           AL      Alabama   \n",
       "294417       2011     2015           AR     Arkansas   \n",
       "294440       2010     2014           AL      Alabama   \n",
       "294441       2008     2012           AZ      Arizona   \n",
       "294533       2011     2015           AR     Arkansas   \n",
       "\n",
       "                                 DataSource   Topic  \\\n",
       "294354  Statewide central cancer registries  Cancer   \n",
       "294417  Statewide central cancer registries  Cancer   \n",
       "294440                    Death Certificate  Cancer   \n",
       "294441  Statewide central cancer registries  Cancer   \n",
       "294533  Statewide central cancer registries  Cancer   \n",
       "\n",
       "                                          Question DataValueUnit  \\\n",
       "294354  Cancer of the lung and bronchus, incidence   per 100,000   \n",
       "294417  Cancer of the lung and bronchus, incidence        Number   \n",
       "294440  Cancer of the lung and bronchus, mortality   per 100,000   \n",
       "294441  Cancer of the lung and bronchus, incidence   per 100,000   \n",
       "294533  Cancer of the lung and bronchus, incidence   per 100,000   \n",
       "\n",
       "                           DataValueType DataValue  DataValueAlt  \\\n",
       "294354  Average Annual Age-adjusted Rate      69.8          69.8   \n",
       "294417             Average Annual Number      2834        2834.0   \n",
       "294440  Average Annual Age-adjusted Rate      55.6          55.6   \n",
       "294441  Average Annual Age-adjusted Rate      53.4          53.4   \n",
       "294533         Average Annual Crude Rate      95.8          95.8   \n",
       "\n",
       "       StratificationCategory1 Stratification1  \\\n",
       "294354                 Overall         Overall   \n",
       "294417                 Overall         Overall   \n",
       "294440                 Overall         Overall   \n",
       "294441                 Overall         Overall   \n",
       "294533                 Overall         Overall   \n",
       "\n",
       "                                           GeoLocation  LocationID TopicID  \\\n",
       "294354    POINT (-86.63186076199969 32.84057112200048)           1     CAN   \n",
       "294417    POINT (-92.27449074299966 34.74865012400045)           5     CAN   \n",
       "294440    POINT (-86.63186076199969 32.84057112200048)           1     CAN   \n",
       "294441  POINT (-111.76381127699972 34.865970280000454)           4     CAN   \n",
       "294533    POINT (-92.27449074299966 34.74865012400045)           5     CAN   \n",
       "\n",
       "       QuestionID   DataValueTypeID StratificationCategoryID1  \\\n",
       "294354     CAN8_1  AVGANNAGEADJRATE                   OVERALL   \n",
       "294417     CAN8_1        AVGANNNMBR                   OVERALL   \n",
       "294440     CAN8_2  AVGANNAGEADJRATE                   OVERALL   \n",
       "294441     CAN8_1  AVGANNAGEADJRATE                   OVERALL   \n",
       "294533     CAN8_1     AVGANNCRDRATE                   OVERALL   \n",
       "\n",
       "       StratificationID1  \n",
       "294354               OVR  \n",
       "294417               OVR  \n",
       "294440               OVR  \n",
       "294441               OVR  \n",
       "294533               OVR  "
      ]
     },
     "execution_count": 33,
     "metadata": {},
     "output_type": "execute_result"
    }
   ],
   "source": [
    "cancer_df['DataValueUnit'].fillna(value='Number', inplace=True)\n",
    "cancer_df.head()"
   ]
  },
  {
   "cell_type": "markdown",
   "id": "58e7366d",
   "metadata": {},
   "source": [
    "#### DataValueType"
   ]
  },
  {
   "cell_type": "code",
   "execution_count": 34,
   "id": "0a40fe72",
   "metadata": {},
   "outputs": [
    {
     "data": {
      "text/plain": [
       "array(['Average Annual Age-adjusted Rate', 'Average Annual Number',\n",
       "       'Average Annual Crude Rate'], dtype=object)"
      ]
     },
     "execution_count": 34,
     "metadata": {},
     "output_type": "execute_result"
    }
   ],
   "source": [
    "cancer_df['DataValueType'].unique()"
   ]
  },
  {
   "cell_type": "markdown",
   "id": "0190d0c6",
   "metadata": {},
   "source": [
    "We don't want 'Average Annual Age-adjusted Rate' (we are aiming to keep only overall values), so let's remove that."
   ]
  },
  {
   "cell_type": "code",
   "execution_count": 35,
   "id": "559d30ca",
   "metadata": {},
   "outputs": [],
   "source": [
    "nrows = cancer_df.shape[0]\n",
    "keep_categories = ['Average Annual Number','Average Annual Crude Rate']\n",
    "cancer_df = prune_rows(cancer_df, 'DataValueType', keep_categories)\n",
    "assert cancer_df.shape[0] < nrows"
   ]
  },
  {
   "cell_type": "markdown",
   "id": "f6c3bdcf",
   "metadata": {},
   "source": [
    "It looks like we should keep the Average Annual Crude Rate. This is the state average relative to 100,000 (cases per 100K). This data is comparable between states since the overall numbers mean little without knowing the state population measures that CDC used."
   ]
  },
  {
   "cell_type": "code",
   "execution_count": 36,
   "id": "5d97e296",
   "metadata": {},
   "outputs": [],
   "source": [
    "nrows = cancer_df.shape[0]\n",
    "keep_categories = ['Average Annual Crude Rate']\n",
    "cancer_df = prune_rows(cancer_df, 'DataValueType', keep_categories)\n",
    "assert cancer_df.shape[0] < nrows"
   ]
  },
  {
   "cell_type": "code",
   "execution_count": 37,
   "id": "701f7d48",
   "metadata": {},
   "outputs": [
    {
     "data": {
      "text/plain": [
       "array(['Average Annual Crude Rate'], dtype=object)"
      ]
     },
     "execution_count": 37,
     "metadata": {},
     "output_type": "execute_result"
    }
   ],
   "source": [
    "cancer_df.DataValueType.unique()"
   ]
  },
  {
   "cell_type": "code",
   "execution_count": 38,
   "id": "78835af4",
   "metadata": {},
   "outputs": [],
   "source": [
    "# create seperate dataframes for cancer incidenence and mortality.\n",
    "# exclude LocationAbbr == US\n",
    "cancer_incidence_df = cancer_df[(cancer_df.QuestionID == 'CAN8_1') & (cancer_df.LocationAbbr != 'US')]\n",
    "cancer_mortality_df = cancer_df[(cancer_df.QuestionID == 'CAN8_2') & (cancer_df.LocationAbbr != 'US')]"
   ]
  },
  {
   "cell_type": "code",
   "execution_count": 39,
   "id": "37e2f1e3",
   "metadata": {},
   "outputs": [
    {
     "name": "stdout",
     "output_type": "stream",
     "text": [
      "411010    incidence: Statewide central cancer registries\n",
      "344458    incidence: Statewide central cancer registries\n",
      "398970    incidence: Statewide central cancer registries\n",
      "379006    incidence: Statewide central cancer registries\n",
      "400648    incidence: Statewide central cancer registries\n",
      "Name: DataSource, dtype: object\n",
      "343778    mortality: Death Certificate\n",
      "407769    mortality: Death Certificate\n",
      "321250    mortality: Death Certificate\n",
      "334939    mortality: Death Certificate\n",
      "425642    mortality: Death Certificate\n",
      "Name: DataSource, dtype: object\n"
     ]
    }
   ],
   "source": [
    "print('incidence: '+cancer_incidence_df.sample(5)['DataSource'])\n",
    "print('mortality: '+cancer_mortality_df.sample(5)['DataSource'])"
   ]
  },
  {
   "cell_type": "markdown",
   "id": "6bfbf8f7",
   "metadata": {},
   "source": [
    "From this, it's clear that incidence data is from Statewide central cancer registries and mortality data was derived from death certificates. Nevada is missing incidence data for all periods. I'll leave the Nan numbers in place, as imputing any value is likely to misinform."
   ]
  },
  {
   "cell_type": "markdown",
   "id": "9d132486",
   "metadata": {},
   "source": [
    "#### Year"
   ]
  },
  {
   "cell_type": "markdown",
   "id": "cdbf22bb",
   "metadata": {},
   "source": [
    "The dates for all cancer stats are collected over a four year period. I'm not sure if this will be problematic when comparing to annual data. I'll leave it be for now, but keep the following cell, which shows how to implement intervals over the collection period."
   ]
  },
  {
   "cell_type": "code",
   "execution_count": 42,
   "id": "f2531774",
   "metadata": {},
   "outputs": [
    {
     "data": {
      "text/plain": [
       "IntervalIndex([(2008, 2009], (2009, 2010], (2010, 2011], (2011, 2012]], dtype='interval[int64, right]')"
      ]
     },
     "execution_count": 42,
     "metadata": {},
     "output_type": "execute_result"
    }
   ],
   "source": [
    "start = 2008\n",
    "end = 2012\n",
    "start_dt = pd.to_datetime(start, format='%Y')\n",
    "end_dt = pd.to_datetime(end, format='%Y')\n",
    "start_dts = pd.to_datetime(cancer_df.YearStart, format='%Y')\n",
    "end_dts = pd.to_datetime(cancer_df.YearEnd, format='%Y')\n",
    "#pd.date_range(start=start_dt, end=end_dt, periods=6, freq='Y')\n",
    "#range = pd.date_range(start=start_dt, end=end_dt, periods=6, inclusive='left')\n",
    "pd.interval_range(start=start, periods=4, closed='right')\n"
   ]
  },
  {
   "cell_type": "code",
   "execution_count": 78,
   "id": "5999bf0d",
   "metadata": {},
   "outputs": [
    {
     "name": "stdout",
     "output_type": "stream",
     "text": [
      "<class 'pandas.core.frame.DataFrame'>\n",
      "Int64Index: 714 entries, 294533 to 490034\n",
      "Data columns (total 20 columns):\n",
      " #   Column                     Non-Null Count  Dtype  \n",
      "---  ------                     --------------  -----  \n",
      " 0   YearStart                  714 non-null    int64  \n",
      " 1   YearEnd                    714 non-null    int64  \n",
      " 2   LocationAbbr               714 non-null    object \n",
      " 3   LocationDesc               714 non-null    object \n",
      " 4   DataSource                 714 non-null    object \n",
      " 5   Topic                      714 non-null    object \n",
      " 6   Question                   714 non-null    object \n",
      " 7   DataValueUnit              714 non-null    object \n",
      " 8   DataValueType              714 non-null    object \n",
      " 9   DataValue                  707 non-null    object \n",
      " 10  DataValueAlt               707 non-null    float64\n",
      " 11  StratificationCategory1    714 non-null    object \n",
      " 12  Stratification1            714 non-null    object \n",
      " 13  GeoLocation                714 non-null    object \n",
      " 14  LocationID                 714 non-null    int64  \n",
      " 15  TopicID                    714 non-null    object \n",
      " 16  QuestionID                 714 non-null    object \n",
      " 17  DataValueTypeID            714 non-null    object \n",
      " 18  StratificationCategoryID1  714 non-null    object \n",
      " 19  StratificationID1          714 non-null    object \n",
      "dtypes: float64(1), int64(3), object(16)\n",
      "memory usage: 117.1+ KB\n"
     ]
    }
   ],
   "source": [
    "cancer_df.info()"
   ]
  },
  {
   "cell_type": "markdown",
   "id": "33db25dc",
   "metadata": {},
   "source": [
    "We are missing some DataValue values, lets find out which ones:"
   ]
  },
  {
   "cell_type": "code",
   "execution_count": 79,
   "id": "56f3cb03",
   "metadata": {},
   "outputs": [
    {
     "data": {
      "text/html": [
       "<div>\n",
       "<style scoped>\n",
       "    .dataframe tbody tr th:only-of-type {\n",
       "        vertical-align: middle;\n",
       "    }\n",
       "\n",
       "    .dataframe tbody tr th {\n",
       "        vertical-align: top;\n",
       "    }\n",
       "\n",
       "    .dataframe thead th {\n",
       "        text-align: right;\n",
       "    }\n",
       "</style>\n",
       "<table border=\"1\" class=\"dataframe\">\n",
       "  <thead>\n",
       "    <tr style=\"text-align: right;\">\n",
       "      <th></th>\n",
       "      <th>YearStart</th>\n",
       "      <th>YearEnd</th>\n",
       "      <th>LocationAbbr</th>\n",
       "      <th>LocationDesc</th>\n",
       "      <th>DataSource</th>\n",
       "      <th>Topic</th>\n",
       "      <th>Question</th>\n",
       "      <th>DataValueUnit</th>\n",
       "      <th>DataValueType</th>\n",
       "      <th>DataValue</th>\n",
       "      <th>DataValueAlt</th>\n",
       "      <th>StratificationCategory1</th>\n",
       "      <th>Stratification1</th>\n",
       "      <th>GeoLocation</th>\n",
       "      <th>LocationID</th>\n",
       "      <th>TopicID</th>\n",
       "      <th>QuestionID</th>\n",
       "      <th>DataValueTypeID</th>\n",
       "      <th>StratificationCategoryID1</th>\n",
       "      <th>StratificationID1</th>\n",
       "    </tr>\n",
       "  </thead>\n",
       "  <tbody>\n",
       "    <tr>\n",
       "      <th>407203</th>\n",
       "      <td>2012</td>\n",
       "      <td>2016</td>\n",
       "      <td>NV</td>\n",
       "      <td>Nevada</td>\n",
       "      <td>Statewide central cancer registries</td>\n",
       "      <td>Cancer</td>\n",
       "      <td>Cancer of the lung and bronchus, incidence</td>\n",
       "      <td>per 100,000</td>\n",
       "      <td>Average Annual Crude Rate</td>\n",
       "      <td>NaN</td>\n",
       "      <td>NaN</td>\n",
       "      <td>Overall</td>\n",
       "      <td>Overall</td>\n",
       "      <td>POINT (-117.07184056399967 39.493240390000494)</td>\n",
       "      <td>32</td>\n",
       "      <td>CAN</td>\n",
       "      <td>CAN8_1</td>\n",
       "      <td>AVGANNCRDRATE</td>\n",
       "      <td>OVERALL</td>\n",
       "      <td>OVR</td>\n",
       "    </tr>\n",
       "    <tr>\n",
       "      <th>410957</th>\n",
       "      <td>2011</td>\n",
       "      <td>2015</td>\n",
       "      <td>NV</td>\n",
       "      <td>Nevada</td>\n",
       "      <td>Statewide central cancer registries</td>\n",
       "      <td>Cancer</td>\n",
       "      <td>Cancer of the lung and bronchus, incidence</td>\n",
       "      <td>per 100,000</td>\n",
       "      <td>Average Annual Crude Rate</td>\n",
       "      <td>NaN</td>\n",
       "      <td>NaN</td>\n",
       "      <td>Overall</td>\n",
       "      <td>Overall</td>\n",
       "      <td>POINT (-117.07184056399967 39.493240390000494)</td>\n",
       "      <td>32</td>\n",
       "      <td>CAN</td>\n",
       "      <td>CAN8_1</td>\n",
       "      <td>AVGANNCRDRATE</td>\n",
       "      <td>OVERALL</td>\n",
       "      <td>OVR</td>\n",
       "    </tr>\n",
       "    <tr>\n",
       "      <th>411010</th>\n",
       "      <td>2010</td>\n",
       "      <td>2014</td>\n",
       "      <td>NV</td>\n",
       "      <td>Nevada</td>\n",
       "      <td>Statewide central cancer registries</td>\n",
       "      <td>Cancer</td>\n",
       "      <td>Cancer of the lung and bronchus, incidence</td>\n",
       "      <td>per 100,000</td>\n",
       "      <td>Average Annual Crude Rate</td>\n",
       "      <td>NaN</td>\n",
       "      <td>NaN</td>\n",
       "      <td>Overall</td>\n",
       "      <td>Overall</td>\n",
       "      <td>POINT (-117.07184056399967 39.493240390000494)</td>\n",
       "      <td>32</td>\n",
       "      <td>CAN</td>\n",
       "      <td>CAN8_1</td>\n",
       "      <td>AVGANNCRDRATE</td>\n",
       "      <td>OVERALL</td>\n",
       "      <td>OVR</td>\n",
       "    </tr>\n",
       "    <tr>\n",
       "      <th>413793</th>\n",
       "      <td>2014</td>\n",
       "      <td>2018</td>\n",
       "      <td>NV</td>\n",
       "      <td>Nevada</td>\n",
       "      <td>Statewide central cancer registries</td>\n",
       "      <td>Cancer</td>\n",
       "      <td>Cancer of the lung and bronchus, incidence</td>\n",
       "      <td>per 100,000</td>\n",
       "      <td>Average Annual Crude Rate</td>\n",
       "      <td>NaN</td>\n",
       "      <td>NaN</td>\n",
       "      <td>Overall</td>\n",
       "      <td>Overall</td>\n",
       "      <td>POINT (-117.07184056399967 39.493240390000494)</td>\n",
       "      <td>32</td>\n",
       "      <td>CAN</td>\n",
       "      <td>CAN8_1</td>\n",
       "      <td>AVGANNCRDRATE</td>\n",
       "      <td>OVERALL</td>\n",
       "      <td>OVR</td>\n",
       "    </tr>\n",
       "    <tr>\n",
       "      <th>413850</th>\n",
       "      <td>2009</td>\n",
       "      <td>2013</td>\n",
       "      <td>NV</td>\n",
       "      <td>Nevada</td>\n",
       "      <td>Statewide central cancer registries</td>\n",
       "      <td>Cancer</td>\n",
       "      <td>Cancer of the lung and bronchus, incidence</td>\n",
       "      <td>per 100,000</td>\n",
       "      <td>Average Annual Crude Rate</td>\n",
       "      <td>NaN</td>\n",
       "      <td>NaN</td>\n",
       "      <td>Overall</td>\n",
       "      <td>Overall</td>\n",
       "      <td>POINT (-117.07184056399967 39.493240390000494)</td>\n",
       "      <td>32</td>\n",
       "      <td>CAN</td>\n",
       "      <td>CAN8_1</td>\n",
       "      <td>AVGANNCRDRATE</td>\n",
       "      <td>OVERALL</td>\n",
       "      <td>OVR</td>\n",
       "    </tr>\n",
       "    <tr>\n",
       "      <th>416697</th>\n",
       "      <td>2013</td>\n",
       "      <td>2017</td>\n",
       "      <td>NV</td>\n",
       "      <td>Nevada</td>\n",
       "      <td>Statewide central cancer registries</td>\n",
       "      <td>Cancer</td>\n",
       "      <td>Cancer of the lung and bronchus, incidence</td>\n",
       "      <td>per 100,000</td>\n",
       "      <td>Average Annual Crude Rate</td>\n",
       "      <td>NaN</td>\n",
       "      <td>NaN</td>\n",
       "      <td>Overall</td>\n",
       "      <td>Overall</td>\n",
       "      <td>POINT (-117.07184056399967 39.493240390000494)</td>\n",
       "      <td>32</td>\n",
       "      <td>CAN</td>\n",
       "      <td>CAN8_1</td>\n",
       "      <td>AVGANNCRDRATE</td>\n",
       "      <td>OVERALL</td>\n",
       "      <td>OVR</td>\n",
       "    </tr>\n",
       "    <tr>\n",
       "      <th>416740</th>\n",
       "      <td>2008</td>\n",
       "      <td>2012</td>\n",
       "      <td>NV</td>\n",
       "      <td>Nevada</td>\n",
       "      <td>Statewide central cancer registries</td>\n",
       "      <td>Cancer</td>\n",
       "      <td>Cancer of the lung and bronchus, incidence</td>\n",
       "      <td>per 100,000</td>\n",
       "      <td>Average Annual Crude Rate</td>\n",
       "      <td>NaN</td>\n",
       "      <td>NaN</td>\n",
       "      <td>Overall</td>\n",
       "      <td>Overall</td>\n",
       "      <td>POINT (-117.07184056399967 39.493240390000494)</td>\n",
       "      <td>32</td>\n",
       "      <td>CAN</td>\n",
       "      <td>CAN8_1</td>\n",
       "      <td>AVGANNCRDRATE</td>\n",
       "      <td>OVERALL</td>\n",
       "      <td>OVR</td>\n",
       "    </tr>\n",
       "  </tbody>\n",
       "</table>\n",
       "</div>"
      ],
      "text/plain": [
       "        YearStart  YearEnd LocationAbbr LocationDesc  \\\n",
       "407203       2012     2016           NV       Nevada   \n",
       "410957       2011     2015           NV       Nevada   \n",
       "411010       2010     2014           NV       Nevada   \n",
       "413793       2014     2018           NV       Nevada   \n",
       "413850       2009     2013           NV       Nevada   \n",
       "416697       2013     2017           NV       Nevada   \n",
       "416740       2008     2012           NV       Nevada   \n",
       "\n",
       "                                 DataSource   Topic  \\\n",
       "407203  Statewide central cancer registries  Cancer   \n",
       "410957  Statewide central cancer registries  Cancer   \n",
       "411010  Statewide central cancer registries  Cancer   \n",
       "413793  Statewide central cancer registries  Cancer   \n",
       "413850  Statewide central cancer registries  Cancer   \n",
       "416697  Statewide central cancer registries  Cancer   \n",
       "416740  Statewide central cancer registries  Cancer   \n",
       "\n",
       "                                          Question DataValueUnit  \\\n",
       "407203  Cancer of the lung and bronchus, incidence   per 100,000   \n",
       "410957  Cancer of the lung and bronchus, incidence   per 100,000   \n",
       "411010  Cancer of the lung and bronchus, incidence   per 100,000   \n",
       "413793  Cancer of the lung and bronchus, incidence   per 100,000   \n",
       "413850  Cancer of the lung and bronchus, incidence   per 100,000   \n",
       "416697  Cancer of the lung and bronchus, incidence   per 100,000   \n",
       "416740  Cancer of the lung and bronchus, incidence   per 100,000   \n",
       "\n",
       "                    DataValueType DataValue  DataValueAlt  \\\n",
       "407203  Average Annual Crude Rate       NaN           NaN   \n",
       "410957  Average Annual Crude Rate       NaN           NaN   \n",
       "411010  Average Annual Crude Rate       NaN           NaN   \n",
       "413793  Average Annual Crude Rate       NaN           NaN   \n",
       "413850  Average Annual Crude Rate       NaN           NaN   \n",
       "416697  Average Annual Crude Rate       NaN           NaN   \n",
       "416740  Average Annual Crude Rate       NaN           NaN   \n",
       "\n",
       "       StratificationCategory1 Stratification1  \\\n",
       "407203                 Overall         Overall   \n",
       "410957                 Overall         Overall   \n",
       "411010                 Overall         Overall   \n",
       "413793                 Overall         Overall   \n",
       "413850                 Overall         Overall   \n",
       "416697                 Overall         Overall   \n",
       "416740                 Overall         Overall   \n",
       "\n",
       "                                           GeoLocation  LocationID TopicID  \\\n",
       "407203  POINT (-117.07184056399967 39.493240390000494)          32     CAN   \n",
       "410957  POINT (-117.07184056399967 39.493240390000494)          32     CAN   \n",
       "411010  POINT (-117.07184056399967 39.493240390000494)          32     CAN   \n",
       "413793  POINT (-117.07184056399967 39.493240390000494)          32     CAN   \n",
       "413850  POINT (-117.07184056399967 39.493240390000494)          32     CAN   \n",
       "416697  POINT (-117.07184056399967 39.493240390000494)          32     CAN   \n",
       "416740  POINT (-117.07184056399967 39.493240390000494)          32     CAN   \n",
       "\n",
       "       QuestionID DataValueTypeID StratificationCategoryID1 StratificationID1  \n",
       "407203     CAN8_1   AVGANNCRDRATE                   OVERALL               OVR  \n",
       "410957     CAN8_1   AVGANNCRDRATE                   OVERALL               OVR  \n",
       "411010     CAN8_1   AVGANNCRDRATE                   OVERALL               OVR  \n",
       "413793     CAN8_1   AVGANNCRDRATE                   OVERALL               OVR  \n",
       "413850     CAN8_1   AVGANNCRDRATE                   OVERALL               OVR  \n",
       "416697     CAN8_1   AVGANNCRDRATE                   OVERALL               OVR  \n",
       "416740     CAN8_1   AVGANNCRDRATE                   OVERALL               OVR  "
      ]
     },
     "execution_count": 79,
     "metadata": {},
     "output_type": "execute_result"
    }
   ],
   "source": [
    "cancer_df[cancer_df['DataValue'].isnull()]"
   ]
  },
  {
   "cell_type": "markdown",
   "id": "e619ff7a",
   "metadata": {},
   "source": [
    "Nevada is missing all of its incidence data. But let's keep these rows in place as markers and not try to impute any misleading values."
   ]
  },
  {
   "cell_type": "markdown",
   "id": "a23c73d0",
   "metadata": {},
   "source": [
    "### Overarching Conditions"
   ]
  },
  {
   "cell_type": "markdown",
   "id": "5435ba46",
   "metadata": {},
   "source": [
    "As we saw earlier, the 'Overarching Conditions' topic has some multi-year rows. Lets see what these are."
   ]
  },
  {
   "cell_type": "code",
   "execution_count": 43,
   "id": "72a311a5",
   "metadata": {},
   "outputs": [
    {
     "data": {
      "text/plain": [
       "array(['Premature mortality among adults aged 45-64 years',\n",
       "       'High school completion among adults aged 18-24 years', 'Poverty',\n",
       "       'High school completion among women aged 18-44 years',\n",
       "       'Health insurance coverage before pregnancy',\n",
       "       'Poverty among women aged 18-44 years',\n",
       "       'Gini Index of income inequality',\n",
       "       'Life expectancy at age 65 years', 'Life expectancy at birth',\n",
       "       'Recent physically unhealthy days among adults aged >= 18 years',\n",
       "       'Fair or poor self-rated health status among adults aged >= 18 years',\n",
       "       'Current lack of health insurance among adults aged 18-64 years',\n",
       "       'Recent activity limitation among adults aged >= 18 years',\n",
       "       'Prevalence of sufficient sleep among adults aged >= 18 years',\n",
       "       'Self-rated health status among women aged 18-44 years',\n",
       "       'Current health care coverage among women aged 18-44 years'],\n",
       "      dtype=object)"
      ]
     },
     "execution_count": 43,
     "metadata": {},
     "output_type": "execute_result"
    }
   ],
   "source": [
    "cdi_df[cdi_df['Topic'] == 'Overarching Conditions']['Question'].unique()"
   ]
  },
  {
   "cell_type": "markdown",
   "id": "eec434a0",
   "metadata": {},
   "source": [
    "There are some interesting data here, but none that are specific to lung health. Let's leave this data out."
   ]
  },
  {
   "cell_type": "markdown",
   "id": "4e75cf7c",
   "metadata": {},
   "source": [
    "### COPD"
   ]
  },
  {
   "cell_type": "code",
   "execution_count": 83,
   "id": "1f8422c8",
   "metadata": {},
   "outputs": [
    {
     "data": {
      "text/plain": [
       "(136602, 20)"
      ]
     },
     "execution_count": 83,
     "metadata": {},
     "output_type": "execute_result"
    }
   ],
   "source": [
    "# establish the COPD dataframe\n",
    "copd_df = cdi_df[cdi_df['Topic'] == 'Chronic Obstructive Pulmonary Disease']\n",
    "copd_df.shape"
   ]
  },
  {
   "cell_type": "markdown",
   "id": "bbf20a09",
   "metadata": {},
   "source": [
    "In keeping with the dataframe cleanup process above, we'll take the following steps to prune data:\n",
    "1. Filter by relevant Question\n",
    "2. StratificationCategory1, keeping ['Overall']\n",
    "3. DataValueUnit, keeping ['%'] (or units that represent comparative measures)\n",
    "4. DataValueType, keeping ['Crude Prevalence'] (or types that represent comparative measures)\n",
    "5. Year: check if keeping multi-year data makes sense"
   ]
  },
  {
   "cell_type": "markdown",
   "id": "3ba0cb37",
   "metadata": {},
   "source": [
    "#### Filter by Question\n",
    "Choose questions that might be insightful."
   ]
  },
  {
   "cell_type": "code",
   "execution_count": 84,
   "id": "83152044",
   "metadata": {
    "scrolled": false
   },
   "outputs": [
    {
     "data": {
      "text/plain": [
       "array(['Mortality with chronic obstructive pulmonary disease as underlying or contributing cause among adults aged >= 45 years',\n",
       "       'Hospitalization for chronic obstructive pulmonary disease as any diagnosis among Medicare-eligible persons aged >= 65 years',\n",
       "       'Mortality with chronic obstructive pulmonary disease as underlying cause among adults aged >= 45 years',\n",
       "       'Emergency department visit rate for chronic obstructive pulmonary disease as any diagnosis',\n",
       "       'Hospitalization for chronic obstructive pulmonary disease as first-listed diagnosis among Medicare-eligible persons aged >= 65 years',\n",
       "       'Hospitalization for chronic obstructive pulmonary disease as first-listed diagnosis',\n",
       "       'Hospitalization for chronic obstructive pulmonary disease as any diagnosis',\n",
       "       'Emergency department visit rate for chronic obstructive pulmonary disease as first-listed diagnosis',\n",
       "       'Prevalence of chronic obstructive pulmonary disease among adults >= 18',\n",
       "       'Pneumococcal vaccination among noninstitutionalized adults aged >= 45 years with chronic obstructive pulmonary disease',\n",
       "       'Prevalence of activity limitation among adults >= 18 with diagnosed chronic obstructive pulmonary disease',\n",
       "       'Prevalence of current smoking among adults >= 18 with diagnosed chronic obstructive pulmonary disease',\n",
       "       'Prevalence of current smoking among adults >= 45 years with diagnosed chronic obstructive pulmonary disease',\n",
       "       'Prevalence of activity limitation among adults >= 45 years with diagnosed chronic obstructive pulmonary disease',\n",
       "       'Prevalence of chronic obstructive pulmonary disease among adults >= 45 years',\n",
       "       'Influenza vaccination among noninstitutionalized adults aged >= 45 years with chronic obstructive pulmonary disease'],\n",
       "      dtype=object)"
      ]
     },
     "execution_count": 84,
     "metadata": {},
     "output_type": "execute_result"
    }
   ],
   "source": [
    "cdi_df[cdi_df['Topic'] == 'Chronic Obstructive Pulmonary Disease']['Question'].unique()"
   ]
  },
  {
   "cell_type": "markdown",
   "id": "e8439e8f",
   "metadata": {},
   "source": [
    "Below are the subset of questions to explore. Some of these will be thrown out upon closer inspection:"
   ]
  },
  {
   "cell_type": "code",
   "execution_count": 85,
   "id": "ddd13120",
   "metadata": {},
   "outputs": [],
   "source": [
    "keep_categories = ['Mortality with chronic obstructive pulmonary disease as underlying or contributing cause among adults aged >= 45 years',\n",
    "       'Mortality with chronic obstructive pulmonary disease as underlying cause among adults aged >= 45 years',\n",
    "       'Emergency department visit rate for chronic obstructive pulmonary disease as any diagnosis',\n",
    "       'Hospitalization for chronic obstructive pulmonary disease as first-listed diagnosis',\n",
    "       'Hospitalization for chronic obstructive pulmonary disease as any diagnosis',\n",
    "       'Emergency department visit rate for chronic obstructive pulmonary disease as first-listed diagnosis',\n",
    "       'Prevalence of chronic obstructive pulmonary disease among adults >= 18',\n",
    "       'Prevalence of current smoking among adults >= 18 with diagnosed chronic obstructive pulmonary disease',\n",
    "       'Prevalence of current smoking among adults >= 45 years with diagnosed chronic obstructive pulmonary disease',\n",
    "       'Prevalence of chronic obstructive pulmonary disease among adults >= 45 years']"
   ]
  },
  {
   "cell_type": "code",
   "execution_count": 86,
   "id": "82c1c412",
   "metadata": {
    "scrolled": false
   },
   "outputs": [
    {
     "data": {
      "text/html": [
       "<div>\n",
       "<style scoped>\n",
       "    .dataframe tbody tr th:only-of-type {\n",
       "        vertical-align: middle;\n",
       "    }\n",
       "\n",
       "    .dataframe tbody tr th {\n",
       "        vertical-align: top;\n",
       "    }\n",
       "\n",
       "    .dataframe thead th {\n",
       "        text-align: right;\n",
       "    }\n",
       "</style>\n",
       "<table border=\"1\" class=\"dataframe\">\n",
       "  <thead>\n",
       "    <tr style=\"text-align: right;\">\n",
       "      <th></th>\n",
       "      <th>YearStart</th>\n",
       "      <th>YearEnd</th>\n",
       "      <th>LocationAbbr</th>\n",
       "      <th>LocationDesc</th>\n",
       "      <th>DataSource</th>\n",
       "      <th>Topic</th>\n",
       "      <th>Question</th>\n",
       "      <th>DataValueUnit</th>\n",
       "      <th>DataValueType</th>\n",
       "      <th>DataValue</th>\n",
       "      <th>DataValueAlt</th>\n",
       "      <th>StratificationCategory1</th>\n",
       "      <th>Stratification1</th>\n",
       "      <th>GeoLocation</th>\n",
       "      <th>LocationID</th>\n",
       "      <th>TopicID</th>\n",
       "      <th>QuestionID</th>\n",
       "      <th>DataValueTypeID</th>\n",
       "      <th>StratificationCategoryID1</th>\n",
       "      <th>StratificationID1</th>\n",
       "    </tr>\n",
       "  </thead>\n",
       "  <tbody>\n",
       "    <tr>\n",
       "      <th>117284</th>\n",
       "      <td>2015</td>\n",
       "      <td>2015</td>\n",
       "      <td>ME</td>\n",
       "      <td>Maine</td>\n",
       "      <td>SEDD; SID</td>\n",
       "      <td>Chronic Obstructive Pulmonary Disease</td>\n",
       "      <td>Emergency department visit rate for chronic ob...</td>\n",
       "      <td>cases per 10,000</td>\n",
       "      <td>Age-adjusted Rate</td>\n",
       "      <td>NaN</td>\n",
       "      <td>NaN</td>\n",
       "      <td>Overall</td>\n",
       "      <td>Overall</td>\n",
       "      <td>POINT (-68.98503133599962 45.254228894000505)</td>\n",
       "      <td>23</td>\n",
       "      <td>COPD</td>\n",
       "      <td>COPD6_1</td>\n",
       "      <td>AGEADJRATE</td>\n",
       "      <td>OVERALL</td>\n",
       "      <td>OVR</td>\n",
       "    </tr>\n",
       "    <tr>\n",
       "      <th>9493</th>\n",
       "      <td>2015</td>\n",
       "      <td>2015</td>\n",
       "      <td>AK</td>\n",
       "      <td>Alaska</td>\n",
       "      <td>NVSS</td>\n",
       "      <td>Chronic Obstructive Pulmonary Disease</td>\n",
       "      <td>Mortality with chronic obstructive pulmonary d...</td>\n",
       "      <td>cases per 100,000</td>\n",
       "      <td>Crude Rate</td>\n",
       "      <td>73.2</td>\n",
       "      <td>73.2</td>\n",
       "      <td>Overall</td>\n",
       "      <td>Overall</td>\n",
       "      <td>POINT (-147.72205903599973 64.84507995700051)</td>\n",
       "      <td>2</td>\n",
       "      <td>COPD</td>\n",
       "      <td>COPD1_1</td>\n",
       "      <td>CRDRATE</td>\n",
       "      <td>OVERALL</td>\n",
       "      <td>OVR</td>\n",
       "    </tr>\n",
       "    <tr>\n",
       "      <th>165861</th>\n",
       "      <td>2015</td>\n",
       "      <td>2015</td>\n",
       "      <td>ND</td>\n",
       "      <td>North Dakota</td>\n",
       "      <td>NVSS</td>\n",
       "      <td>Chronic Obstructive Pulmonary Disease</td>\n",
       "      <td>Mortality with chronic obstructive pulmonary d...</td>\n",
       "      <td>NaN</td>\n",
       "      <td>Number</td>\n",
       "      <td>339</td>\n",
       "      <td>339.0</td>\n",
       "      <td>Overall</td>\n",
       "      <td>Overall</td>\n",
       "      <td>POINT (-100.11842104899966 47.47531977900047)</td>\n",
       "      <td>38</td>\n",
       "      <td>COPD</td>\n",
       "      <td>COPD1_1</td>\n",
       "      <td>NMBR</td>\n",
       "      <td>OVERALL</td>\n",
       "      <td>OVR</td>\n",
       "    </tr>\n",
       "    <tr>\n",
       "      <th>609525</th>\n",
       "      <td>2019</td>\n",
       "      <td>2019</td>\n",
       "      <td>HI</td>\n",
       "      <td>Hawaii</td>\n",
       "      <td>BRFSS</td>\n",
       "      <td>Chronic Obstructive Pulmonary Disease</td>\n",
       "      <td>Prevalence of current smoking among adults &gt;= ...</td>\n",
       "      <td>%</td>\n",
       "      <td>Crude Prevalence</td>\n",
       "      <td>28.9</td>\n",
       "      <td>28.9</td>\n",
       "      <td>Race/Ethnicity</td>\n",
       "      <td>Multiracial, non-Hispanic</td>\n",
       "      <td>POINT (-157.85774940299973 21.304850435000446)</td>\n",
       "      <td>15</td>\n",
       "      <td>COPD</td>\n",
       "      <td>COPD3_0</td>\n",
       "      <td>CRDPREV</td>\n",
       "      <td>RACE</td>\n",
       "      <td>MRC</td>\n",
       "    </tr>\n",
       "    <tr>\n",
       "      <th>649828</th>\n",
       "      <td>2014</td>\n",
       "      <td>2014</td>\n",
       "      <td>IN</td>\n",
       "      <td>Indiana</td>\n",
       "      <td>BRFSS</td>\n",
       "      <td>Chronic Obstructive Pulmonary Disease</td>\n",
       "      <td>Prevalence of current smoking among adults &gt;= ...</td>\n",
       "      <td>%</td>\n",
       "      <td>Age-adjusted Prevalence</td>\n",
       "      <td>46.3</td>\n",
       "      <td>46.3</td>\n",
       "      <td>Race/Ethnicity</td>\n",
       "      <td>White, non-Hispanic</td>\n",
       "      <td>POINT (-86.14996019399968 39.766910452000445)</td>\n",
       "      <td>18</td>\n",
       "      <td>COPD</td>\n",
       "      <td>COPD3_0_1</td>\n",
       "      <td>AGEADJPREV</td>\n",
       "      <td>RACE</td>\n",
       "      <td>WHT</td>\n",
       "    </tr>\n",
       "  </tbody>\n",
       "</table>\n",
       "</div>"
      ],
      "text/plain": [
       "        YearStart  YearEnd LocationAbbr  LocationDesc DataSource  \\\n",
       "117284       2015     2015           ME         Maine  SEDD; SID   \n",
       "9493         2015     2015           AK        Alaska       NVSS   \n",
       "165861       2015     2015           ND  North Dakota       NVSS   \n",
       "609525       2019     2019           HI        Hawaii      BRFSS   \n",
       "649828       2014     2014           IN       Indiana      BRFSS   \n",
       "\n",
       "                                        Topic  \\\n",
       "117284  Chronic Obstructive Pulmonary Disease   \n",
       "9493    Chronic Obstructive Pulmonary Disease   \n",
       "165861  Chronic Obstructive Pulmonary Disease   \n",
       "609525  Chronic Obstructive Pulmonary Disease   \n",
       "649828  Chronic Obstructive Pulmonary Disease   \n",
       "\n",
       "                                                 Question      DataValueUnit  \\\n",
       "117284  Emergency department visit rate for chronic ob...   cases per 10,000   \n",
       "9493    Mortality with chronic obstructive pulmonary d...  cases per 100,000   \n",
       "165861  Mortality with chronic obstructive pulmonary d...                NaN   \n",
       "609525  Prevalence of current smoking among adults >= ...                  %   \n",
       "649828  Prevalence of current smoking among adults >= ...                  %   \n",
       "\n",
       "                  DataValueType DataValue  DataValueAlt  \\\n",
       "117284        Age-adjusted Rate       NaN           NaN   \n",
       "9493                 Crude Rate      73.2          73.2   \n",
       "165861                   Number       339         339.0   \n",
       "609525         Crude Prevalence      28.9          28.9   \n",
       "649828  Age-adjusted Prevalence      46.3          46.3   \n",
       "\n",
       "       StratificationCategory1            Stratification1  \\\n",
       "117284                 Overall                    Overall   \n",
       "9493                   Overall                    Overall   \n",
       "165861                 Overall                    Overall   \n",
       "609525          Race/Ethnicity  Multiracial, non-Hispanic   \n",
       "649828          Race/Ethnicity        White, non-Hispanic   \n",
       "\n",
       "                                           GeoLocation  LocationID TopicID  \\\n",
       "117284   POINT (-68.98503133599962 45.254228894000505)          23    COPD   \n",
       "9493     POINT (-147.72205903599973 64.84507995700051)           2    COPD   \n",
       "165861   POINT (-100.11842104899966 47.47531977900047)          38    COPD   \n",
       "609525  POINT (-157.85774940299973 21.304850435000446)          15    COPD   \n",
       "649828   POINT (-86.14996019399968 39.766910452000445)          18    COPD   \n",
       "\n",
       "       QuestionID DataValueTypeID StratificationCategoryID1 StratificationID1  \n",
       "117284    COPD6_1      AGEADJRATE                   OVERALL               OVR  \n",
       "9493      COPD1_1         CRDRATE                   OVERALL               OVR  \n",
       "165861    COPD1_1            NMBR                   OVERALL               OVR  \n",
       "609525    COPD3_0         CRDPREV                      RACE               MRC  \n",
       "649828  COPD3_0_1      AGEADJPREV                      RACE               WHT  "
      ]
     },
     "execution_count": 86,
     "metadata": {},
     "output_type": "execute_result"
    }
   ],
   "source": [
    "# filter for selected questions \n",
    "nrows = copd_df.shape[0]\n",
    "copd_df = prune_rows(copd_df, 'Question', keep_categories)\n",
    "assert copd_df.shape[0] < nrows\n",
    "\n",
    "copd_df.sample(5)"
   ]
  },
  {
   "cell_type": "markdown",
   "id": "2a1c3c69",
   "metadata": {},
   "source": [
    "#### Filter by StratificationCategory1"
   ]
  },
  {
   "cell_type": "code",
   "execution_count": 87,
   "id": "504feba3",
   "metadata": {},
   "outputs": [
    {
     "data": {
      "text/plain": [
       "array(['Overall', 'Race/Ethnicity', 'Gender'], dtype=object)"
      ]
     },
     "execution_count": 87,
     "metadata": {},
     "output_type": "execute_result"
    }
   ],
   "source": [
    "copd_df['StratificationCategory1'].unique()"
   ]
  },
  {
   "cell_type": "markdown",
   "id": "435fdcb3",
   "metadata": {},
   "source": [
    "Let's keep the 'Overall' category"
   ]
  },
  {
   "cell_type": "code",
   "execution_count": 88,
   "id": "2c75d543",
   "metadata": {},
   "outputs": [],
   "source": [
    "# filter for selected categories \n",
    "nrows = copd_df.shape[0]\n",
    "keep_categories = ['Overall']\n",
    "copd_df = prune_rows(copd_df, 'StratificationCategory1', keep_categories)\n",
    "assert copd_df.shape[0] < nrows"
   ]
  },
  {
   "cell_type": "markdown",
   "id": "020d3425",
   "metadata": {},
   "source": [
    "#### Filter by DataValueUnit\n",
    "keeping ['%'] (or units that represent comparative measures)"
   ]
  },
  {
   "cell_type": "code",
   "execution_count": 89,
   "id": "100f823f",
   "metadata": {},
   "outputs": [
    {
     "data": {
      "text/plain": [
       "array(['cases per 100,000', nan, 'cases per 10,000', 'Number', '%'],\n",
       "      dtype=object)"
      ]
     },
     "execution_count": 89,
     "metadata": {},
     "output_type": "execute_result"
    }
   ],
   "source": [
    "copd_df['DataValueUnit'].unique()"
   ]
  },
  {
   "cell_type": "markdown",
   "id": "c0d29e50",
   "metadata": {},
   "source": [
    "Lets take a look at each of the DataValueUnit rows, keeping a list of ones to keep."
   ]
  },
  {
   "cell_type": "code",
   "execution_count": 90,
   "id": "21dbafb4",
   "metadata": {},
   "outputs": [],
   "source": [
    "keep_categories = []"
   ]
  },
  {
   "cell_type": "code",
   "execution_count": 91,
   "id": "7b5b26b2",
   "metadata": {},
   "outputs": [
    {
     "data": {
      "text/plain": [
       "array(['Mortality with chronic obstructive pulmonary disease as underlying or contributing cause among adults aged >= 45 years',\n",
       "       'Mortality with chronic obstructive pulmonary disease as underlying cause among adults aged >= 45 years'],\n",
       "      dtype=object)"
      ]
     },
     "execution_count": 91,
     "metadata": {},
     "output_type": "execute_result"
    }
   ],
   "source": [
    "# cases per 100K\n",
    "copd_df[copd_df['DataValueUnit'] == 'cases per 100,000']['Question'].unique()"
   ]
  },
  {
   "cell_type": "markdown",
   "id": "0ee2ee2c",
   "metadata": {},
   "source": [
    "These are all mortality measures normalized to cases per 100K of the state population. We need these."
   ]
  },
  {
   "cell_type": "code",
   "execution_count": 92,
   "id": "d436491e",
   "metadata": {},
   "outputs": [],
   "source": [
    "keep_categories.append('cases per 100,000')"
   ]
  },
  {
   "cell_type": "code",
   "execution_count": 93,
   "id": "8dd9f48d",
   "metadata": {},
   "outputs": [
    {
     "data": {
      "text/plain": [
       "array(['Hospitalization for chronic obstructive pulmonary disease as first-listed diagnosis',\n",
       "       'Emergency department visit rate for chronic obstructive pulmonary disease as any diagnosis',\n",
       "       'Emergency department visit rate for chronic obstructive pulmonary disease as first-listed diagnosis',\n",
       "       'Hospitalization for chronic obstructive pulmonary disease as any diagnosis'],\n",
       "      dtype=object)"
      ]
     },
     "execution_count": 93,
     "metadata": {},
     "output_type": "execute_result"
    }
   ],
   "source": [
    "# cases per 10,000\n",
    "copd_df[copd_df['DataValueUnit'] == 'cases per 10,000']['Question'].unique()"
   ]
  },
  {
   "cell_type": "markdown",
   "id": "ef5d9c4f",
   "metadata": {},
   "source": [
    "These are the data on Emergency department visit rates. We should keep these."
   ]
  },
  {
   "cell_type": "code",
   "execution_count": 94,
   "id": "5e64f494",
   "metadata": {},
   "outputs": [
    {
     "data": {
      "text/plain": [
       "array(['Mortality with chronic obstructive pulmonary disease as underlying or contributing cause among adults aged >= 45 years',\n",
       "       'Mortality with chronic obstructive pulmonary disease as underlying cause among adults aged >= 45 years'],\n",
       "      dtype=object)"
      ]
     },
     "execution_count": 94,
     "metadata": {},
     "output_type": "execute_result"
    }
   ],
   "source": [
    "# 'Number'\n",
    "copd_df[copd_df['DataValueUnit'] == 'Number']['Question'].unique()"
   ]
  },
  {
   "cell_type": "markdown",
   "id": "893c2ef2",
   "metadata": {},
   "source": [
    "These are absolute numbers by state, we'll prune these in favor of normalized values."
   ]
  },
  {
   "cell_type": "code",
   "execution_count": 95,
   "id": "3bcdf015",
   "metadata": {},
   "outputs": [
    {
     "data": {
      "text/plain": [
       "array(['Prevalence of current smoking among adults >= 45 years with diagnosed chronic obstructive pulmonary disease',\n",
       "       'Prevalence of current smoking among adults >= 18 with diagnosed chronic obstructive pulmonary disease',\n",
       "       'Prevalence of chronic obstructive pulmonary disease among adults >= 18',\n",
       "       'Prevalence of chronic obstructive pulmonary disease among adults >= 45 years'],\n",
       "      dtype=object)"
      ]
     },
     "execution_count": 95,
     "metadata": {},
     "output_type": "execute_result"
    }
   ],
   "source": [
    "# '%'\n",
    "copd_df[copd_df['DataValueUnit'] == '%']['Question'].unique()"
   ]
  },
  {
   "cell_type": "markdown",
   "id": "ea9a3a29",
   "metadata": {},
   "source": [
    "These are relative measures on smoking and COPD. We definately want these."
   ]
  },
  {
   "cell_type": "code",
   "execution_count": 96,
   "id": "af493185",
   "metadata": {},
   "outputs": [],
   "source": [
    "keep_categories.append('%')"
   ]
  },
  {
   "cell_type": "code",
   "execution_count": 97,
   "id": "68de64f9",
   "metadata": {},
   "outputs": [
    {
     "data": {
      "text/plain": [
       "array(['Mortality with chronic obstructive pulmonary disease as underlying or contributing cause among adults aged >= 45 years',\n",
       "       'Mortality with chronic obstructive pulmonary disease as underlying cause among adults aged >= 45 years',\n",
       "       'Hospitalization for chronic obstructive pulmonary disease as first-listed diagnosis',\n",
       "       'Emergency department visit rate for chronic obstructive pulmonary disease as any diagnosis',\n",
       "       'Hospitalization for chronic obstructive pulmonary disease as any diagnosis',\n",
       "       'Emergency department visit rate for chronic obstructive pulmonary disease as first-listed diagnosis'],\n",
       "      dtype=object)"
      ]
     },
     "execution_count": 97,
     "metadata": {},
     "output_type": "execute_result"
    }
   ],
   "source": [
    "# 'Nan'\n",
    "copd_df[copd_df['DataValueUnit'].isnull()]['Question'].unique()"
   ]
  },
  {
   "cell_type": "code",
   "execution_count": 98,
   "id": "994de0ca",
   "metadata": {},
   "outputs": [
    {
     "data": {
      "text/html": [
       "<div>\n",
       "<style scoped>\n",
       "    .dataframe tbody tr th:only-of-type {\n",
       "        vertical-align: middle;\n",
       "    }\n",
       "\n",
       "    .dataframe tbody tr th {\n",
       "        vertical-align: top;\n",
       "    }\n",
       "\n",
       "    .dataframe thead th {\n",
       "        text-align: right;\n",
       "    }\n",
       "</style>\n",
       "<table border=\"1\" class=\"dataframe\">\n",
       "  <thead>\n",
       "    <tr style=\"text-align: right;\">\n",
       "      <th></th>\n",
       "      <th>YearStart</th>\n",
       "      <th>YearEnd</th>\n",
       "      <th>LocationAbbr</th>\n",
       "      <th>LocationDesc</th>\n",
       "      <th>DataSource</th>\n",
       "      <th>Topic</th>\n",
       "      <th>Question</th>\n",
       "      <th>DataValueUnit</th>\n",
       "      <th>DataValueType</th>\n",
       "      <th>DataValue</th>\n",
       "      <th>DataValueAlt</th>\n",
       "      <th>StratificationCategory1</th>\n",
       "      <th>Stratification1</th>\n",
       "      <th>GeoLocation</th>\n",
       "      <th>LocationID</th>\n",
       "      <th>TopicID</th>\n",
       "      <th>QuestionID</th>\n",
       "      <th>DataValueTypeID</th>\n",
       "      <th>StratificationCategoryID1</th>\n",
       "      <th>StratificationID1</th>\n",
       "    </tr>\n",
       "  </thead>\n",
       "  <tbody>\n",
       "    <tr>\n",
       "      <th>146720</th>\n",
       "      <td>2014</td>\n",
       "      <td>2014</td>\n",
       "      <td>MS</td>\n",
       "      <td>Mississippi</td>\n",
       "      <td>SEDD; SID</td>\n",
       "      <td>Chronic Obstructive Pulmonary Disease</td>\n",
       "      <td>Emergency department visit rate for chronic ob...</td>\n",
       "      <td>NaN</td>\n",
       "      <td>Number</td>\n",
       "      <td>NaN</td>\n",
       "      <td>NaN</td>\n",
       "      <td>Overall</td>\n",
       "      <td>Overall</td>\n",
       "      <td>POINT (-89.53803082499968 32.745510099000455)</td>\n",
       "      <td>28</td>\n",
       "      <td>COPD</td>\n",
       "      <td>COPD6_1</td>\n",
       "      <td>NMBR</td>\n",
       "      <td>OVERALL</td>\n",
       "      <td>OVR</td>\n",
       "    </tr>\n",
       "    <tr>\n",
       "      <th>76403</th>\n",
       "      <td>2017</td>\n",
       "      <td>2017</td>\n",
       "      <td>IA</td>\n",
       "      <td>Iowa</td>\n",
       "      <td>SEDD; SID</td>\n",
       "      <td>Chronic Obstructive Pulmonary Disease</td>\n",
       "      <td>Hospitalization for chronic obstructive pulmon...</td>\n",
       "      <td>NaN</td>\n",
       "      <td>Number</td>\n",
       "      <td>6547</td>\n",
       "      <td>6547.0</td>\n",
       "      <td>Overall</td>\n",
       "      <td>Overall</td>\n",
       "      <td>POINT (-93.81649055599968 42.46940091300047)</td>\n",
       "      <td>19</td>\n",
       "      <td>COPD</td>\n",
       "      <td>COPD5_1</td>\n",
       "      <td>NMBR</td>\n",
       "      <td>OVERALL</td>\n",
       "      <td>OVR</td>\n",
       "    </tr>\n",
       "    <tr>\n",
       "      <th>50633</th>\n",
       "      <td>2012</td>\n",
       "      <td>2012</td>\n",
       "      <td>DE</td>\n",
       "      <td>Delaware</td>\n",
       "      <td>NVSS</td>\n",
       "      <td>Chronic Obstructive Pulmonary Disease</td>\n",
       "      <td>Mortality with chronic obstructive pulmonary d...</td>\n",
       "      <td>NaN</td>\n",
       "      <td>Number</td>\n",
       "      <td>824</td>\n",
       "      <td>824.0</td>\n",
       "      <td>Overall</td>\n",
       "      <td>Overall</td>\n",
       "      <td>POINT (-75.57774116799965 39.008830667000495)</td>\n",
       "      <td>10</td>\n",
       "      <td>COPD</td>\n",
       "      <td>COPD1_2</td>\n",
       "      <td>NMBR</td>\n",
       "      <td>OVERALL</td>\n",
       "      <td>OVR</td>\n",
       "    </tr>\n",
       "    <tr>\n",
       "      <th>94044</th>\n",
       "      <td>2016</td>\n",
       "      <td>2016</td>\n",
       "      <td>IN</td>\n",
       "      <td>Indiana</td>\n",
       "      <td>SEDD; SID</td>\n",
       "      <td>Chronic Obstructive Pulmonary Disease</td>\n",
       "      <td>Hospitalization for chronic obstructive pulmon...</td>\n",
       "      <td>NaN</td>\n",
       "      <td>Number</td>\n",
       "      <td>NaN</td>\n",
       "      <td>NaN</td>\n",
       "      <td>Overall</td>\n",
       "      <td>Overall</td>\n",
       "      <td>POINT (-86.14996019399968 39.766910452000445)</td>\n",
       "      <td>18</td>\n",
       "      <td>COPD</td>\n",
       "      <td>COPD5_2</td>\n",
       "      <td>NMBR</td>\n",
       "      <td>OVERALL</td>\n",
       "      <td>OVR</td>\n",
       "    </tr>\n",
       "    <tr>\n",
       "      <th>34439</th>\n",
       "      <td>2015</td>\n",
       "      <td>2015</td>\n",
       "      <td>CT</td>\n",
       "      <td>Connecticut</td>\n",
       "      <td>NVSS</td>\n",
       "      <td>Chronic Obstructive Pulmonary Disease</td>\n",
       "      <td>Mortality with chronic obstructive pulmonary d...</td>\n",
       "      <td>NaN</td>\n",
       "      <td>Number</td>\n",
       "      <td>2619</td>\n",
       "      <td>2619.0</td>\n",
       "      <td>Overall</td>\n",
       "      <td>Overall</td>\n",
       "      <td>POINT (-72.64984095199964 41.56266102000046)</td>\n",
       "      <td>9</td>\n",
       "      <td>COPD</td>\n",
       "      <td>COPD1_2</td>\n",
       "      <td>NMBR</td>\n",
       "      <td>OVERALL</td>\n",
       "      <td>OVR</td>\n",
       "    </tr>\n",
       "  </tbody>\n",
       "</table>\n",
       "</div>"
      ],
      "text/plain": [
       "        YearStart  YearEnd LocationAbbr LocationDesc DataSource  \\\n",
       "146720       2014     2014           MS  Mississippi  SEDD; SID   \n",
       "76403        2017     2017           IA         Iowa  SEDD; SID   \n",
       "50633        2012     2012           DE     Delaware       NVSS   \n",
       "94044        2016     2016           IN      Indiana  SEDD; SID   \n",
       "34439        2015     2015           CT  Connecticut       NVSS   \n",
       "\n",
       "                                        Topic  \\\n",
       "146720  Chronic Obstructive Pulmonary Disease   \n",
       "76403   Chronic Obstructive Pulmonary Disease   \n",
       "50633   Chronic Obstructive Pulmonary Disease   \n",
       "94044   Chronic Obstructive Pulmonary Disease   \n",
       "34439   Chronic Obstructive Pulmonary Disease   \n",
       "\n",
       "                                                 Question DataValueUnit  \\\n",
       "146720  Emergency department visit rate for chronic ob...           NaN   \n",
       "76403   Hospitalization for chronic obstructive pulmon...           NaN   \n",
       "50633   Mortality with chronic obstructive pulmonary d...           NaN   \n",
       "94044   Hospitalization for chronic obstructive pulmon...           NaN   \n",
       "34439   Mortality with chronic obstructive pulmonary d...           NaN   \n",
       "\n",
       "       DataValueType DataValue  DataValueAlt StratificationCategory1  \\\n",
       "146720        Number       NaN           NaN                 Overall   \n",
       "76403         Number      6547        6547.0                 Overall   \n",
       "50633         Number       824         824.0                 Overall   \n",
       "94044         Number       NaN           NaN                 Overall   \n",
       "34439         Number      2619        2619.0                 Overall   \n",
       "\n",
       "       Stratification1                                    GeoLocation  \\\n",
       "146720         Overall  POINT (-89.53803082499968 32.745510099000455)   \n",
       "76403          Overall   POINT (-93.81649055599968 42.46940091300047)   \n",
       "50633          Overall  POINT (-75.57774116799965 39.008830667000495)   \n",
       "94044          Overall  POINT (-86.14996019399968 39.766910452000445)   \n",
       "34439          Overall   POINT (-72.64984095199964 41.56266102000046)   \n",
       "\n",
       "        LocationID TopicID QuestionID DataValueTypeID  \\\n",
       "146720          28    COPD    COPD6_1            NMBR   \n",
       "76403           19    COPD    COPD5_1            NMBR   \n",
       "50633           10    COPD    COPD1_2            NMBR   \n",
       "94044           18    COPD    COPD5_2            NMBR   \n",
       "34439            9    COPD    COPD1_2            NMBR   \n",
       "\n",
       "       StratificationCategoryID1 StratificationID1  \n",
       "146720                   OVERALL               OVR  \n",
       "76403                    OVERALL               OVR  \n",
       "50633                    OVERALL               OVR  \n",
       "94044                    OVERALL               OVR  \n",
       "34439                    OVERALL               OVR  "
      ]
     },
     "execution_count": 98,
     "metadata": {},
     "output_type": "execute_result"
    }
   ],
   "source": [
    "copd_df[copd_df['DataValueUnit'].isnull()].sample(5)"
   ]
  },
  {
   "cell_type": "markdown",
   "id": "05b26920",
   "metadata": {},
   "source": [
    "These look to be absolute number versions of data that we are already keeping that have been population adjusted. We don't need these."
   ]
  },
  {
   "cell_type": "markdown",
   "id": "e62d5aa4",
   "metadata": {},
   "source": [
    "Prune the COPD dataframe, keeping our identified records:"
   ]
  },
  {
   "cell_type": "code",
   "execution_count": 99,
   "id": "c9991735",
   "metadata": {},
   "outputs": [],
   "source": [
    "# filter for selected categories \n",
    "nrows = copd_df.shape[0]\n",
    "copd_df = prune_rows(copd_df, 'DataValueUnit', keep_categories)\n",
    "assert copd_df.shape[0] < nrows"
   ]
  },
  {
   "cell_type": "markdown",
   "id": "c9c4e9a5",
   "metadata": {},
   "source": [
    "#### Filter by DataValueType\n",
    "keeping ['Crude Prevalence'] (or types that represent comparative measures)"
   ]
  },
  {
   "cell_type": "code",
   "execution_count": 100,
   "id": "69802546",
   "metadata": {},
   "outputs": [
    {
     "data": {
      "text/plain": [
       "array(['Age-adjusted Rate', 'Crude Rate', 'Age-adjusted Prevalence',\n",
       "       'Crude Prevalence'], dtype=object)"
      ]
     },
     "execution_count": 100,
     "metadata": {},
     "output_type": "execute_result"
    }
   ],
   "source": [
    "copd_df['DataValueType'].unique()"
   ]
  },
  {
   "cell_type": "markdown",
   "id": "ee981066",
   "metadata": {},
   "source": [
    "We can immediately filter out 'Age-adjusted Rate' and 'Age-adjusted Prevalence'. The other types need to be explored."
   ]
  },
  {
   "cell_type": "code",
   "execution_count": 101,
   "id": "25c35acf",
   "metadata": {},
   "outputs": [],
   "source": [
    "# filter for selected types \n",
    "nrows = copd_df.shape[0]\n",
    "keep_categories = ['Number','Crude Rate','Crude Prevalence']\n",
    "copd_df = prune_rows(copd_df, 'DataValueType', keep_categories)\n",
    "assert copd_df.shape[0] < nrows"
   ]
  },
  {
   "cell_type": "markdown",
   "id": "9c6fc03c",
   "metadata": {},
   "source": [
    "Lets take a look at each of the remaining DataValueType rows:"
   ]
  },
  {
   "cell_type": "code",
   "execution_count": 102,
   "id": "707a9705",
   "metadata": {},
   "outputs": [
    {
     "data": {
      "text/plain": [
       "array(['Mortality with chronic obstructive pulmonary disease as underlying or contributing cause among adults aged >= 45 years',\n",
       "       'Mortality with chronic obstructive pulmonary disease as underlying cause among adults aged >= 45 years'],\n",
       "      dtype=object)"
      ]
     },
     "execution_count": 102,
     "metadata": {},
     "output_type": "execute_result"
    }
   ],
   "source": [
    "# Crude Rate\n",
    "copd_df[copd_df['DataValueType'] == 'Crude Rate']['Question'].unique()"
   ]
  },
  {
   "cell_type": "markdown",
   "id": "2f8e3992",
   "metadata": {},
   "source": [
    "Mortality measures. We keep these."
   ]
  },
  {
   "cell_type": "code",
   "execution_count": 103,
   "id": "4ed3d53b",
   "metadata": {},
   "outputs": [
    {
     "data": {
      "text/plain": [
       "array(['Prevalence of current smoking among adults >= 18 with diagnosed chronic obstructive pulmonary disease',\n",
       "       'Prevalence of current smoking among adults >= 45 years with diagnosed chronic obstructive pulmonary disease',\n",
       "       'Prevalence of chronic obstructive pulmonary disease among adults >= 18',\n",
       "       'Prevalence of chronic obstructive pulmonary disease among adults >= 45 years'],\n",
       "      dtype=object)"
      ]
     },
     "execution_count": 103,
     "metadata": {},
     "output_type": "execute_result"
    }
   ],
   "source": [
    "# Crude Prevalence\n",
    "copd_df[copd_df['DataValueType'] == 'Crude Prevalence']['Question'].unique()"
   ]
  },
  {
   "cell_type": "markdown",
   "id": "f9a83ff8",
   "metadata": {},
   "source": [
    "Prevalence data for both COPD and smoking. These will be kept."
   ]
  },
  {
   "cell_type": "markdown",
   "id": "46643ab0",
   "metadata": {},
   "source": [
    "#### Filter by Year"
   ]
  },
  {
   "cell_type": "markdown",
   "id": "425c6880",
   "metadata": {},
   "source": [
    "Check if we have multi-year data and if it makes sense to keep."
   ]
  },
  {
   "cell_type": "code",
   "execution_count": 104,
   "id": "594a0a64",
   "metadata": {},
   "outputs": [
    {
     "data": {
      "text/plain": [
       "set()"
      ]
     },
     "execution_count": 104,
     "metadata": {},
     "output_type": "execute_result"
    }
   ],
   "source": [
    "multi_year_topics(copd_df)"
   ]
  },
  {
   "cell_type": "markdown",
   "id": "8c77a4e5",
   "metadata": {},
   "source": [
    "No multi-year data for COPD dataframe."
   ]
  },
  {
   "cell_type": "code",
   "execution_count": 105,
   "id": "078481a8",
   "metadata": {},
   "outputs": [
    {
     "name": "stdout",
     "output_type": "stream",
     "text": [
      "<class 'pandas.core.frame.DataFrame'>\n",
      "Int64Index: 3060 entries, 490 to 1082300\n",
      "Data columns (total 20 columns):\n",
      " #   Column                     Non-Null Count  Dtype  \n",
      "---  ------                     --------------  -----  \n",
      " 0   YearStart                  3060 non-null   int64  \n",
      " 1   YearEnd                    3060 non-null   int64  \n",
      " 2   LocationAbbr               3060 non-null   object \n",
      " 3   LocationDesc               3060 non-null   object \n",
      " 4   DataSource                 3060 non-null   object \n",
      " 5   Topic                      3060 non-null   object \n",
      " 6   Question                   3060 non-null   object \n",
      " 7   DataValueUnit              3060 non-null   object \n",
      " 8   DataValueType              3060 non-null   object \n",
      " 9   DataValue                  3056 non-null   object \n",
      " 10  DataValueAlt               3056 non-null   float64\n",
      " 11  StratificationCategory1    3060 non-null   object \n",
      " 12  Stratification1            3060 non-null   object \n",
      " 13  GeoLocation                3060 non-null   object \n",
      " 14  LocationID                 3060 non-null   int64  \n",
      " 15  TopicID                    3060 non-null   object \n",
      " 16  QuestionID                 3060 non-null   object \n",
      " 17  DataValueTypeID            3060 non-null   object \n",
      " 18  StratificationCategoryID1  3060 non-null   object \n",
      " 19  StratificationID1          3060 non-null   object \n",
      "dtypes: float64(1), int64(3), object(16)\n",
      "memory usage: 502.0+ KB\n"
     ]
    }
   ],
   "source": [
    "copd_df.info()"
   ]
  },
  {
   "cell_type": "markdown",
   "id": "cab1343a",
   "metadata": {},
   "source": [
    "The following columns contain incomplete data (fewer values than rows) and need to be examined for potential imputation: \n",
    "DataValueUnit, DataValue, DataValueAlt, DataValueFootnoteSymbol, DatavalueFootnote, LowConfidenceLimit, HighConfidenceLimit, GeoLocation."
   ]
  },
  {
   "cell_type": "code",
   "execution_count": 106,
   "id": "ed657b51",
   "metadata": {
    "scrolled": false
   },
   "outputs": [
    {
     "data": {
      "text/html": [
       "<div>\n",
       "<style scoped>\n",
       "    .dataframe tbody tr th:only-of-type {\n",
       "        vertical-align: middle;\n",
       "    }\n",
       "\n",
       "    .dataframe tbody tr th {\n",
       "        vertical-align: top;\n",
       "    }\n",
       "\n",
       "    .dataframe thead th {\n",
       "        text-align: right;\n",
       "    }\n",
       "</style>\n",
       "<table border=\"1\" class=\"dataframe\">\n",
       "  <thead>\n",
       "    <tr style=\"text-align: right;\">\n",
       "      <th></th>\n",
       "      <th>YearStart</th>\n",
       "      <th>YearEnd</th>\n",
       "      <th>LocationAbbr</th>\n",
       "      <th>LocationDesc</th>\n",
       "      <th>DataSource</th>\n",
       "      <th>Topic</th>\n",
       "      <th>Question</th>\n",
       "      <th>DataValueUnit</th>\n",
       "      <th>DataValueType</th>\n",
       "      <th>DataValue</th>\n",
       "      <th>DataValueAlt</th>\n",
       "      <th>StratificationCategory1</th>\n",
       "      <th>Stratification1</th>\n",
       "      <th>GeoLocation</th>\n",
       "      <th>LocationID</th>\n",
       "      <th>TopicID</th>\n",
       "      <th>QuestionID</th>\n",
       "      <th>DataValueTypeID</th>\n",
       "      <th>StratificationCategoryID1</th>\n",
       "      <th>StratificationID1</th>\n",
       "    </tr>\n",
       "  </thead>\n",
       "  <tbody>\n",
       "    <tr>\n",
       "      <th>798873</th>\n",
       "      <td>2019</td>\n",
       "      <td>2019</td>\n",
       "      <td>NJ</td>\n",
       "      <td>New Jersey</td>\n",
       "      <td>BRFSS</td>\n",
       "      <td>Chronic Obstructive Pulmonary Disease</td>\n",
       "      <td>Prevalence of chronic obstructive pulmonary di...</td>\n",
       "      <td>%</td>\n",
       "      <td>Crude Prevalence</td>\n",
       "      <td>NaN</td>\n",
       "      <td>NaN</td>\n",
       "      <td>Overall</td>\n",
       "      <td>Overall</td>\n",
       "      <td>POINT (-74.27369128799967 40.13057004800049)</td>\n",
       "      <td>34</td>\n",
       "      <td>COPD</td>\n",
       "      <td>COPD2_0_1</td>\n",
       "      <td>CRDPREV</td>\n",
       "      <td>OVERALL</td>\n",
       "      <td>OVR</td>\n",
       "    </tr>\n",
       "    <tr>\n",
       "      <th>800122</th>\n",
       "      <td>2019</td>\n",
       "      <td>2019</td>\n",
       "      <td>NJ</td>\n",
       "      <td>New Jersey</td>\n",
       "      <td>BRFSS</td>\n",
       "      <td>Chronic Obstructive Pulmonary Disease</td>\n",
       "      <td>Prevalence of current smoking among adults &gt;= ...</td>\n",
       "      <td>%</td>\n",
       "      <td>Crude Prevalence</td>\n",
       "      <td>NaN</td>\n",
       "      <td>NaN</td>\n",
       "      <td>Overall</td>\n",
       "      <td>Overall</td>\n",
       "      <td>POINT (-74.27369128799967 40.13057004800049)</td>\n",
       "      <td>34</td>\n",
       "      <td>COPD</td>\n",
       "      <td>COPD3_0_1</td>\n",
       "      <td>CRDPREV</td>\n",
       "      <td>OVERALL</td>\n",
       "      <td>OVR</td>\n",
       "    </tr>\n",
       "    <tr>\n",
       "      <th>800158</th>\n",
       "      <td>2019</td>\n",
       "      <td>2019</td>\n",
       "      <td>NJ</td>\n",
       "      <td>New Jersey</td>\n",
       "      <td>BRFSS</td>\n",
       "      <td>Chronic Obstructive Pulmonary Disease</td>\n",
       "      <td>Prevalence of chronic obstructive pulmonary di...</td>\n",
       "      <td>%</td>\n",
       "      <td>Crude Prevalence</td>\n",
       "      <td>NaN</td>\n",
       "      <td>NaN</td>\n",
       "      <td>Overall</td>\n",
       "      <td>Overall</td>\n",
       "      <td>POINT (-74.27369128799967 40.13057004800049)</td>\n",
       "      <td>34</td>\n",
       "      <td>COPD</td>\n",
       "      <td>COPD2_0</td>\n",
       "      <td>CRDPREV</td>\n",
       "      <td>OVERALL</td>\n",
       "      <td>OVR</td>\n",
       "    </tr>\n",
       "    <tr>\n",
       "      <th>805898</th>\n",
       "      <td>2019</td>\n",
       "      <td>2019</td>\n",
       "      <td>NJ</td>\n",
       "      <td>New Jersey</td>\n",
       "      <td>BRFSS</td>\n",
       "      <td>Chronic Obstructive Pulmonary Disease</td>\n",
       "      <td>Prevalence of current smoking among adults &gt;= ...</td>\n",
       "      <td>%</td>\n",
       "      <td>Crude Prevalence</td>\n",
       "      <td>NaN</td>\n",
       "      <td>NaN</td>\n",
       "      <td>Overall</td>\n",
       "      <td>Overall</td>\n",
       "      <td>POINT (-74.27369128799967 40.13057004800049)</td>\n",
       "      <td>34</td>\n",
       "      <td>COPD</td>\n",
       "      <td>COPD3_0</td>\n",
       "      <td>CRDPREV</td>\n",
       "      <td>OVERALL</td>\n",
       "      <td>OVR</td>\n",
       "    </tr>\n",
       "  </tbody>\n",
       "</table>\n",
       "</div>"
      ],
      "text/plain": [
       "        YearStart  YearEnd LocationAbbr LocationDesc DataSource  \\\n",
       "798873       2019     2019           NJ   New Jersey      BRFSS   \n",
       "800122       2019     2019           NJ   New Jersey      BRFSS   \n",
       "800158       2019     2019           NJ   New Jersey      BRFSS   \n",
       "805898       2019     2019           NJ   New Jersey      BRFSS   \n",
       "\n",
       "                                        Topic  \\\n",
       "798873  Chronic Obstructive Pulmonary Disease   \n",
       "800122  Chronic Obstructive Pulmonary Disease   \n",
       "800158  Chronic Obstructive Pulmonary Disease   \n",
       "805898  Chronic Obstructive Pulmonary Disease   \n",
       "\n",
       "                                                 Question DataValueUnit  \\\n",
       "798873  Prevalence of chronic obstructive pulmonary di...             %   \n",
       "800122  Prevalence of current smoking among adults >= ...             %   \n",
       "800158  Prevalence of chronic obstructive pulmonary di...             %   \n",
       "805898  Prevalence of current smoking among adults >= ...             %   \n",
       "\n",
       "           DataValueType DataValue  DataValueAlt StratificationCategory1  \\\n",
       "798873  Crude Prevalence       NaN           NaN                 Overall   \n",
       "800122  Crude Prevalence       NaN           NaN                 Overall   \n",
       "800158  Crude Prevalence       NaN           NaN                 Overall   \n",
       "805898  Crude Prevalence       NaN           NaN                 Overall   \n",
       "\n",
       "       Stratification1                                   GeoLocation  \\\n",
       "798873         Overall  POINT (-74.27369128799967 40.13057004800049)   \n",
       "800122         Overall  POINT (-74.27369128799967 40.13057004800049)   \n",
       "800158         Overall  POINT (-74.27369128799967 40.13057004800049)   \n",
       "805898         Overall  POINT (-74.27369128799967 40.13057004800049)   \n",
       "\n",
       "        LocationID TopicID QuestionID DataValueTypeID  \\\n",
       "798873          34    COPD  COPD2_0_1         CRDPREV   \n",
       "800122          34    COPD  COPD3_0_1         CRDPREV   \n",
       "800158          34    COPD    COPD2_0         CRDPREV   \n",
       "805898          34    COPD    COPD3_0         CRDPREV   \n",
       "\n",
       "       StratificationCategoryID1 StratificationID1  \n",
       "798873                   OVERALL               OVR  \n",
       "800122                   OVERALL               OVR  \n",
       "800158                   OVERALL               OVR  \n",
       "805898                   OVERALL               OVR  "
      ]
     },
     "execution_count": 106,
     "metadata": {},
     "output_type": "execute_result"
    }
   ],
   "source": [
    "copd_df[copd_df.DataValue.isnull()]"
   ]
  },
  {
   "cell_type": "markdown",
   "id": "fc2fd40b",
   "metadata": {},
   "source": [
    "The 2019 data is missing for NJ. Leave is as Nan - any other imputed value would be misleading."
   ]
  },
  {
   "cell_type": "markdown",
   "id": "b535218e",
   "metadata": {},
   "source": [
    "### Tobacco"
   ]
  },
  {
   "cell_type": "code",
   "execution_count": 68,
   "id": "26a145d3",
   "metadata": {},
   "outputs": [
    {
     "data": {
      "text/plain": [
       "array(['Amount of tobacco product excise tax',\n",
       "       'Current smoking among adults aged >= 18 years',\n",
       "       'Sale of cigarette packs',\n",
       "       'Current smokeless tobacco use among youth',\n",
       "       'Cigarette smoking before pregnancy',\n",
       "       'Percent tobacco revenue to fund at CDC recommended level',\n",
       "       'Current cigarette smoking among youth',\n",
       "       'Secondary schools that have a comprehensive tobacco-free school policy in place',\n",
       "       'Proportion of the population protected by a comprehensive smoke-free policy prohibiting smoking in all indoor areas of workplaces and public places, including restaurants and bars',\n",
       "       'States that allow stronger local tobacco control and prevention laws',\n",
       "       'States with strong polices that require retail licenses to sell tobacco products',\n",
       "       'Current smokeless tobacco use among adults aged >= 18 years',\n",
       "       'Pneumococcal vaccination among noninstitutionalized adults aged 18-64 years who smoke',\n",
       "       'Quit attempts in the past year among current smokers',\n",
       "       'Pneumococcal vaccination among noninstitutionalized adults aged >= 65 years who smoke',\n",
       "       'Current cigarette smoking among women aged 18-44 years'],\n",
       "      dtype=object)"
      ]
     },
     "execution_count": 68,
     "metadata": {},
     "output_type": "execute_result"
    }
   ],
   "source": [
    "cdi_df[cdi_df['Topic'] == 'Tobacco']['Question'].unique()"
   ]
  },
  {
   "cell_type": "markdown",
   "id": "de41112a",
   "metadata": {},
   "source": [
    "There is definately interesting data here - but we already have smoking prevalence data in the COPD dataset. I don't see a need right now to dig deeper that than."
   ]
  },
  {
   "cell_type": "markdown",
   "id": "e04aa092",
   "metadata": {},
   "source": [
    "We have three dataframes that we have partitioned:\n",
    "- asthma_df\n",
    "- cancer_df\n",
    "- copd_df"
   ]
  },
  {
   "cell_type": "markdown",
   "id": "90fdd620",
   "metadata": {},
   "source": [
    "Lets see if we can align these and then join them"
   ]
  },
  {
   "cell_type": "code",
   "execution_count": 112,
   "id": "b90b2e00",
   "metadata": {},
   "outputs": [
    {
     "name": "stdout",
     "output_type": "stream",
     "text": [
      "asthma dataframe has shape:  (510, 20)\n",
      "cancer dataframe has shape:  (714, 20)\n",
      "COPD dataframe has shape:  (3060, 20)\n"
     ]
    }
   ],
   "source": [
    "print('asthma dataframe has shape: ', asthma_df.shape)\n",
    "print('cancer dataframe has shape: ', cancer_df.shape)\n",
    "print('COPD dataframe has shape: ', copd_df.shape)"
   ]
  },
  {
   "cell_type": "markdown",
   "id": "137e1785",
   "metadata": {},
   "source": [
    "Colums all align, so lets concat these together and look"
   ]
  },
  {
   "cell_type": "code",
   "execution_count": 123,
   "id": "109f2095",
   "metadata": {
    "scrolled": false
   },
   "outputs": [],
   "source": [
    "temp = pd.concat([asthma_df, cancer_df])\n",
    "cdi_df = pd.concat([temp,copd_df]).reset_index(drop=True)"
   ]
  },
  {
   "cell_type": "code",
   "execution_count": 125,
   "id": "64f80212",
   "metadata": {},
   "outputs": [
    {
     "data": {
      "text/html": [
       "<div>\n",
       "<style scoped>\n",
       "    .dataframe tbody tr th:only-of-type {\n",
       "        vertical-align: middle;\n",
       "    }\n",
       "\n",
       "    .dataframe tbody tr th {\n",
       "        vertical-align: top;\n",
       "    }\n",
       "\n",
       "    .dataframe thead th {\n",
       "        text-align: right;\n",
       "    }\n",
       "</style>\n",
       "<table border=\"1\" class=\"dataframe\">\n",
       "  <thead>\n",
       "    <tr style=\"text-align: right;\">\n",
       "      <th></th>\n",
       "      <th>YearStart</th>\n",
       "      <th>YearEnd</th>\n",
       "      <th>LocationAbbr</th>\n",
       "      <th>LocationDesc</th>\n",
       "      <th>DataSource</th>\n",
       "      <th>Topic</th>\n",
       "      <th>Question</th>\n",
       "      <th>DataValueUnit</th>\n",
       "      <th>DataValueType</th>\n",
       "      <th>DataValue</th>\n",
       "      <th>DataValueAlt</th>\n",
       "      <th>StratificationCategory1</th>\n",
       "      <th>Stratification1</th>\n",
       "      <th>GeoLocation</th>\n",
       "      <th>LocationID</th>\n",
       "      <th>TopicID</th>\n",
       "      <th>QuestionID</th>\n",
       "      <th>DataValueTypeID</th>\n",
       "      <th>StratificationCategoryID1</th>\n",
       "      <th>StratificationID1</th>\n",
       "    </tr>\n",
       "  </thead>\n",
       "  <tbody>\n",
       "    <tr>\n",
       "      <th>61</th>\n",
       "      <td>2016</td>\n",
       "      <td>2016</td>\n",
       "      <td>DC</td>\n",
       "      <td>District of Columbia</td>\n",
       "      <td>BRFSS</td>\n",
       "      <td>Asthma</td>\n",
       "      <td>Current asthma prevalence among adults aged &gt;=...</td>\n",
       "      <td>%</td>\n",
       "      <td>Crude Prevalence</td>\n",
       "      <td>9.8</td>\n",
       "      <td>9.8</td>\n",
       "      <td>Overall</td>\n",
       "      <td>Overall</td>\n",
       "      <td>POINT (-77.036871 38.907192)</td>\n",
       "      <td>11</td>\n",
       "      <td>AST</td>\n",
       "      <td>AST1_1</td>\n",
       "      <td>CRDPREV</td>\n",
       "      <td>OVERALL</td>\n",
       "      <td>OVR</td>\n",
       "    </tr>\n",
       "    <tr>\n",
       "      <th>707</th>\n",
       "      <td>2011</td>\n",
       "      <td>2015</td>\n",
       "      <td>ID</td>\n",
       "      <td>Idaho</td>\n",
       "      <td>Death Certificate</td>\n",
       "      <td>Cancer</td>\n",
       "      <td>Cancer of the lung and bronchus, mortality</td>\n",
       "      <td>per 100,000</td>\n",
       "      <td>Average Annual Crude Rate</td>\n",
       "      <td>39.3</td>\n",
       "      <td>39.3</td>\n",
       "      <td>Overall</td>\n",
       "      <td>Overall</td>\n",
       "      <td>POINT (-114.3637300419997 43.682630005000476)</td>\n",
       "      <td>16</td>\n",
       "      <td>CAN</td>\n",
       "      <td>CAN8_2</td>\n",
       "      <td>AVGANNCRDRATE</td>\n",
       "      <td>OVERALL</td>\n",
       "      <td>OVR</td>\n",
       "    </tr>\n",
       "    <tr>\n",
       "      <th>2216</th>\n",
       "      <td>2019</td>\n",
       "      <td>2019</td>\n",
       "      <td>OH</td>\n",
       "      <td>Ohio</td>\n",
       "      <td>NVSS</td>\n",
       "      <td>Chronic Obstructive Pulmonary Disease</td>\n",
       "      <td>Mortality with chronic obstructive pulmonary d...</td>\n",
       "      <td>cases per 100,000</td>\n",
       "      <td>Crude Rate</td>\n",
       "      <td>136.9</td>\n",
       "      <td>136.9</td>\n",
       "      <td>Overall</td>\n",
       "      <td>Overall</td>\n",
       "      <td>POINT (-82.40426005599966 40.06021014100048)</td>\n",
       "      <td>39</td>\n",
       "      <td>COPD</td>\n",
       "      <td>COPD1_1</td>\n",
       "      <td>CRDRATE</td>\n",
       "      <td>OVERALL</td>\n",
       "      <td>OVR</td>\n",
       "    </tr>\n",
       "    <tr>\n",
       "      <th>2959</th>\n",
       "      <td>2017</td>\n",
       "      <td>2017</td>\n",
       "      <td>MA</td>\n",
       "      <td>Massachusetts</td>\n",
       "      <td>BRFSS</td>\n",
       "      <td>Chronic Obstructive Pulmonary Disease</td>\n",
       "      <td>Prevalence of chronic obstructive pulmonary di...</td>\n",
       "      <td>%</td>\n",
       "      <td>Crude Prevalence</td>\n",
       "      <td>5.6</td>\n",
       "      <td>5.6</td>\n",
       "      <td>Overall</td>\n",
       "      <td>Overall</td>\n",
       "      <td>POINT (-72.08269067499964 42.27687047000046)</td>\n",
       "      <td>25</td>\n",
       "      <td>COPD</td>\n",
       "      <td>COPD2_0</td>\n",
       "      <td>CRDPREV</td>\n",
       "      <td>OVERALL</td>\n",
       "      <td>OVR</td>\n",
       "    </tr>\n",
       "    <tr>\n",
       "      <th>582</th>\n",
       "      <td>2011</td>\n",
       "      <td>2015</td>\n",
       "      <td>CT</td>\n",
       "      <td>Connecticut</td>\n",
       "      <td>Statewide central cancer registries</td>\n",
       "      <td>Cancer</td>\n",
       "      <td>Cancer of the lung and bronchus, incidence</td>\n",
       "      <td>per 100,000</td>\n",
       "      <td>Average Annual Crude Rate</td>\n",
       "      <td>74.1</td>\n",
       "      <td>74.1</td>\n",
       "      <td>Overall</td>\n",
       "      <td>Overall</td>\n",
       "      <td>POINT (-72.64984095199964 41.56266102000046)</td>\n",
       "      <td>9</td>\n",
       "      <td>CAN</td>\n",
       "      <td>CAN8_1</td>\n",
       "      <td>AVGANNCRDRATE</td>\n",
       "      <td>OVERALL</td>\n",
       "      <td>OVR</td>\n",
       "    </tr>\n",
       "    <tr>\n",
       "      <th>2623</th>\n",
       "      <td>2016</td>\n",
       "      <td>2016</td>\n",
       "      <td>GA</td>\n",
       "      <td>Georgia</td>\n",
       "      <td>BRFSS</td>\n",
       "      <td>Chronic Obstructive Pulmonary Disease</td>\n",
       "      <td>Prevalence of current smoking among adults &gt;= ...</td>\n",
       "      <td>%</td>\n",
       "      <td>Crude Prevalence</td>\n",
       "      <td>35.5</td>\n",
       "      <td>35.5</td>\n",
       "      <td>Overall</td>\n",
       "      <td>Overall</td>\n",
       "      <td>POINT (-83.62758034599966 32.83968109300048)</td>\n",
       "      <td>13</td>\n",
       "      <td>COPD</td>\n",
       "      <td>COPD3_0</td>\n",
       "      <td>CRDPREV</td>\n",
       "      <td>OVERALL</td>\n",
       "      <td>OVR</td>\n",
       "    </tr>\n",
       "    <tr>\n",
       "      <th>1302</th>\n",
       "      <td>2016</td>\n",
       "      <td>2016</td>\n",
       "      <td>CA</td>\n",
       "      <td>California</td>\n",
       "      <td>NVSS</td>\n",
       "      <td>Chronic Obstructive Pulmonary Disease</td>\n",
       "      <td>Mortality with chronic obstructive pulmonary d...</td>\n",
       "      <td>cases per 100,000</td>\n",
       "      <td>Crude Rate</td>\n",
       "      <td>173.3</td>\n",
       "      <td>173.3</td>\n",
       "      <td>Overall</td>\n",
       "      <td>Overall</td>\n",
       "      <td>POINT (-120.99999953799971 37.63864012300047)</td>\n",
       "      <td>6</td>\n",
       "      <td>COPD</td>\n",
       "      <td>COPD1_2</td>\n",
       "      <td>CRDRATE</td>\n",
       "      <td>OVERALL</td>\n",
       "      <td>OVR</td>\n",
       "    </tr>\n",
       "    <tr>\n",
       "      <th>2805</th>\n",
       "      <td>2019</td>\n",
       "      <td>2019</td>\n",
       "      <td>IN</td>\n",
       "      <td>Indiana</td>\n",
       "      <td>BRFSS</td>\n",
       "      <td>Chronic Obstructive Pulmonary Disease</td>\n",
       "      <td>Prevalence of current smoking among adults &gt;= ...</td>\n",
       "      <td>%</td>\n",
       "      <td>Crude Prevalence</td>\n",
       "      <td>40.3</td>\n",
       "      <td>40.3</td>\n",
       "      <td>Overall</td>\n",
       "      <td>Overall</td>\n",
       "      <td>POINT (-86.14996019399968 39.766910452000445)</td>\n",
       "      <td>18</td>\n",
       "      <td>COPD</td>\n",
       "      <td>COPD3_0_1</td>\n",
       "      <td>CRDPREV</td>\n",
       "      <td>OVERALL</td>\n",
       "      <td>OVR</td>\n",
       "    </tr>\n",
       "    <tr>\n",
       "      <th>2995</th>\n",
       "      <td>2012</td>\n",
       "      <td>2012</td>\n",
       "      <td>MD</td>\n",
       "      <td>Maryland</td>\n",
       "      <td>BRFSS</td>\n",
       "      <td>Chronic Obstructive Pulmonary Disease</td>\n",
       "      <td>Prevalence of chronic obstructive pulmonary di...</td>\n",
       "      <td>%</td>\n",
       "      <td>Crude Prevalence</td>\n",
       "      <td>7.9</td>\n",
       "      <td>7.9</td>\n",
       "      <td>Overall</td>\n",
       "      <td>Overall</td>\n",
       "      <td>POINT (-76.60926011099963 39.29058096400047)</td>\n",
       "      <td>24</td>\n",
       "      <td>COPD</td>\n",
       "      <td>COPD2_0_1</td>\n",
       "      <td>CRDPREV</td>\n",
       "      <td>OVERALL</td>\n",
       "      <td>OVR</td>\n",
       "    </tr>\n",
       "    <tr>\n",
       "      <th>1229</th>\n",
       "      <td>2010</td>\n",
       "      <td>2010</td>\n",
       "      <td>AR</td>\n",
       "      <td>Arkansas</td>\n",
       "      <td>NVSS</td>\n",
       "      <td>Chronic Obstructive Pulmonary Disease</td>\n",
       "      <td>Mortality with chronic obstructive pulmonary d...</td>\n",
       "      <td>cases per 100,000</td>\n",
       "      <td>Crude Rate</td>\n",
       "      <td>146.3</td>\n",
       "      <td>146.3</td>\n",
       "      <td>Overall</td>\n",
       "      <td>Overall</td>\n",
       "      <td>POINT (-92.27449074299966 34.74865012400045)</td>\n",
       "      <td>5</td>\n",
       "      <td>COPD</td>\n",
       "      <td>COPD1_1</td>\n",
       "      <td>CRDRATE</td>\n",
       "      <td>OVERALL</td>\n",
       "      <td>OVR</td>\n",
       "    </tr>\n",
       "  </tbody>\n",
       "</table>\n",
       "</div>"
      ],
      "text/plain": [
       "      YearStart  YearEnd LocationAbbr          LocationDesc  \\\n",
       "61         2016     2016           DC  District of Columbia   \n",
       "707        2011     2015           ID                 Idaho   \n",
       "2216       2019     2019           OH                  Ohio   \n",
       "2959       2017     2017           MA         Massachusetts   \n",
       "582        2011     2015           CT           Connecticut   \n",
       "2623       2016     2016           GA               Georgia   \n",
       "1302       2016     2016           CA            California   \n",
       "2805       2019     2019           IN               Indiana   \n",
       "2995       2012     2012           MD              Maryland   \n",
       "1229       2010     2010           AR              Arkansas   \n",
       "\n",
       "                               DataSource  \\\n",
       "61                                  BRFSS   \n",
       "707                     Death Certificate   \n",
       "2216                                 NVSS   \n",
       "2959                                BRFSS   \n",
       "582   Statewide central cancer registries   \n",
       "2623                                BRFSS   \n",
       "1302                                 NVSS   \n",
       "2805                                BRFSS   \n",
       "2995                                BRFSS   \n",
       "1229                                 NVSS   \n",
       "\n",
       "                                      Topic  \\\n",
       "61                                   Asthma   \n",
       "707                                  Cancer   \n",
       "2216  Chronic Obstructive Pulmonary Disease   \n",
       "2959  Chronic Obstructive Pulmonary Disease   \n",
       "582                                  Cancer   \n",
       "2623  Chronic Obstructive Pulmonary Disease   \n",
       "1302  Chronic Obstructive Pulmonary Disease   \n",
       "2805  Chronic Obstructive Pulmonary Disease   \n",
       "2995  Chronic Obstructive Pulmonary Disease   \n",
       "1229  Chronic Obstructive Pulmonary Disease   \n",
       "\n",
       "                                               Question      DataValueUnit  \\\n",
       "61    Current asthma prevalence among adults aged >=...                  %   \n",
       "707          Cancer of the lung and bronchus, mortality        per 100,000   \n",
       "2216  Mortality with chronic obstructive pulmonary d...  cases per 100,000   \n",
       "2959  Prevalence of chronic obstructive pulmonary di...                  %   \n",
       "582          Cancer of the lung and bronchus, incidence        per 100,000   \n",
       "2623  Prevalence of current smoking among adults >= ...                  %   \n",
       "1302  Mortality with chronic obstructive pulmonary d...  cases per 100,000   \n",
       "2805  Prevalence of current smoking among adults >= ...                  %   \n",
       "2995  Prevalence of chronic obstructive pulmonary di...                  %   \n",
       "1229  Mortality with chronic obstructive pulmonary d...  cases per 100,000   \n",
       "\n",
       "                  DataValueType DataValue  DataValueAlt  \\\n",
       "61             Crude Prevalence       9.8           9.8   \n",
       "707   Average Annual Crude Rate      39.3          39.3   \n",
       "2216                 Crude Rate     136.9         136.9   \n",
       "2959           Crude Prevalence       5.6           5.6   \n",
       "582   Average Annual Crude Rate      74.1          74.1   \n",
       "2623           Crude Prevalence      35.5          35.5   \n",
       "1302                 Crude Rate     173.3         173.3   \n",
       "2805           Crude Prevalence      40.3          40.3   \n",
       "2995           Crude Prevalence       7.9           7.9   \n",
       "1229                 Crude Rate     146.3         146.3   \n",
       "\n",
       "     StratificationCategory1 Stratification1  \\\n",
       "61                   Overall         Overall   \n",
       "707                  Overall         Overall   \n",
       "2216                 Overall         Overall   \n",
       "2959                 Overall         Overall   \n",
       "582                  Overall         Overall   \n",
       "2623                 Overall         Overall   \n",
       "1302                 Overall         Overall   \n",
       "2805                 Overall         Overall   \n",
       "2995                 Overall         Overall   \n",
       "1229                 Overall         Overall   \n",
       "\n",
       "                                        GeoLocation  LocationID TopicID  \\\n",
       "61                     POINT (-77.036871 38.907192)          11     AST   \n",
       "707   POINT (-114.3637300419997 43.682630005000476)          16     CAN   \n",
       "2216   POINT (-82.40426005599966 40.06021014100048)          39    COPD   \n",
       "2959   POINT (-72.08269067499964 42.27687047000046)          25    COPD   \n",
       "582    POINT (-72.64984095199964 41.56266102000046)           9     CAN   \n",
       "2623   POINT (-83.62758034599966 32.83968109300048)          13    COPD   \n",
       "1302  POINT (-120.99999953799971 37.63864012300047)           6    COPD   \n",
       "2805  POINT (-86.14996019399968 39.766910452000445)          18    COPD   \n",
       "2995   POINT (-76.60926011099963 39.29058096400047)          24    COPD   \n",
       "1229   POINT (-92.27449074299966 34.74865012400045)           5    COPD   \n",
       "\n",
       "     QuestionID DataValueTypeID StratificationCategoryID1 StratificationID1  \n",
       "61       AST1_1         CRDPREV                   OVERALL               OVR  \n",
       "707      CAN8_2   AVGANNCRDRATE                   OVERALL               OVR  \n",
       "2216    COPD1_1         CRDRATE                   OVERALL               OVR  \n",
       "2959    COPD2_0         CRDPREV                   OVERALL               OVR  \n",
       "582      CAN8_1   AVGANNCRDRATE                   OVERALL               OVR  \n",
       "2623    COPD3_0         CRDPREV                   OVERALL               OVR  \n",
       "1302    COPD1_2         CRDRATE                   OVERALL               OVR  \n",
       "2805  COPD3_0_1         CRDPREV                   OVERALL               OVR  \n",
       "2995  COPD2_0_1         CRDPREV                   OVERALL               OVR  \n",
       "1229    COPD1_1         CRDRATE                   OVERALL               OVR  "
      ]
     },
     "execution_count": 125,
     "metadata": {},
     "output_type": "execute_result"
    }
   ],
   "source": [
    "cdi_df.sample(10)"
   ]
  },
  {
   "cell_type": "markdown",
   "id": "07d469a6",
   "metadata": {},
   "source": [
    "All seems to be in order."
   ]
  },
  {
   "cell_type": "markdown",
   "id": "d105f0dc",
   "metadata": {},
   "source": [
    "#### Save dataframe\n",
    "Save the data back to the interim store, overwriting what is there"
   ]
  },
  {
   "cell_type": "code",
   "execution_count": 126,
   "id": "f1c8ce4c",
   "metadata": {},
   "outputs": [
    {
     "name": "stdout",
     "output_type": "stream",
     "text": [
      "Writing file.  \"../data/interim/US_Chronic_Disease_Indicators_CDI.csv\"\n"
     ]
    }
   ],
   "source": [
    "# save the data to interim dir\n",
    "datapath = '../data/interim/'\n",
    "save_file(cdi_df, 'US_Chronic_Disease_Indicators_CDI.csv', datapath)"
   ]
  }
 ],
 "metadata": {
  "kernelspec": {
   "display_name": "Python 3 (ipykernel)",
   "language": "python",
   "name": "python3"
  },
  "language_info": {
   "codemirror_mode": {
    "name": "ipython",
    "version": 3
   },
   "file_extension": ".py",
   "mimetype": "text/x-python",
   "name": "python",
   "nbconvert_exporter": "python",
   "pygments_lexer": "ipython3",
   "version": "3.9.12"
  }
 },
 "nbformat": 4,
 "nbformat_minor": 5
}
