{
 "cells": [
  {
   "cell_type": "code",
   "execution_count": 1,
   "id": "daf9680a",
   "metadata": {},
   "outputs": [],
   "source": [
    "import pandas as pd\n",
    "import sqlite3\n",
    "from sqlite3 import Error"
   ]
  },
  {
   "cell_type": "code",
   "execution_count": 2,
   "id": "731a1e34",
   "metadata": {},
   "outputs": [],
   "source": [
    "def create_connection():\n",
    "    \"\"\" create a database connection to a database that resides\n",
    "        in the memory\n",
    "    \"\"\"\n",
    "    conn = None;\n",
    "    try:\n",
    "        conn = sqlite3.connect(':memory:')\n",
    "        print('loaded sqlite3 version =',sqlite3.version)\n",
    "    except Error as e:\n",
    "        print(e)\n",
    "    return conn"
   ]
  },
  {
   "cell_type": "code",
   "execution_count": 3,
   "id": "e272fa1b",
   "metadata": {},
   "outputs": [
    {
     "name": "stdout",
     "output_type": "stream",
     "text": [
      "loaded sqlite3 version = 2.6.0\n"
     ]
    }
   ],
   "source": [
    "conn = create_connection()\n",
    "curr = conn.cursor()"
   ]
  },
  {
   "cell_type": "code",
   "execution_count": 4,
   "id": "1c198ca5",
   "metadata": {},
   "outputs": [
    {
     "data": {
      "text/plain": [
       "<sqlite3.Cursor at 0x7ff0cacdfe30>"
      ]
     },
     "execution_count": 4,
     "metadata": {},
     "output_type": "execute_result"
    }
   ],
   "source": [
    "# load the SQL ddf from PHPMyAdmin export\n",
    "# __NOTE__: I needed to remove the string 'ENGINE=InnoDB DEFAULT CHARSET=utf8' from \n",
    "# each create table statement in order to get data to load.\n",
    "sql_file = open(\"country-club-db.sql\")\n",
    "sql_as_string = sql_file.read()\n",
    "curr.executescript(sql_as_string)"
   ]
  },
  {
   "cell_type": "code",
   "execution_count": 5,
   "id": "c86dfbce",
   "metadata": {},
   "outputs": [
    {
     "name": "stdout",
     "output_type": "stream",
     "text": [
      "('Tracy',)\n"
     ]
    }
   ],
   "source": [
    "# this is an example of executing a query directly on database\n",
    "for row in curr.execute(\"SELECT firstname FROM Members where firstname = 'Tracy';\"):\n",
    "    print(row)"
   ]
  },
  {
   "cell_type": "code",
   "execution_count": 6,
   "id": "22f6ffd3",
   "metadata": {},
   "outputs": [
    {
     "data": {
      "text/html": [
       "<div>\n",
       "<style scoped>\n",
       "    .dataframe tbody tr th:only-of-type {\n",
       "        vertical-align: middle;\n",
       "    }\n",
       "\n",
       "    .dataframe tbody tr th {\n",
       "        vertical-align: top;\n",
       "    }\n",
       "\n",
       "    .dataframe thead th {\n",
       "        text-align: right;\n",
       "    }\n",
       "</style>\n",
       "<table border=\"1\" class=\"dataframe\">\n",
       "  <thead>\n",
       "    <tr style=\"text-align: right;\">\n",
       "      <th></th>\n",
       "      <th>facid</th>\n",
       "      <th>name</th>\n",
       "      <th>membercost</th>\n",
       "      <th>guestcost</th>\n",
       "      <th>initialoutlay</th>\n",
       "      <th>monthlymaintenance</th>\n",
       "    </tr>\n",
       "  </thead>\n",
       "  <tbody>\n",
       "    <tr>\n",
       "      <th>0</th>\n",
       "      <td>0</td>\n",
       "      <td>Tennis Court 1</td>\n",
       "      <td>5.0</td>\n",
       "      <td>25.0</td>\n",
       "      <td>10000</td>\n",
       "      <td>200</td>\n",
       "    </tr>\n",
       "    <tr>\n",
       "      <th>1</th>\n",
       "      <td>1</td>\n",
       "      <td>Tennis Court 2</td>\n",
       "      <td>5.0</td>\n",
       "      <td>25.0</td>\n",
       "      <td>8000</td>\n",
       "      <td>200</td>\n",
       "    </tr>\n",
       "    <tr>\n",
       "      <th>2</th>\n",
       "      <td>2</td>\n",
       "      <td>Badminton Court</td>\n",
       "      <td>0.0</td>\n",
       "      <td>15.5</td>\n",
       "      <td>4000</td>\n",
       "      <td>50</td>\n",
       "    </tr>\n",
       "    <tr>\n",
       "      <th>3</th>\n",
       "      <td>3</td>\n",
       "      <td>Table Tennis</td>\n",
       "      <td>0.0</td>\n",
       "      <td>5.0</td>\n",
       "      <td>320</td>\n",
       "      <td>10</td>\n",
       "    </tr>\n",
       "    <tr>\n",
       "      <th>4</th>\n",
       "      <td>4</td>\n",
       "      <td>Massage Room 1</td>\n",
       "      <td>9.9</td>\n",
       "      <td>80.0</td>\n",
       "      <td>4000</td>\n",
       "      <td>3000</td>\n",
       "    </tr>\n",
       "  </tbody>\n",
       "</table>\n",
       "</div>"
      ],
      "text/plain": [
       "   facid             name  membercost  guestcost  initialoutlay  \\\n",
       "0      0   Tennis Court 1         5.0       25.0          10000   \n",
       "1      1   Tennis Court 2         5.0       25.0           8000   \n",
       "2      2  Badminton Court         0.0       15.5           4000   \n",
       "3      3     Table Tennis         0.0        5.0            320   \n",
       "4      4   Massage Room 1         9.9       80.0           4000   \n",
       "\n",
       "   monthlymaintenance  \n",
       "0                 200  \n",
       "1                 200  \n",
       "2                  50  \n",
       "3                  10  \n",
       "4                3000  "
      ]
     },
     "execution_count": 6,
     "metadata": {},
     "output_type": "execute_result"
    }
   ],
   "source": [
    "# import Facilites table into pandas\n",
    "facilities_df = pd.DataFrame()\n",
    "facilities_df = pd.read_sql_query(\"SELECT * FROM Facilities;\", conn)\n",
    "facilities_df.head()"
   ]
  },
  {
   "cell_type": "code",
   "execution_count": 7,
   "id": "ae2ac704",
   "metadata": {},
   "outputs": [
    {
     "data": {
      "text/html": [
       "<div>\n",
       "<style scoped>\n",
       "    .dataframe tbody tr th:only-of-type {\n",
       "        vertical-align: middle;\n",
       "    }\n",
       "\n",
       "    .dataframe tbody tr th {\n",
       "        vertical-align: top;\n",
       "    }\n",
       "\n",
       "    .dataframe thead th {\n",
       "        text-align: right;\n",
       "    }\n",
       "</style>\n",
       "<table border=\"1\" class=\"dataframe\">\n",
       "  <thead>\n",
       "    <tr style=\"text-align: right;\">\n",
       "      <th></th>\n",
       "      <th>bookid</th>\n",
       "      <th>facid</th>\n",
       "      <th>memid</th>\n",
       "      <th>starttime</th>\n",
       "      <th>slots</th>\n",
       "    </tr>\n",
       "  </thead>\n",
       "  <tbody>\n",
       "    <tr>\n",
       "      <th>0</th>\n",
       "      <td>0</td>\n",
       "      <td>3</td>\n",
       "      <td>1</td>\n",
       "      <td>2012-07-03 11:00:00</td>\n",
       "      <td>2</td>\n",
       "    </tr>\n",
       "    <tr>\n",
       "      <th>1</th>\n",
       "      <td>1</td>\n",
       "      <td>4</td>\n",
       "      <td>1</td>\n",
       "      <td>2012-07-03 08:00:00</td>\n",
       "      <td>2</td>\n",
       "    </tr>\n",
       "    <tr>\n",
       "      <th>2</th>\n",
       "      <td>2</td>\n",
       "      <td>6</td>\n",
       "      <td>0</td>\n",
       "      <td>2012-07-03 18:00:00</td>\n",
       "      <td>2</td>\n",
       "    </tr>\n",
       "    <tr>\n",
       "      <th>3</th>\n",
       "      <td>3</td>\n",
       "      <td>7</td>\n",
       "      <td>1</td>\n",
       "      <td>2012-07-03 19:00:00</td>\n",
       "      <td>2</td>\n",
       "    </tr>\n",
       "    <tr>\n",
       "      <th>4</th>\n",
       "      <td>4</td>\n",
       "      <td>8</td>\n",
       "      <td>1</td>\n",
       "      <td>2012-07-03 10:00:00</td>\n",
       "      <td>1</td>\n",
       "    </tr>\n",
       "  </tbody>\n",
       "</table>\n",
       "</div>"
      ],
      "text/plain": [
       "   bookid  facid  memid            starttime  slots\n",
       "0       0      3      1  2012-07-03 11:00:00      2\n",
       "1       1      4      1  2012-07-03 08:00:00      2\n",
       "2       2      6      0  2012-07-03 18:00:00      2\n",
       "3       3      7      1  2012-07-03 19:00:00      2\n",
       "4       4      8      1  2012-07-03 10:00:00      1"
      ]
     },
     "execution_count": 7,
     "metadata": {},
     "output_type": "execute_result"
    }
   ],
   "source": [
    "# import Bookings table into pandas\n",
    "bookings_df = pd.DataFrame()\n",
    "bookings_df = pd.read_sql_query(\"SELECT * FROM Bookings;\", conn)\n",
    "bookings_df.head()"
   ]
  },
  {
   "cell_type": "code",
   "execution_count": 8,
   "id": "e2fb8657",
   "metadata": {},
   "outputs": [
    {
     "data": {
      "text/html": [
       "<div>\n",
       "<style scoped>\n",
       "    .dataframe tbody tr th:only-of-type {\n",
       "        vertical-align: middle;\n",
       "    }\n",
       "\n",
       "    .dataframe tbody tr th {\n",
       "        vertical-align: top;\n",
       "    }\n",
       "\n",
       "    .dataframe thead th {\n",
       "        text-align: right;\n",
       "    }\n",
       "</style>\n",
       "<table border=\"1\" class=\"dataframe\">\n",
       "  <thead>\n",
       "    <tr style=\"text-align: right;\">\n",
       "      <th></th>\n",
       "      <th>memid</th>\n",
       "      <th>surname</th>\n",
       "      <th>firstname</th>\n",
       "      <th>address</th>\n",
       "      <th>zipcode</th>\n",
       "      <th>telephone</th>\n",
       "      <th>recommendedby</th>\n",
       "      <th>joindate</th>\n",
       "    </tr>\n",
       "  </thead>\n",
       "  <tbody>\n",
       "    <tr>\n",
       "      <th>0</th>\n",
       "      <td>0</td>\n",
       "      <td>GUEST</td>\n",
       "      <td>GUEST</td>\n",
       "      <td>GUEST</td>\n",
       "      <td>0</td>\n",
       "      <td>(000) 000-0000</td>\n",
       "      <td></td>\n",
       "      <td>2012-07-01 00:00:00</td>\n",
       "    </tr>\n",
       "    <tr>\n",
       "      <th>1</th>\n",
       "      <td>1</td>\n",
       "      <td>Smith</td>\n",
       "      <td>Darren</td>\n",
       "      <td>8 Bloomsbury Close, Boston</td>\n",
       "      <td>4321</td>\n",
       "      <td>555-555-5555</td>\n",
       "      <td></td>\n",
       "      <td>2012-07-02 12:02:05</td>\n",
       "    </tr>\n",
       "    <tr>\n",
       "      <th>2</th>\n",
       "      <td>2</td>\n",
       "      <td>Smith</td>\n",
       "      <td>Tracy</td>\n",
       "      <td>8 Bloomsbury Close, New York</td>\n",
       "      <td>4321</td>\n",
       "      <td>555-555-5555</td>\n",
       "      <td></td>\n",
       "      <td>2012-07-02 12:08:23</td>\n",
       "    </tr>\n",
       "    <tr>\n",
       "      <th>3</th>\n",
       "      <td>3</td>\n",
       "      <td>Rownam</td>\n",
       "      <td>Tim</td>\n",
       "      <td>23 Highway Way, Boston</td>\n",
       "      <td>23423</td>\n",
       "      <td>(844) 693-0723</td>\n",
       "      <td></td>\n",
       "      <td>2012-07-03 09:32:15</td>\n",
       "    </tr>\n",
       "    <tr>\n",
       "      <th>4</th>\n",
       "      <td>4</td>\n",
       "      <td>Joplette</td>\n",
       "      <td>Janice</td>\n",
       "      <td>20 Crossing Road, New York</td>\n",
       "      <td>234</td>\n",
       "      <td>(833) 942-4710</td>\n",
       "      <td>1</td>\n",
       "      <td>2012-07-03 10:25:05</td>\n",
       "    </tr>\n",
       "  </tbody>\n",
       "</table>\n",
       "</div>"
      ],
      "text/plain": [
       "   memid   surname firstname                       address  zipcode  \\\n",
       "0      0     GUEST     GUEST                         GUEST        0   \n",
       "1      1     Smith    Darren    8 Bloomsbury Close, Boston     4321   \n",
       "2      2     Smith     Tracy  8 Bloomsbury Close, New York     4321   \n",
       "3      3    Rownam       Tim        23 Highway Way, Boston    23423   \n",
       "4      4  Joplette    Janice    20 Crossing Road, New York      234   \n",
       "\n",
       "        telephone recommendedby             joindate  \n",
       "0  (000) 000-0000                2012-07-01 00:00:00  \n",
       "1    555-555-5555                2012-07-02 12:02:05  \n",
       "2    555-555-5555                2012-07-02 12:08:23  \n",
       "3  (844) 693-0723                2012-07-03 09:32:15  \n",
       "4  (833) 942-4710             1  2012-07-03 10:25:05  "
      ]
     },
     "execution_count": 8,
     "metadata": {},
     "output_type": "execute_result"
    }
   ],
   "source": [
    "# import Members table into pandas\n",
    "members_df = pd.DataFrame()\n",
    "members_df = pd.read_sql_query(\"SELECT * FROM Members;\", conn)\n",
    "members_df.head()"
   ]
  },
  {
   "cell_type": "code",
   "execution_count": null,
   "id": "5a19dd0a",
   "metadata": {},
   "outputs": [],
   "source": []
  },
  {
   "cell_type": "markdown",
   "id": "ccc4a27a",
   "metadata": {},
   "source": [
    "### Assignment Questions"
   ]
  },
  {
   "cell_type": "markdown",
   "id": "bbc828ed",
   "metadata": {},
   "source": [
    "Q10: Produce a list of facilities with a total revenue less than 1000.\n",
    "The output of facility name and total revenue, sorted by revenue. Remember\n",
    "that there's a different cost for guests and members!"
   ]
  },
  {
   "cell_type": "code",
   "execution_count": 27,
   "id": "1e40d0b5",
   "metadata": {},
   "outputs": [
    {
     "name": "stdout",
     "output_type": "stream",
     "text": [
      "['facility_name', 'total_revinue']\n",
      "--------------------------------------------------\n",
      "('Massage Room 1', 50351.600000000275)\n",
      "('Massage Room 2', 14454.599999999995)\n",
      "('Tennis Court 2', 14310)\n",
      "('Tennis Court 1', 13860)\n",
      "('Squash Court', 13468.0)\n",
      "('Badminton Court', 1906.5)\n"
     ]
    }
   ],
   "source": [
    "results = curr.execute(\n",
    "\"\"\"\n",
    "SELECT f.name AS facility_name,\n",
    "SUM(CASE \n",
    "    WHEN b.memid = 0\n",
    "    THEN f.guestcost * b.slots\n",
    "    ELSE f.membercost * b.slots\n",
    "END) AS total_revinue\n",
    "FROM Facilities as f\n",
    "INNER JOIN Bookings as b ON b.facid = f.facid\n",
    "GROUP BY f.facid HAVING \n",
    "    (SUM(CASE\n",
    "    WHEN b.memid = 0\n",
    "    THEN f.guestcost * b.slots\n",
    "    ELSE f.membercost * b.slots\n",
    "    END)) > 1000\n",
    "ORDER BY total_revinue DESC;\n",
    "\"\"\"\n",
    ")\n",
    "headers = [i[0] for i in curr.description]\n",
    "print(headers)\n",
    "print('-'*50)\n",
    "for row in results:\n",
    "    print(row)"
   ]
  },
  {
   "cell_type": "markdown",
   "id": "fe609a77",
   "metadata": {},
   "source": [
    "Q11: Produce a report of members and who recommended them in alphabetic surname,firstname order "
   ]
  },
  {
   "cell_type": "code",
   "execution_count": 29,
   "id": "8c0e1810",
   "metadata": {},
   "outputs": [
    {
     "name": "stdout",
     "output_type": "stream",
     "text": [
      "['memid', 'member_first', 'member_last', 'recommendedby_memid', 'recommender_first', 'recommender_last']\n",
      "--------------------------------------------------------------------------------\n",
      "(15, 'Florence', 'Bader', '9', 'Ponder', 'Stibbons')\n",
      "(12, 'Anne', 'Baker', '9', 'Ponder', 'Stibbons')\n",
      "(16, 'Timothy', 'Baker', '13', 'Jemima', 'Farrell')\n",
      "(8, 'Tim', 'Boothe', '3', 'Tim', 'Rownam')\n",
      "(5, 'Gerald', 'Butters', '1', 'Darren', 'Smith')\n",
      "(22, 'Joan', 'Coplin', '16', 'Timothy', 'Baker')\n",
      "(36, 'Erica', 'Crumpet', '2', 'Tracy', 'Smith')\n",
      "(7, 'Nancy', 'Dare', '4', 'Janice', 'Joplette')\n",
      "(20, 'Matthew', 'Genting', '5', 'Gerald', 'Butters')\n",
      "(35, 'John', 'Hunt', '30', 'Millicent', 'Purview')\n",
      "(11, 'David', 'Jones', '4', 'Janice', 'Joplette')\n",
      "(26, 'Douglas', 'Jones', '11', 'David', 'Jones')\n",
      "(4, 'Janice', 'Joplette', '1', 'Darren', 'Smith')\n",
      "(21, 'Anna', 'Mackenzie', '1', 'Darren', 'Smith')\n",
      "(10, 'Charles', 'Owen', '1', 'Darren', 'Smith')\n",
      "(17, 'David', 'Pinker', '13', 'Jemima', 'Farrell')\n",
      "(30, 'Millicent', 'Purview', '2', 'Tracy', 'Smith')\n",
      "(27, 'Henrietta', 'Rumney', '20', 'Matthew', 'Genting')\n",
      "(24, 'Ramnaresh', 'Sarwin', '15', 'Florence', 'Bader')\n",
      "(14, 'Jack', 'Smith', '1', 'Darren', 'Smith')\n",
      "(9, 'Ponder', 'Stibbons', '6', 'Burton', 'Tracy')\n",
      "(29, 'Henry', 'Worthington-Smyth', '2', 'Tracy', 'Smith')\n"
     ]
    }
   ],
   "source": [
    "results = curr.execute(\n",
    "\"\"\"\n",
    "SELECT DISTINCT m1.memid, m1.firstname as member_first, m1.surname as member_last, m1.recommendedby as recommendedby_memid, m2.firstname as recommender_first, m2.surname as recommender_last\n",
    "FROM Members as m1\n",
    "LEFT JOIN Members as m2 on m1.recommendedby = m2.memid where m1.recommendedby <> ''\n",
    "ORDER BY m1.surname, m1.firstname, m2.surname, m2.firstname;\n",
    "\"\"\")\n",
    "headers = [i[0] for i in curr.description]\n",
    "print(headers)\n",
    "print('-'*80)\n",
    "for row in results:\n",
    "    print(row)\n"
   ]
  },
  {
   "cell_type": "markdown",
   "id": "566dae49",
   "metadata": {},
   "source": [
    "Q12: Find the facilities with their usage by member, but not guests "
   ]
  },
  {
   "cell_type": "code",
   "execution_count": 30,
   "id": "baf3b0a2",
   "metadata": {},
   "outputs": [
    {
     "name": "stdout",
     "output_type": "stream",
     "text": [
      "['facility', 'facility_usage']\n",
      "--------------------------------------------------------------------------------\n",
      "('Badminton Court', 1086)\n",
      "('Tennis Court 1', 957)\n",
      "('Massage Room 1', 884)\n",
      "('Tennis Court 2', 882)\n",
      "('Snooker Table', 860)\n",
      "('Pool Table', 856)\n",
      "('Table Tennis', 794)\n",
      "('Squash Court', 418)\n",
      "('Massage Room 2', 54)\n"
     ]
    }
   ],
   "source": [
    "results = curr.execute(\n",
    "\"\"\"\n",
    "SELECT DISTINCT\n",
    "f.name as facility,\n",
    "SUM(CASE \n",
    "    WHEN b.memid = 0\n",
    "    THEN 0\n",
    "    ELSE b.slots\n",
    "END) AS facility_usage\n",
    "FROM Bookings as b\n",
    "INNER JOIN Facilities AS f ON b.facid = f.facid\n",
    "GROUP BY b.facid\n",
    "ORDER BY facility_usage DESC\n",
    "\"\"\")\n",
    "headers = [i[0] for i in curr.description]\n",
    "print(headers)\n",
    "print('-'*80)\n",
    "for row in results:\n",
    "    print(row)"
   ]
  },
  {
   "cell_type": "markdown",
   "id": "0d050b86",
   "metadata": {},
   "source": [
    "Q13: Find the facilities usage by month, but not guests"
   ]
  },
  {
   "cell_type": "code",
   "execution_count": 35,
   "id": "9ab8d9ec",
   "metadata": {},
   "outputs": [
    {
     "name": "stdout",
     "output_type": "stream",
     "text": [
      "['facility', 'month', 'monthly_facility_usage']\n",
      "--------------------------------------------------------------------------------\n",
      "('Badminton Court', '07', 165)\n",
      "('Badminton Court', '08', 414)\n",
      "('Badminton Court', '09', 507)\n",
      "('Massage Room 1', '07', 166)\n",
      "('Massage Room 1', '08', 316)\n",
      "('Massage Room 1', '09', 402)\n",
      "('Massage Room 2', '07', 8)\n",
      "('Massage Room 2', '08', 18)\n",
      "('Massage Room 2', '09', 28)\n",
      "('Pool Table', '07', 110)\n",
      "('Pool Table', '08', 303)\n",
      "('Pool Table', '09', 443)\n",
      "('Snooker Table', '07', 140)\n",
      "('Snooker Table', '08', 316)\n",
      "('Snooker Table', '09', 404)\n",
      "('Squash Court', '07', 50)\n",
      "('Squash Court', '08', 184)\n",
      "('Squash Court', '09', 184)\n",
      "('Table Tennis', '07', 98)\n",
      "('Table Tennis', '08', 296)\n",
      "('Table Tennis', '09', 400)\n",
      "('Tennis Court 1', '07', 201)\n",
      "('Tennis Court 1', '08', 339)\n",
      "('Tennis Court 1', '09', 417)\n",
      "('Tennis Court 2', '07', 123)\n",
      "('Tennis Court 2', '08', 345)\n",
      "('Tennis Court 2', '09', 414)\n"
     ]
    }
   ],
   "source": [
    "results = curr.execute(\n",
    "\"\"\"\n",
    "SELECT DISTINCT\n",
    "f.name as facility,\n",
    "(strftime('%m', b.starttime)) AS month, \n",
    "SUM(CASE \n",
    "    WHEN b.memid = 0\n",
    "    THEN 0\n",
    "    ELSE b.slots\n",
    "END) AS monthly_facility_usage\n",
    "FROM Bookings as b\n",
    "INNER JOIN Facilities AS f ON b.facid = f.facid\n",
    "GROUP BY b.facid, month\n",
    "ORDER BY facility, month\n",
    "\"\"\")\n",
    "headers = [i[0] for i in curr.description]\n",
    "print(headers)\n",
    "print('-'*80)\n",
    "for row in results:\n",
    "    print(row)"
   ]
  },
  {
   "cell_type": "code",
   "execution_count": null,
   "id": "ef6b95f7",
   "metadata": {},
   "outputs": [],
   "source": [
    "# Be sure to close the connection\n",
    "curr.close()\n",
    "conn.close()"
   ]
  },
  {
   "cell_type": "code",
   "execution_count": null,
   "id": "4d0be33e",
   "metadata": {},
   "outputs": [],
   "source": []
  }
 ],
 "metadata": {
  "kernelspec": {
   "display_name": "Python 3 (ipykernel)",
   "language": "python",
   "name": "python3"
  },
  "language_info": {
   "codemirror_mode": {
    "name": "ipython",
    "version": 3
   },
   "file_extension": ".py",
   "mimetype": "text/x-python",
   "name": "python",
   "nbconvert_exporter": "python",
   "pygments_lexer": "ipython3",
   "version": "3.9.12"
  }
 },
 "nbformat": 4,
 "nbformat_minor": 5
}
